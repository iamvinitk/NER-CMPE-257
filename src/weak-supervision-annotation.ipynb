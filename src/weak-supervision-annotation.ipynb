{
 "cells": [
  {
   "cell_type": "code",
   "execution_count": 1,
   "id": "initial_id",
   "metadata": {
    "ExecuteTime": {
     "end_time": "2023-12-07T02:34:30.653192Z",
     "start_time": "2023-12-07T02:34:26.679159Z"
    }
   },
   "outputs": [],
   "source": [
    "import spacy\n",
    "import skweak\n",
    "import os\n",
    "import re"
   ]
  },
  {
   "cell_type": "code",
   "execution_count": 2,
   "outputs": [],
   "source": [
    "# read the skill.json file and for each key, update the value to a set values and to lower case and save it to a new file keywords.json\n",
    "import json\n",
    "with open('skill.json', 'r') as f:\n",
    "    data = json.load(f)\n",
    "    for key in data.keys():\n",
    "        data[key] = set(data[key])\n",
    "        data[key] = [i.lower() for i in data[key]]\n",
    "    with open('keywords.json', 'w') as f:\n",
    "        json.dump(data, f)\n",
    "features = data.keys()"
   ],
   "metadata": {
    "collapsed": false,
    "ExecuteTime": {
     "end_time": "2023-12-07T02:34:31.779485Z",
     "start_time": "2023-12-07T02:34:31.772877Z"
    }
   },
   "id": "e5f738fdb80b595f"
  },
  {
   "cell_type": "code",
   "execution_count": 3,
   "id": "4a7d80fb44a2fc57",
   "metadata": {
    "collapsed": false,
    "ExecuteTime": {
     "end_time": "2023-12-07T02:35:19.852685Z",
     "start_time": "2023-12-07T02:35:18.825766Z"
    }
   },
   "outputs": [],
   "source": [
    "nlp = spacy.load('en_core_web_md', disable=['ner', 'lemmatizer'])"
   ]
  },
  {
   "cell_type": "code",
   "execution_count": 4,
   "id": "377df098be4e29ae",
   "metadata": {
    "collapsed": false,
    "ExecuteTime": {
     "end_time": "2023-12-07T02:35:23.562588Z",
     "start_time": "2023-12-07T02:35:23.560092Z"
    }
   },
   "outputs": [],
   "source": [
    "sample_text = \"\"\"\n",
    "\n",
    "Airbnb was born in 2007 when two Hosts welcomed three guests to their San Francisco home, and has since grown to over 4 million Hosts who have welcomed more than 1 billion guest arrivals in almost every country across the globe. Every day, Hosts offer unique stays and experiences that make it possible for guests to connect with communities in a more authentic way.The Community You Will Join: \n",
    "The mission of the Airbnb Global Safety  Security (GSS) team is to ensure the safety and security of our Airfam as well as provide peace of mind for Airbnbs global community through proactive security risk management.  You will work with seasoned professionals who have extensive experience developing, implementing and leading world class security programs, to include Global Security Operations, Global Security Intelligence Center, Law Enforcement Operations, Risk Intelligence, Trust  Safety Advisory Coalition, Executive Protection, Global Travel Risk Management, Global Special Events, and Global Threat Assessment Program.\n",
    "\n",
    "Understand data needs by interfacing with fellow Analytics Engineers, Data Scientists, Data Engineers, and Business Partners\n",
    "Architect, build, and launch efficient  reliable data models and pipelines in partnership with Data Engineering\n",
    "Design and implement metrics and dimensions to enable analysis and predictive modeling\n",
    "Design and develop data resources to enable self-serve data consumption\n",
    "Build tools for auditing, error logging, and validating data tables\n",
    "Define logging needs in partnership with Data Engineering\n",
    "Define and share best practices on metric, dimension, and data model development for analytics use\n",
    "Build and improve data tooling in partnership with Data Platform teams\n",
    "Be a technical expert on data model usage\n",
    "Own and review code changes to certified metric and dimension definitions\n",
    "Manage communication of data model updates and changes across organization\n",
    "Ensure data models are fully documented, and metrics and dimensions have clear descriptions and metadata\n",
    "\n",
    "Minimum Qualifications:\n",
    "\n",
    "Passion for high data quality and scaling data science work\n",
    "6 years of relevant industry experience\n",
    "Strong skills in SQL and distributed system optimization (e.g. Spark, Presto, Hive)\n",
    "Experience in schema design and dimensional data modeling\n",
    "Experience in at least one programming language for data analysis (e.g. Python, R)\n",
    "Proven ability to succeed in both collaborative and independent work environments\n",
    "Detail-oriented and excited to learn new skills and tools\n",
    "Strong influence and relationship management skills\n",
    "\n",
    "Preferred Qualifications:\n",
    "\n",
    "Experience with an ETL framework like Airflow\n",
    "Python, Scala, Superset preferred.\n",
    "Effective story-telling  articulation skills  ability to convert analytical output into clear, concise, and persuasive insights  recommendations for technical  non-technical audience\n",
    "An eye for design when it comes to dashboards and visualization tools\n",
    "Familiarity with experimentation and machine learning technique\n",
    "\"\"\"\n",
    "sample_text = re.sub('\\\\s+', ' ', sample_text)"
   ]
  },
  {
   "cell_type": "code",
   "execution_count": 5,
   "id": "efeddcb2813d6f5f",
   "metadata": {
    "collapsed": false,
    "ExecuteTime": {
     "end_time": "2023-12-07T02:35:25.266261Z",
     "start_time": "2023-12-07T02:35:25.200491Z"
    }
   },
   "outputs": [],
   "source": [
    "doc = nlp(sample_text)"
   ]
  },
  {
   "cell_type": "code",
   "execution_count": 6,
   "id": "1f46c83ad1f1dc7",
   "metadata": {
    "collapsed": false,
    "ExecuteTime": {
     "end_time": "2023-12-07T02:35:27.686630Z",
     "start_time": "2023-12-07T02:35:25.808177Z"
    }
   },
   "outputs": [],
   "source": [
    "annotator = skweak.spacy.ModelAnnotator(\"spacy_trf\", \"en_core_web_trf\")"
   ]
  },
  {
   "cell_type": "code",
   "execution_count": 7,
   "id": "f8e8198fcf940345",
   "metadata": {
    "collapsed": false,
    "ExecuteTime": {
     "end_time": "2023-12-07T02:35:34.846702Z",
     "start_time": "2023-12-07T02:35:34.441544Z"
    }
   },
   "outputs": [],
   "source": [
    "doc = annotator(doc)"
   ]
  },
  {
   "cell_type": "code",
   "execution_count": 8,
   "id": "55ba856c0d106c26",
   "metadata": {
    "collapsed": false,
    "ExecuteTime": {
     "end_time": "2023-12-07T02:35:35.382604Z",
     "start_time": "2023-12-07T02:35:35.345130Z"
    }
   },
   "outputs": [
    {
     "data": {
      "text/plain": "<IPython.core.display.HTML object>",
      "text/html": "<span class=\"tex2jax_ignore\"><div class=\"entities\" style=\"line-height: 2.5; direction: ltr\"> \n<mark class=\"entity\" style=\"background: #7aecec; padding: 0.45em 0.6em; margin: 0 0.25em; line-height: 1; border-radius: 0.35em;\">\n    Airbnb\n    <span style=\"font-size: 0.8em; font-weight: bold; line-height: 1; border-radius: 0.35em; vertical-align: middle; margin-left: 0.5rem\">ORG</span>\n</mark>\n was born in \n<mark class=\"entity\" style=\"background: #bfe1d9; padding: 0.45em 0.6em; margin: 0 0.25em; line-height: 1; border-radius: 0.35em;\">\n    2007\n    <span style=\"font-size: 0.8em; font-weight: bold; line-height: 1; border-radius: 0.35em; vertical-align: middle; margin-left: 0.5rem\">DATE</span>\n</mark>\n when \n<mark class=\"entity\" style=\"background: #e4e7d2; padding: 0.45em 0.6em; margin: 0 0.25em; line-height: 1; border-radius: 0.35em;\">\n    two\n    <span style=\"font-size: 0.8em; font-weight: bold; line-height: 1; border-radius: 0.35em; vertical-align: middle; margin-left: 0.5rem\">CARDINAL</span>\n</mark>\n Hosts welcomed \n<mark class=\"entity\" style=\"background: #e4e7d2; padding: 0.45em 0.6em; margin: 0 0.25em; line-height: 1; border-radius: 0.35em;\">\n    three\n    <span style=\"font-size: 0.8em; font-weight: bold; line-height: 1; border-radius: 0.35em; vertical-align: middle; margin-left: 0.5rem\">CARDINAL</span>\n</mark>\n guests to their \n<mark class=\"entity\" style=\"background: #feca74; padding: 0.45em 0.6em; margin: 0 0.25em; line-height: 1; border-radius: 0.35em;\">\n    San Francisco\n    <span style=\"font-size: 0.8em; font-weight: bold; line-height: 1; border-radius: 0.35em; vertical-align: middle; margin-left: 0.5rem\">GPE</span>\n</mark>\n home, and has since grown to \n<mark class=\"entity\" style=\"background: #e4e7d2; padding: 0.45em 0.6em; margin: 0 0.25em; line-height: 1; border-radius: 0.35em;\">\n    over 4 million\n    <span style=\"font-size: 0.8em; font-weight: bold; line-height: 1; border-radius: 0.35em; vertical-align: middle; margin-left: 0.5rem\">CARDINAL</span>\n</mark>\n Hosts who have welcomed \n<mark class=\"entity\" style=\"background: #e4e7d2; padding: 0.45em 0.6em; margin: 0 0.25em; line-height: 1; border-radius: 0.35em;\">\n    more than 1 billion\n    <span style=\"font-size: 0.8em; font-weight: bold; line-height: 1; border-radius: 0.35em; vertical-align: middle; margin-left: 0.5rem\">CARDINAL</span>\n</mark>\n guest arrivals in almost every country across the globe. \n<mark class=\"entity\" style=\"background: #bfe1d9; padding: 0.45em 0.6em; margin: 0 0.25em; line-height: 1; border-radius: 0.35em;\">\n    Every day\n    <span style=\"font-size: 0.8em; font-weight: bold; line-height: 1; border-radius: 0.35em; vertical-align: middle; margin-left: 0.5rem\">DATE</span>\n</mark>\n, Hosts offer unique stays and experiences that make it possible for guests to connect with communities in a more authentic way.The Community You Will Join: The mission of the \n<mark class=\"entity\" style=\"background: #7aecec; padding: 0.45em 0.6em; margin: 0 0.25em; line-height: 1; border-radius: 0.35em;\">\n    Airbnb\n    <span style=\"font-size: 0.8em; font-weight: bold; line-height: 1; border-radius: 0.35em; vertical-align: middle; margin-left: 0.5rem\">ORG</span>\n</mark>\n Global Safety Security (GSS) team is to ensure the safety and security of our \n<mark class=\"entity\" style=\"background: #7aecec; padding: 0.45em 0.6em; margin: 0 0.25em; line-height: 1; border-radius: 0.35em;\">\n    Airfam\n    <span style=\"font-size: 0.8em; font-weight: bold; line-height: 1; border-radius: 0.35em; vertical-align: middle; margin-left: 0.5rem\">ORG</span>\n</mark>\n as well as provide peace of mind for \n<mark class=\"entity\" style=\"background: #7aecec; padding: 0.45em 0.6em; margin: 0 0.25em; line-height: 1; border-radius: 0.35em;\">\n    Airbnbs\n    <span style=\"font-size: 0.8em; font-weight: bold; line-height: 1; border-radius: 0.35em; vertical-align: middle; margin-left: 0.5rem\">ORG</span>\n</mark>\n global community through proactive security risk management. You will work with seasoned professionals who have extensive experience developing, implementing and leading world class security programs, to include \n<mark class=\"entity\" style=\"background: #7aecec; padding: 0.45em 0.6em; margin: 0 0.25em; line-height: 1; border-radius: 0.35em;\">\n    Global Security Operations\n    <span style=\"font-size: 0.8em; font-weight: bold; line-height: 1; border-radius: 0.35em; vertical-align: middle; margin-left: 0.5rem\">ORG</span>\n</mark>\n, \n<mark class=\"entity\" style=\"background: #7aecec; padding: 0.45em 0.6em; margin: 0 0.25em; line-height: 1; border-radius: 0.35em;\">\n    Global Security Intelligence Center\n    <span style=\"font-size: 0.8em; font-weight: bold; line-height: 1; border-radius: 0.35em; vertical-align: middle; margin-left: 0.5rem\">ORG</span>\n</mark>\n, \n<mark class=\"entity\" style=\"background: #7aecec; padding: 0.45em 0.6em; margin: 0 0.25em; line-height: 1; border-radius: 0.35em;\">\n    Law Enforcement Operations\n    <span style=\"font-size: 0.8em; font-weight: bold; line-height: 1; border-radius: 0.35em; vertical-align: middle; margin-left: 0.5rem\">ORG</span>\n</mark>\n, \n<mark class=\"entity\" style=\"background: #7aecec; padding: 0.45em 0.6em; margin: 0 0.25em; line-height: 1; border-radius: 0.35em;\">\n    Risk Intelligence\n    <span style=\"font-size: 0.8em; font-weight: bold; line-height: 1; border-radius: 0.35em; vertical-align: middle; margin-left: 0.5rem\">ORG</span>\n</mark>\n, Trust Safety Advisory Coalition, \n<mark class=\"entity\" style=\"background: #7aecec; padding: 0.45em 0.6em; margin: 0 0.25em; line-height: 1; border-radius: 0.35em;\">\n    Executive Protection\n    <span style=\"font-size: 0.8em; font-weight: bold; line-height: 1; border-radius: 0.35em; vertical-align: middle; margin-left: 0.5rem\">ORG</span>\n</mark>\n, \n<mark class=\"entity\" style=\"background: #7aecec; padding: 0.45em 0.6em; margin: 0 0.25em; line-height: 1; border-radius: 0.35em;\">\n    Global Travel Risk Management\n    <span style=\"font-size: 0.8em; font-weight: bold; line-height: 1; border-radius: 0.35em; vertical-align: middle; margin-left: 0.5rem\">ORG</span>\n</mark>\n, \n<mark class=\"entity\" style=\"background: #7aecec; padding: 0.45em 0.6em; margin: 0 0.25em; line-height: 1; border-radius: 0.35em;\">\n    Global Special Events\n    <span style=\"font-size: 0.8em; font-weight: bold; line-height: 1; border-radius: 0.35em; vertical-align: middle; margin-left: 0.5rem\">ORG</span>\n</mark>\n, and \n<mark class=\"entity\" style=\"background: #7aecec; padding: 0.45em 0.6em; margin: 0 0.25em; line-height: 1; border-radius: 0.35em;\">\n    Global Threat Assessment Program\n    <span style=\"font-size: 0.8em; font-weight: bold; line-height: 1; border-radius: 0.35em; vertical-align: middle; margin-left: 0.5rem\">ORG</span>\n</mark>\n. Understand data needs by interfacing with fellow Analytics Engineers, Data Scientists, Data Engineers, and Business Partners Architect, build, and launch efficient reliable data models and pipelines in partnership with \n<mark class=\"entity\" style=\"background: #7aecec; padding: 0.45em 0.6em; margin: 0 0.25em; line-height: 1; border-radius: 0.35em;\">\n    Data Engineering Design\n    <span style=\"font-size: 0.8em; font-weight: bold; line-height: 1; border-radius: 0.35em; vertical-align: middle; margin-left: 0.5rem\">ORG</span>\n</mark>\n and implement metrics and dimensions to enable analysis and predictive modeling Design and develop data resources to enable self-serve data consumption Build tools for auditing, error logging, and validating data tables Define logging needs in partnership with \n<mark class=\"entity\" style=\"background: #7aecec; padding: 0.45em 0.6em; margin: 0 0.25em; line-height: 1; border-radius: 0.35em;\">\n    Data Engineering\n    <span style=\"font-size: 0.8em; font-weight: bold; line-height: 1; border-radius: 0.35em; vertical-align: middle; margin-left: 0.5rem\">ORG</span>\n</mark>\n Define and share best practices on metric, dimension, and data model development for analytics use Build and improve data tooling in partnership with \n<mark class=\"entity\" style=\"background: #7aecec; padding: 0.45em 0.6em; margin: 0 0.25em; line-height: 1; border-radius: 0.35em;\">\n    Data Platform\n    <span style=\"font-size: 0.8em; font-weight: bold; line-height: 1; border-radius: 0.35em; vertical-align: middle; margin-left: 0.5rem\">ORG</span>\n</mark>\n teams Be a technical expert on data model usage Own and review code changes to certified metric and dimension definitions Manage communication of data model updates and changes across organization Ensure data models are fully documented, and metrics and dimensions have clear descriptions and metadata Minimum Qualifications: Passion for high data quality and scaling data science work \n<mark class=\"entity\" style=\"background: #bfe1d9; padding: 0.45em 0.6em; margin: 0 0.25em; line-height: 1; border-radius: 0.35em;\">\n    6 years\n    <span style=\"font-size: 0.8em; font-weight: bold; line-height: 1; border-radius: 0.35em; vertical-align: middle; margin-left: 0.5rem\">DATE</span>\n</mark>\n of relevant industry experience Strong skills in \n<mark class=\"entity\" style=\"background: #bfeeb7; padding: 0.45em 0.6em; margin: 0 0.25em; line-height: 1; border-radius: 0.35em;\">\n    SQL\n    <span style=\"font-size: 0.8em; font-weight: bold; line-height: 1; border-radius: 0.35em; vertical-align: middle; margin-left: 0.5rem\">PRODUCT</span>\n</mark>\n and distributed system optimization (e.g. \n<mark class=\"entity\" style=\"background: #bfeeb7; padding: 0.45em 0.6em; margin: 0 0.25em; line-height: 1; border-radius: 0.35em;\">\n    Spark\n    <span style=\"font-size: 0.8em; font-weight: bold; line-height: 1; border-radius: 0.35em; vertical-align: middle; margin-left: 0.5rem\">PRODUCT</span>\n</mark>\n, \n<mark class=\"entity\" style=\"background: #bfeeb7; padding: 0.45em 0.6em; margin: 0 0.25em; line-height: 1; border-radius: 0.35em;\">\n    Presto\n    <span style=\"font-size: 0.8em; font-weight: bold; line-height: 1; border-radius: 0.35em; vertical-align: middle; margin-left: 0.5rem\">PRODUCT</span>\n</mark>\n, \n<mark class=\"entity\" style=\"background: #bfeeb7; padding: 0.45em 0.6em; margin: 0 0.25em; line-height: 1; border-radius: 0.35em;\">\n    Hive\n    <span style=\"font-size: 0.8em; font-weight: bold; line-height: 1; border-radius: 0.35em; vertical-align: middle; margin-left: 0.5rem\">PRODUCT</span>\n</mark>\n) Experience in schema design and dimensional data modeling Experience in \n<mark class=\"entity\" style=\"background: #e4e7d2; padding: 0.45em 0.6em; margin: 0 0.25em; line-height: 1; border-radius: 0.35em;\">\n    at least one\n    <span style=\"font-size: 0.8em; font-weight: bold; line-height: 1; border-radius: 0.35em; vertical-align: middle; margin-left: 0.5rem\">CARDINAL</span>\n</mark>\n programming language for data analysis (e.g. \n<mark class=\"entity\" style=\"background: #bfeeb7; padding: 0.45em 0.6em; margin: 0 0.25em; line-height: 1; border-radius: 0.35em;\">\n    Python\n    <span style=\"font-size: 0.8em; font-weight: bold; line-height: 1; border-radius: 0.35em; vertical-align: middle; margin-left: 0.5rem\">PRODUCT</span>\n</mark>\n, \n<mark class=\"entity\" style=\"background: #bfeeb7; padding: 0.45em 0.6em; margin: 0 0.25em; line-height: 1; border-radius: 0.35em;\">\n    R\n    <span style=\"font-size: 0.8em; font-weight: bold; line-height: 1; border-radius: 0.35em; vertical-align: middle; margin-left: 0.5rem\">PRODUCT</span>\n</mark>\n) Proven ability to succeed in both collaborative and independent work environments Detail-oriented and excited to learn new skills and tools Strong influence and relationship management skills Preferred Qualifications: Experience with an ETL framework like \n<mark class=\"entity\" style=\"background: #bfeeb7; padding: 0.45em 0.6em; margin: 0 0.25em; line-height: 1; border-radius: 0.35em;\">\n    Airflow Python\n    <span style=\"font-size: 0.8em; font-weight: bold; line-height: 1; border-radius: 0.35em; vertical-align: middle; margin-left: 0.5rem\">PRODUCT</span>\n</mark>\n, \n<mark class=\"entity\" style=\"background: #bfeeb7; padding: 0.45em 0.6em; margin: 0 0.25em; line-height: 1; border-radius: 0.35em;\">\n    Scala\n    <span style=\"font-size: 0.8em; font-weight: bold; line-height: 1; border-radius: 0.35em; vertical-align: middle; margin-left: 0.5rem\">PRODUCT</span>\n</mark>\n, Superset preferred. Effective story-telling articulation skills ability to convert analytical output into clear, concise, and persuasive insights recommendations for technical non-technical audience An eye for design when it comes to dashboards and visualization tools Familiarity with experimentation and machine learning technique </div></span>"
     },
     "metadata": {},
     "output_type": "display_data"
    }
   ],
   "source": [
    "skweak.utils.display_entities(doc, \"spacy_trf\")"
   ]
  },
  {
   "cell_type": "code",
   "execution_count": 13,
   "outputs": [],
   "source": [
    "# read all the files in software-jobs dir\n",
    "files = os.listdir(\"../software-jobs/\")\n",
    "texts = []\n",
    "for file in files:\n",
    "    if file.endswith(\".json\"): \n",
    "        with open(\"../software-jobs/\" + file, \"r\") as f:\n",
    "            data = json.load(f)\n",
    "            texts.append(data['content'])"
   ],
   "metadata": {
    "collapsed": false,
    "ExecuteTime": {
     "end_time": "2023-12-07T02:38:51.741182Z",
     "start_time": "2023-12-07T02:38:50.801916Z"
    }
   },
   "id": "70bdde774533b84e"
  },
  {
   "cell_type": "code",
   "execution_count": 14,
   "outputs": [
    {
     "data": {
      "text/plain": "5407"
     },
     "execution_count": 14,
     "metadata": {},
     "output_type": "execute_result"
    }
   ],
   "source": [
    "len(texts)"
   ],
   "metadata": {
    "collapsed": false,
    "ExecuteTime": {
     "end_time": "2023-12-07T02:38:52.207488Z",
     "start_time": "2023-12-07T02:38:52.198220Z"
    }
   },
   "id": "afd98a91752f3e6c"
  },
  {
   "cell_type": "markdown",
   "source": [
    "## Gazetteer"
   ],
   "metadata": {
    "collapsed": false
   },
   "id": "df67863fda65d403"
  },
  {
   "cell_type": "code",
   "execution_count": 15,
   "outputs": [],
   "source": [
    "# pick a random index for text from texts\n",
    "import random\n",
    "random_index = random.randint(0, len(texts))\n",
    "sample_text = texts[random_index]\n",
    "doc = nlp(sample_text)"
   ],
   "metadata": {
    "collapsed": false,
    "ExecuteTime": {
     "end_time": "2023-12-07T02:38:53.649577Z",
     "start_time": "2023-12-07T02:38:53.532365Z"
    }
   },
   "id": "8d02324a99181376"
  },
  {
   "cell_type": "code",
   "execution_count": 17,
   "id": "bf5daaa2-dcd6-4af4-a855-db801164ef30",
   "metadata": {
    "ExecuteTime": {
     "end_time": "2023-12-07T02:39:12.310362Z",
     "start_time": "2023-12-07T02:39:09.901405Z"
    }
   },
   "outputs": [
    {
     "name": "stdout",
     "output_type": "stream",
     "text": [
      "Extracting data from keywords.json\n",
      "Populating trie for class PROGRAMMING_LANGUAGES (number: 64)\n",
      "Populating trie for class FRAMEWORKS&TOOLS (number: 42)\n",
      "Populating trie for class DATABASES (number: 28)\n",
      "Populating trie for class ROLES (number: 30)\n",
      "Populating trie for class OTHERS (number: 30)\n",
      "Populating trie for class PLATFORMS (number: 30)\n"
     ]
    }
   ],
   "source": [
    "tries = skweak.gazetteers.extract_json_data(\"keywords.json\", spacy_model='en_core_web_trf')"
   ]
  },
  {
   "cell_type": "code",
   "execution_count": 18,
   "outputs": [],
   "source": [
    "gazetteer_annotator = skweak.gazetteers.GazetteerAnnotator(\"keywords\", tries)"
   ],
   "metadata": {
    "collapsed": false,
    "ExecuteTime": {
     "end_time": "2023-12-07T02:39:14.791282Z",
     "start_time": "2023-12-07T02:39:14.782622Z"
    }
   },
   "id": "bae8193ccd110a95"
  },
  {
   "cell_type": "code",
   "execution_count": 19,
   "outputs": [],
   "source": [
    "doc = gazetteer_annotator(doc)"
   ],
   "metadata": {
    "collapsed": false,
    "ExecuteTime": {
     "end_time": "2023-12-07T02:39:15.439079Z",
     "start_time": "2023-12-07T02:39:15.432019Z"
    }
   },
   "id": "2bee280ee11afd13"
  },
  {
   "cell_type": "code",
   "execution_count": 20,
   "outputs": [
    {
     "data": {
      "text/plain": "<IPython.core.display.HTML object>",
      "text/html": "<span class=\"tex2jax_ignore\"><div class=\"entities\" style=\"line-height: 2.5; direction: ltr\">Two Six Technologies is seeking an experienced and motivated Requirements Manager to work within a cross-functional development team focused on advancing the Classification Management Tools (CMT) suite.<br>Job Description: As a Software Requirements Manager at Two Six Technologies, you will play a crucial role in the software development process by effectively capturing, analyzing, and managing software requirements. We are looking for a strong leader who will work closely with cross-functional teams, including software developers, product managers, quality assurance, and stakeholders, to ensure that our software products meet or exceed customer expectations. You will be responsible for defining, documenting, and maintaining software requirements, tracking changes, and ensuring proper communication and alignment between teams while helping to facilitate the \n<mark class=\"entity\" style=\"background: #ddd; padding: 0.45em 0.6em; margin: 0 0.25em; line-height: 1; border-radius: 0.35em;\">\n    agile\n    <span style=\"font-size: 0.8em; font-weight: bold; line-height: 1; border-radius: 0.35em; vertical-align: middle; margin-left: 0.5rem\">OTHERS</span>\n</mark>\n process.<br>Key Responsibilities:<br>Collaborate with product managers, business analysts, and stakeholders to gather and document software requirements, ensuring they are clear, complete, and aligned with business goals.<br>Analyze and prioritize software requirements to determine their impact on project scope, schedule, and resources.<br>Maintain a central repository for software requirements, ensuring version control and traceability throughout the software development lifecycle.<br>Ensure that all requirements are communicated effectively to development teams and serve as a liaison between product management and development.<br>Review and verify that software solutions meet the specified requirements, working closely with quality assurance teams to validate the software against requirements.<br>Monitor and manage changes to software requirements, and coordinate their impact on project timelines and budgets.<br>Facilitate and participate in requirement workshops, brainstorming sessions, and other collaborative activities to improve the overall quality of requirements.<br>Provide guidance and mentorship to junior members of the requirements management team, helping to develop their skills and knowledge.<br>Facilitate Daily stand-ups, sprint planning, and retrospectives for the Kanban/Scrum team<br>Qualifications:<br>Bachelor's degree in Computer Science, Software Engineering, or a related field. A Master's degree is a plus.<br>Proven experience (5+ years) as a Software Requirements Manager or similar role in software development.<br>In-depth knowledge of software development methodologies, such as Agile, Scrum<br>Strong analytical and problem-solving skills with the ability to understand complex business processes and translate them into clear and concise requirements.<br>Excellent communication, documentation, and presentation skills.<br>Proficiency with requirements management tools, such as JIRA, Confluence, or similar software.<br>Knowledge of best practices in software requirement gathering, analysis, and management.<br>Strong leadership and teamwork skills with the ability to work collaboratively in a cross-functional environment.<br>Attention to detail and the ability to manage multiple projects simultaneously.<br>An ideal candidate will also have:<br>Working knowledge of classification policies and of the CMT tools<br>Relevant certifications, such as Certified Software Business Analyst (CSBA) or Certified Software Requirements Analyst (CSRA), are a plus.<br>Master's degree is a plus.<br>Clearance: Requires Top Secret/SCI clearance with Active Polygraph.<br> <br> <br>Looking for other great opportunities? Check out Two Six Tech Opportunities for all our Company’s current openings! <br>Ready to make the first move towards growing your career? If so, check out the Two Six Tech Candidate Journey !  This will give you step-by-step directions on applying, what to expect during the application process, information about our rich benefits and perks along with our most frequently asked questions.  If you are undecided and would like to learn more about us and how we are contributing to essential missions, check out our  Two Six Tech News  page!  We share information about the tech world around us and how we are making an impact!  Still have questions, no worries!  You can reach us at Contact Two Six Tech , we are happy to connect and cover the information needed to assist you in reaching your next career milestone.<br> <br> <br>Two Six Technologies is an Equal Opportunity Employer and does not discriminate in employment opportunities or practices based on race (including traits historically associated with race, such as hair texture, hair type and protective hair styles (e.g., braids, twists, locs and twists)), color, religion, national origin, sex (including pregnancy, childbirth or related medical conditions and lactation), sexual orientation, gender identity or expression, age (40 and over), marital status, disability, genetic information, and protected veteran status or any other characteristic protected by applicable federal, state, or local law. <br>If you are an individual with a disability and would like to request reasonable workplace accommodation for any part of our employment process, please send an email to accomodations@twosixtech.com. Information provided will be kept confidential and used only to the extent required to provide needed reasonable accommodations.<br>Additionally, please be advised that this business uses E-Verify in its hiring practices.<br>EOE, including disability/vets. <br>By submitting the following application, I hereby certify that to the best of my knowledge, the information provided is true and accurate.<br></div></span>"
     },
     "metadata": {},
     "output_type": "display_data"
    }
   ],
   "source": [
    "skweak.utils.display_entities(doc, \"keywords\")"
   ],
   "metadata": {
    "collapsed": false,
    "ExecuteTime": {
     "end_time": "2023-12-07T02:39:15.857169Z",
     "start_time": "2023-12-07T02:39:15.832428Z"
    }
   },
   "id": "13ca5f0557f7425f"
  },
  {
   "cell_type": "markdown",
   "source": [
    "## Pipeline"
   ],
   "metadata": {
    "collapsed": false
   },
   "id": "94a5182de49e009f"
  },
  {
   "cell_type": "code",
   "execution_count": 21,
   "outputs": [],
   "source": [
    "docs = []\n",
    "for text in texts[:10]:\n",
    "    doc = nlp(text)\n",
    "    doc = annotator(doc)\n",
    "    doc = gazetteer_annotator(doc)\n",
    "    docs.append(doc)"
   ],
   "metadata": {
    "collapsed": false,
    "ExecuteTime": {
     "end_time": "2023-12-07T02:39:26.022020Z",
     "start_time": "2023-12-07T02:39:20.863904Z"
    }
   },
   "id": "ac84b1e338eb05f9"
  },
  {
   "cell_type": "code",
   "execution_count": 22,
   "outputs": [
    {
     "name": "stdout",
     "output_type": "stream",
     "text": [
      "10 5407\n"
     ]
    }
   ],
   "source": [
    "print(len(docs), len(texts))"
   ],
   "metadata": {
    "collapsed": false,
    "ExecuteTime": {
     "end_time": "2023-12-07T02:39:26.028149Z",
     "start_time": "2023-12-07T02:39:26.022887Z"
    }
   },
   "id": "c71301b658906cf8"
  },
  {
   "cell_type": "markdown",
   "source": [
    "## Hidden Markov Model"
   ],
   "metadata": {
    "collapsed": false
   },
   "id": "19516c1b880621d5"
  },
  {
   "cell_type": "code",
   "execution_count": 23,
   "outputs": [],
   "source": [
    "hmm = skweak.generative.HMM(\"hmm\", features)"
   ],
   "metadata": {
    "collapsed": false,
    "ExecuteTime": {
     "end_time": "2023-12-07T02:39:26.030009Z",
     "start_time": "2023-12-07T02:39:26.027149Z"
    }
   },
   "id": "5b3943211fe9e84e"
  },
  {
   "cell_type": "code",
   "execution_count": 24,
   "outputs": [
    {
     "name": "stdout",
     "output_type": "stream",
     "text": [
      "Starting iteration 1\n",
      "Finished E-step with 10 documents\n",
      "Starting iteration 2\n",
      "Finished E-step with 10 documents\n",
      "Starting iteration 3\n",
      "Finished E-step with 10 documents\n",
      "Starting iteration 4\n",
      "Finished E-step with 10 documents\n"
     ]
    },
    {
     "name": "stderr",
     "output_type": "stream",
     "text": [
      "         1    -115.59210867             +nan\n",
      "         2    -110.39962373      +5.19248494\n",
      "         3    -108.88601088      +1.51361285\n",
      "         4    -108.67987701      +0.20613386\n"
     ]
    }
   ],
   "source": [
    "hmm.fit(docs)"
   ],
   "metadata": {
    "collapsed": false,
    "ExecuteTime": {
     "end_time": "2023-12-07T02:39:26.211908Z",
     "start_time": "2023-12-07T02:39:26.034159Z"
    }
   },
   "id": "d98661efb770f6ed"
  },
  {
   "cell_type": "code",
   "execution_count": 25,
   "outputs": [
    {
     "data": {
      "text/plain": "<IPython.core.display.HTML object>",
      "text/html": "<span class=\"tex2jax_ignore\"><div class=\"entities\" style=\"line-height: 2.5; direction: ltr\">Als globale Unternehmensberatung mit Fokus auf die Finanzdienstleistungsbranche kombinieren wir bei Capco innovatives Denken mit einzigartigem Know-How. So divers wie unsere Mitarbeiter*, sind auch unsere Lösungen, die wir unseren Kunden anbieten. Bringe Dich ein und setze Deine Ideen bei Capco in die Tat um als…<br>Consultant* – Data Management<br>in Frankfurt am Main, Düsseldorf, München, Berlin oder Wien<br>Deine Capco Benefits<br>Du bist uns wichtig! Daher bekommst Du einen persönlichen Coach an Deine Seite gestellt, der Dich individuell fördert und unterstützt. Zudem bieten wir Dir ein umfangreiches Trainingsangebot sowie anerkannte Zertifizierungen. Mit unserer Start-Up-Mentalität und unseren flachen Hierarchien, stehen Dir alle Möglichkeiten offen. Nach Feierabend hast Du bei Teamevents oder gemeinsamen Aktivitäten die Chance, Dein Netzwerk zu erweitern und Deine Hobbies mit Kollegen* zu teilen.<br>Capco Benefits Card mit monatlicher Gutschrift<br>Bike Leasing Programm und geförderte Gesundheitschecks<br>Attraktives Mitarbeiterempfehlungsprogramm<br>Flexible Arbeitsmodelle<br>Unser Office Management in der City in FFM, direkt am Opernplatz, hält immer Erfrischungen und Überraschungen bereit<br>Deine Capco Aufgaben<br>Du begleitest herausfordernde agile Beratungsprojekte hinsichtlich Aufbau, Entwicklung und Optimierung des Data Managements von der Business Analyse und Fachkonzeption bis hin zur fachlichen Umsetzung<br>Dabei wendest Du moderne Verfahren und Technologien an, um ein hocheffizientes, transparentes und qualitativ hochwertiges Datenmanagement zu ermöglichen<br>Du unterstützt unseren Kunden bei der Umsetzung der relevanten Data Management Aktivitäten für den Wechsel von einer prozessbasierten hin zu einer datenbasierten Organisationsstruktur<br>Dieses beinhaltet insbesondere die Ausgestaltung der Data Governance Organisation, der Definition von Datenelementen, Data Lineage, Datenliefervereinbarungen und der Sicherstellung der Datenqualität<br>Schrittweise übernimmst Du mehr Verantwortung für Deine Themen sowie die Führung von Teilprojekten und kleineren Projektteams hinsichtlich Aufgaben des Data Management<br>Neben der Projektarbeit hast Du die Möglichkeit, Dich in verschiedenen internen Themen mit einzubringen, diese zu entwickeln und eigene Ideen umzusetzen<br>Dein Capco Profil<br>Ein erfolgreich abgeschlossenes Hochschulstudium der Wirtschaftswissenschaften, (Wirtschafts-) Informatik, (Wirtschafts-) Ingenieurwesen oder eines vergleichbaren Studiengangs zeichnen Dich aus<br>Idealerweise verfügst Du über relevante praktische Projekterfahrung in Bezug auf die notwendigen Vorgehensweisen und Methoden des Data Management bzw. BCBS 239<br>Du hast erste Erfahrungen bei der Konzeption und Einführung von Datenmanagement Standards und Best Practices insbesondere hinsichtlich dem Aufbau einer Data Governance Organisation mit der Einführung von Data Management Tools (z. B. Collibra, Ab Initio), Erstellung eines Datenkatalogs, Durchführung der Data Lineage oder die Konzeption und Umsetzung eines Datenqualitätsmanagements<br>Du bist teamfähig, besitzt sehr gute analytische und konzeptionelle Fähigkeiten sowie Durchsetzungsvermögen<br>Deine fließenden Deutsch- und Englischkenntnisse sowie eine uneingeschränkte Mobilität im (inter-)nationalen Raum runden Dein Profil ab<br>Bewirb Dich jetzt! Dauert nur 5 Min. Versprochen!<br>Dein Capco Recruiter*<br>Aylin Han erreichst Du am besten unter: aylin.han@capco.com<br>*Wichtig ist nur, dass wir zueinander passen (m/w/d) #beyourselfatwork</div></span>"
     },
     "metadata": {},
     "output_type": "display_data"
    }
   ],
   "source": [
    "skweak.utils.display_entities(hmm(docs[0]), \"hmm\")"
   ],
   "metadata": {
    "collapsed": false,
    "ExecuteTime": {
     "end_time": "2023-12-07T02:39:26.222026Z",
     "start_time": "2023-12-07T02:39:26.212304Z"
    }
   },
   "id": "c3b05919851dc600"
  },
  {
   "cell_type": "code",
   "execution_count": 26,
   "outputs": [],
   "source": [
    "hmm_docs = []\n",
    "for doc in docs:\n",
    "    hmm_doc = hmm(doc)\n",
    "    hmm_doc.ents = hmm_doc.spans[\"hmm\"]\n",
    "    hmm_docs.append(hmm_doc)"
   ],
   "metadata": {
    "collapsed": false,
    "ExecuteTime": {
     "end_time": "2023-12-07T02:39:26.284095Z",
     "start_time": "2023-12-07T02:39:26.223702Z"
    }
   },
   "id": "2f981faee6d112ff"
  },
  {
   "cell_type": "code",
   "execution_count": 27,
   "outputs": [
    {
     "data": {
      "text/plain": "10"
     },
     "execution_count": 27,
     "metadata": {},
     "output_type": "execute_result"
    }
   ],
   "source": [
    "len(hmm_docs)"
   ],
   "metadata": {
    "collapsed": false,
    "ExecuteTime": {
     "end_time": "2023-12-07T02:39:27.901799Z",
     "start_time": "2023-12-07T02:39:27.898282Z"
    }
   },
   "id": "487fe4fc61af76da"
  },
  {
   "cell_type": "code",
   "execution_count": 28,
   "outputs": [
    {
     "name": "stdout",
     "output_type": "stream",
     "text": [
      "Write to ../training-data/hmm_training_data.spacy...done\n"
     ]
    }
   ],
   "source": [
    "skweak.utils.docbin_writer(hmm_docs, \"../training-data/hmm_training_data.spacy\")"
   ],
   "metadata": {
    "collapsed": false,
    "ExecuteTime": {
     "end_time": "2023-12-07T02:40:18.432971Z",
     "start_time": "2023-12-07T02:40:18.391324Z"
    }
   },
   "id": "7a046d07f310d58a"
  },
  {
   "cell_type": "code",
   "execution_count": 32,
   "outputs": [
    {
     "name": "stdout",
     "output_type": "stream",
     "text": [
      "\u001B[38;5;4mℹ Saving to output directory: ../training-output\u001B[0m\r\n",
      "\u001B[38;5;4mℹ Using GPU: 0\u001B[0m\r\n",
      "\u001B[1m\r\n",
      "=========================== Initializing pipeline ===========================\u001B[0m\r\n",
      "\u001B[38;5;2m✔ Initialized pipeline\u001B[0m\r\n",
      "\u001B[1m\r\n",
      "============================= Training pipeline =============================\u001B[0m\r\n",
      "\u001B[38;5;4mℹ Pipeline: ['tok2vec', 'ner']\u001B[0m\r\n",
      "\u001B[38;5;4mℹ Initial learn rate: 0.001\u001B[0m\r\n",
      "E    #       LOSS TOK2VEC  LOSS NER  ENTS_F  ENTS_P  ENTS_R  SCORE \r\n",
      "---  ------  ------------  --------  ------  ------  ------  ------\r\n",
      "  0       0          0.00    412.40    0.00    0.00    0.00    0.00\r\n",
      " 20     200       4118.88   4858.35   50.00   50.00   50.00    0.50\r\n",
      " 40     400       1384.14     95.11  100.00  100.00  100.00    1.00\r\n",
      " 60     600          0.00      0.00  100.00  100.00  100.00    1.00\r\n",
      " 80     800          0.00      0.00  100.00  100.00  100.00    1.00\r\n",
      "100    1000          0.00      0.00  100.00  100.00  100.00    1.00\r\n",
      "120    1200          0.00      0.00  100.00  100.00  100.00    1.00\r\n",
      "140    1400          0.00      0.00  100.00  100.00  100.00    1.00\r\n",
      "160    1600          0.00      0.00  100.00  100.00  100.00    1.00\r\n",
      "180    1800          0.00      0.00  100.00  100.00  100.00    1.00\r\n",
      "200    2000          0.00      0.00  100.00  100.00  100.00    1.00\r\n",
      "\u001B[38;5;2m✔ Saved pipeline to output directory\u001B[0m\r\n",
      "../training-output/model-last\r\n"
     ]
    }
   ],
   "source": [
    "!spacy init config - --lang en --pipeline ner --optimize accuracy | \\\n",
    "spacy train - --paths.train ../training-data/hmm_training_data.spacy  --paths.dev ../training-data/hmm_training_data.spacy \\\n",
    "--initialize.vectors en_core_web_md --output ../training-output/v1 --gpu-id 0"
   ],
   "metadata": {
    "collapsed": false,
    "ExecuteTime": {
     "end_time": "2023-12-07T03:35:59.162849Z",
     "start_time": "2023-12-07T02:41:30.796770Z"
    }
   },
   "id": "55789812e7a1197c"
  },
  {
   "cell_type": "code",
   "execution_count": null,
   "outputs": [],
   "source": [],
   "metadata": {
    "collapsed": false
   },
   "id": "43ed7b9738cd677e"
  }
 ],
 "metadata": {
  "kernelspec": {
   "display_name": "Python 3 (ipykernel)",
   "language": "python",
   "name": "python3"
  },
  "language_info": {
   "codemirror_mode": {
    "name": "ipython",
    "version": 3
   },
   "file_extension": ".py",
   "mimetype": "text/x-python",
   "name": "python",
   "nbconvert_exporter": "python",
   "pygments_lexer": "ipython3",
   "version": "3.8.18"
  }
 },
 "nbformat": 4,
 "nbformat_minor": 5
}
