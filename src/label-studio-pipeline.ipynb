{
 "cells": [
  {
   "cell_type": "code",
   "execution_count": 1,
   "id": "initial_id",
   "metadata": {
    "collapsed": true,
    "ExecuteTime": {
     "end_time": "2023-12-07T04:17:41.981275Z",
     "start_time": "2023-12-07T04:17:41.964324Z"
    }
   },
   "outputs": [],
   "source": [
    "import json\n",
    "import os\n",
    "import re"
   ]
  },
  {
   "cell_type": "markdown",
   "source": [
    "# Data"
   ],
   "metadata": {
    "collapsed": false
   },
   "id": "f1818f46eef63bfe"
  },
  {
   "cell_type": "code",
   "execution_count": 2,
   "outputs": [
    {
     "name": "stdout",
     "output_type": "stream",
     "text": [
      "Number of files:  5351\n"
     ]
    }
   ],
   "source": [
    "files = os.listdir(\"../software-jobs/\")\n",
    "print(\"Number of files: \", len(files))"
   ],
   "metadata": {
    "collapsed": false,
    "ExecuteTime": {
     "end_time": "2023-12-07T04:18:06.495504Z",
     "start_time": "2023-12-07T04:18:06.466150Z"
    }
   },
   "id": "6e78569694d5387f"
  },
  {
   "cell_type": "code",
   "execution_count": 3,
   "outputs": [],
   "source": [
    "# Read all files\n",
    "data = []\n",
    "for file in files:\n",
    "    with open(\"../software-jobs/\" + file, \"r\") as f:\n",
    "        d = json.load(f)\n",
    "        data.append(d['content'])"
   ],
   "metadata": {
    "collapsed": false,
    "ExecuteTime": {
     "end_time": "2023-12-07T04:18:55.902607Z",
     "start_time": "2023-12-07T04:18:54.225017Z"
    }
   },
   "id": "df4fdac5fd1cd26a"
  },
  {
   "cell_type": "code",
   "execution_count": 5,
   "outputs": [],
   "source": [
    "with open(\"./keywords.json\", \"r\") as f:\n",
    "    keywords = json.load(f)"
   ],
   "metadata": {
    "collapsed": false,
    "ExecuteTime": {
     "end_time": "2023-12-07T04:19:44.792710Z",
     "start_time": "2023-12-07T04:19:44.786599Z"
    }
   },
   "id": "b9b1b7d4f569de76"
  },
  {
   "cell_type": "code",
   "execution_count": 6,
   "outputs": [],
   "source": [
    "def annotate_job_description(job_description):\n",
    "    annotation = {'text': job_description, 'entities': []}\n",
    "\n",
    "    for label, keyword_list in keywords.items():\n",
    "        for keyword in keyword_list:\n",
    "            pattern = re.compile(r'\\b' + re.escape(keyword) + r'\\b', re.IGNORECASE)\n",
    "            matches = pattern.finditer(job_description)\n",
    "\n",
    "            for match in matches:\n",
    "                start = match.start()\n",
    "                end = match.end()\n",
    "                annotation['entities'].append((start, end, label))\n",
    "    return annotation"
   ],
   "metadata": {
    "collapsed": false,
    "ExecuteTime": {
     "end_time": "2023-12-07T04:19:59.672614Z",
     "start_time": "2023-12-07T04:19:59.598286Z"
    }
   },
   "id": "b03d70550f0ce7b0"
  },
  {
   "cell_type": "code",
   "execution_count": 7,
   "outputs": [
    {
     "data": {
      "text/plain": "{'text': 'This is an exciting opportunity for a software engineer passionate about open source software, Linux, containers, virtualization and Ubuntu Server. Come build a rewarding, meaningful career working with the best and brightest people in technology at Canonical, a growing international software company.\\nUbuntu Server is a platform that enables amazing technology the whole world over. Applicants to this role will have the opportunity to bolster the Ubuntu Server as a platform for containers and virtual machines. They will get to work with our experienced team and have the benefits of learning and growing alongside the best engineers in the business.\\nWhat you’ll do\\nCollaborate proactively with a distributed team\\nWrite high quality code to create new features\\nDebug issues and produce high quality code to fix them\\nReview code produced by other engineers\\nDiscuss ideas and collaborate on finding good solutions\\nWork from home with global travel 2 to 4 weeks for internal and external events\\nBecome involved in the planning of new Ubuntu features, both new ideas in your areas of interest and advising on work being done elsewhere\\nAssist in the maintenance of Ubuntu Server packages. Specifically but not limited to:\\nVirtualisation (qemu, kvm, libvirt, …)\\nContainers (runc, containerd, docker, …)\\nCollaborate with other teams in the Ubuntu and Debian communities, with upstream projects, and commercially supported customers\\nCollaborate and work with our partners to make Ubuntu the best experience in the cloud\\nWho you are\\nYou love technology and working with brilliant people\\nYou have interest and experience with Container runtimes or Hipervisor software stacks (or both)\\nYou have interest and experience in packaging (Already knowing .deb or snap packaging is a plus)\\nYou are curious, articulate, and accountable\\nYou value soft skills and are passionate, enterprising, thoughtful, and self-motivated\\nYou have a Bachelor’s or equivalent in Computer Science, STEM or similar degree\\nInvolvement in open source projects or maintaining or participating distributed software in the past a plus\\nBonus: if you are familiar with an hypervisor ecosystem using rust-vmm or even better being part of such a community.\\n \\nCanonical is proud to foster a workplace free from discrimination. We truly believe that diversity of experience, perspectives, and background will lead to a better environment for our employees and a better platform for our users and customers. This is something we value deeply and we encourage everyone to come be a part of the world of Ubuntu.\\n \\n',\n 'entities': [(38, 55, 'ROLE'),\n  (2158, 2162, 'PROG_LANG'),\n  (1290, 1296, 'TECH_SKILL'),\n  (95, 100, 'TECH_SKILL'),\n  (133, 139, 'TECH_SKILL'),\n  (303, 309, 'TECH_SKILL'),\n  (450, 456, 'TECH_SKILL'),\n  (1035, 1041, 'TECH_SKILL'),\n  (1164, 1170, 'TECH_SKILL'),\n  (1337, 1343, 'TECH_SKILL'),\n  (1476, 1482, 'TECH_SKILL'),\n  (2556, 2562, 'TECH_SKILL'),\n  (1348, 1354, 'TECH_SKILL'),\n  (73, 84, 'TECH_SKILL'),\n  (2003, 2014, 'TECH_SKILL'),\n  (102, 112, 'TECH_SKILL'),\n  (482, 492, 'TECH_SKILL'),\n  (1260, 1270, 'TECH_SKILL'),\n  (114, 128, 'TECH_SKILL'),\n  (140, 146, 'TECH_SKILL'),\n  (310, 316, 'TECH_SKILL'),\n  (457, 463, 'TECH_SKILL'),\n  (1171, 1177, 'TECH_SKILL'),\n  (1510, 1515, 'TECH_SKILL'),\n  (1248, 1255, 'TECH_SKILL'),\n  (1237, 1241, 'TECH_SKILL'),\n  (1243, 1246, 'TECH_SKILL'),\n  (1278, 1288, 'TECH_SKILL'),\n  (1290, 1296, 'TECH_SKILL'),\n  (1272, 1276, 'TECH_SKILL'),\n  (73, 84, 'TECH_SKILL'),\n  (2003, 2014, 'TECH_SKILL'),\n  (2131, 2141, 'TECH_SKILL'),\n  (701, 712, 'TECH_SKILL'),\n  (2056, 2067, 'TECH_SKILL'),\n  (2056, 2076, 'TECH_SKILL'),\n  (765, 770, 'TECH_SKILL'),\n  (1620, 1629, 'TECH_SKILL'),\n  (114, 128, 'TECH_SKILL'),\n  (140, 146, 'TECH_SKILL'),\n  (310, 316, 'TECH_SKILL'),\n  (457, 463, 'TECH_SKILL'),\n  (1171, 1177, 'TECH_SKILL'),\n  (1510, 1515, 'TECH_SKILL'),\n  (670, 681, 'SOFT_SKILL'),\n  (878, 889, 'SOFT_SKILL'),\n  (1301, 1312, 'SOFT_SKILL'),\n  (1429, 1440, 'SOFT_SKILL'),\n  (1809, 1820, 'SOFT_SKILL'),\n  (1877, 1887, 'SOFT_SKILL'),\n  (56, 66, 'SOFT_SKILL'),\n  (1851, 1861, 'SOFT_SKILL'),\n  (1565, 1574, 'SOFT_SKILL'),\n  (1947, 1963, 'DEGREE'),\n  (1965, 1969, 'DEGREE')]}"
     },
     "execution_count": 7,
     "metadata": {},
     "output_type": "execute_result"
    }
   ],
   "source": [
    "annotate_job_description(data[0])"
   ],
   "metadata": {
    "collapsed": false,
    "ExecuteTime": {
     "end_time": "2023-12-07T04:20:05.600009Z",
     "start_time": "2023-12-07T04:20:05.534333Z"
    }
   },
   "id": "b54e83e5f89c94a6"
  },
  {
   "cell_type": "code",
   "execution_count": 8,
   "outputs": [],
   "source": [
    "training_data = []\n",
    "for job_description in data:\n",
    "    training_data.append(annotate_job_description(job_description))"
   ],
   "metadata": {
    "collapsed": false,
    "ExecuteTime": {
     "end_time": "2023-12-07T04:21:43.908902Z",
     "start_time": "2023-12-07T04:20:20.328212Z"
    }
   },
   "id": "8d68150fc4f2ead1"
  },
  {
   "cell_type": "code",
   "execution_count": 13,
   "outputs": [
    {
     "data": {
      "text/plain": "<IPython.core.display.HTML object>",
      "text/html": "<span class=\"tex2jax_ignore\"><div class=\"entities\" style=\"line-height: 2.5; direction: ltr\">Airbnb was born in 2007 when two Hosts welcomed three guests to their San Francisco home, and has since grown to over 4 million Hosts who have welcomed more than 1 billion guest arrivals in almost every country across the globe. Every day, Hosts offer unique stays and experiences that make it possible for guests to connect with communities in a more authentic way.The Community You Will Join: <br>Everyone at Airbnb thinks about trust, but our team obsesses over it daily. The Trust team is responsible for protecting our community and platform from fraud while also ensuring our hosts, guests, homes, and experiences meet our high standards. As part of the Trust Engineering team you will be in charge of designing and building large scale systems to detect and mitigate fraud across our entire platform. As part of the Trust Engineering team you will be designing and building scalable and robust systems to detect and mitigate fraud across our entire platform. You will be deeply involved in building highly available and real-time risk detection services in close collaboration with product, \n<mark class=\"entity\" style=\"background: #ddd; padding: 0.45em 0.6em; margin: 0 0.25em; line-height: 1; border-radius: 0.35em;\">\n    data science\n    <span style=\"font-size: 0.8em; font-weight: bold; line-height: 1; border-radius: 0.35em; vertical-align: middle; margin-left: 0.5rem\">TECH_SKILL</span>\n</mark>\n and operations teams to understand ever evolving attack vectors and to make Airbnb the most safe and trusted community. There are still many unsolved problems to tackle in both online and offline risk, and we're looking for talented engineers to solve these challenges with us.<br>The Difference You Will Make:<br>As the Engineering Manager of the Trust Platform team, you will lead a team of talented &amp; diverse software engineers responsible for powering the detection and mitigation of fraud at scale across Airbnb. The team is responsible for many Trust foundational systems, such as the rules engine, friction framework, and the vendor API gateway, along with supporting one of the highest throughput systems across the company. The team works closely with the Trust defense teams to tackle the changing landscape of fraud attacks, and builds platform features to enable Trust product teams to quickly build frictions, rules, and enforcement tools for agents. <br>You will also play a strategic role in building user facing tools to enable non-engineers to quickly deploy defenses and operationalize policies, while investing in analytics and data tools to improve the efficacy of our rules and policies. You will have the opportunity to work with a team of product managers, data scientists, and engineers to strategically define the roadmap and build a long term vision to support the changing business needs. You will partner with \n<mark class=\"entity\" style=\"background: #ddd; padding: 0.45em 0.6em; margin: 0 0.25em; line-height: 1; border-radius: 0.35em;\">\n    cross functional\n    <span style=\"font-size: 0.8em; font-weight: bold; line-height: 1; border-radius: 0.35em; vertical-align: middle; margin-left: 0.5rem\">SOFT_SKILL</span>\n</mark>\n stakeholders across Payments, Community Support Products, and Hosting teams to support all operational workflows through our rule and policy engine. <br>Our Engineering Managers are responsible for creating the vision and then delivering a solution that is flexible, always available, efficient, and scales with the needs of the business. Each manager brings their own unique skill set, experiences, thought \n<mark class=\"entity\" style=\"background: #ddd; padding: 0.45em 0.6em; margin: 0 0.25em; line-height: 1; border-radius: 0.35em;\">\n    leadership\n    <span style=\"font-size: 0.8em; font-weight: bold; line-height: 1; border-radius: 0.35em; vertical-align: middle; margin-left: 0.5rem\">SOFT_SKILL</span>\n</mark>\n and technical expertise to solve these technical challenges for Airbnb.<br>A Typical Day: <br>Lead the organizational and technical direction of our current and future infrastructure that powers the detection and mitigation of fraud at Airbnb.<br>Lead a robust team by attracting top talent, mentoring individuals and managing conflict. <br>Nurture a culture of technical quality from design, through code review, to production.<br>\n<mark class=\"entity\" style=\"background: #ddd; padding: 0.45em 0.6em; margin: 0 0.25em; line-height: 1; border-radius: 0.35em;\">\n    Collaborate\n    <span style=\"font-size: 0.8em; font-weight: bold; line-height: 1; border-radius: 0.35em; vertical-align: middle; margin-left: 0.5rem\">SOFT_SKILL</span>\n</mark>\n with internal teams across Trust, Payments, Community Support Products, and the Hosting to gain agreement by developing and communicating a clear and impactful vision and priorities for the team. <br>Carefully plan, track, and report on work of the team, identifying problems early.<br>Be conversant in systems design/architecture, can reason about trade-offs, and ultimately own &amp; defend technical decisions / technical direction for your team<br>Your Expertise:<br>10+ years of combined engineering management experience and relevant software development industry experience in a fast paced tech environment.<br>Familiar with the latest \n<mark class=\"entity\" style=\"background: #ddd; padding: 0.45em 0.6em; margin: 0 0.25em; line-height: 1; border-radius: 0.35em;\">\n    backend\n    <span style=\"font-size: 0.8em; font-weight: bold; line-height: 1; border-radius: 0.35em; vertical-align: middle; margin-left: 0.5rem\">TECH_SKILL</span>\n</mark>\n technologies, such as \n<mark class=\"entity\" style=\"background: #ddd; padding: 0.45em 0.6em; margin: 0 0.25em; line-height: 1; border-radius: 0.35em;\">\n    Java\n    <span style=\"font-size: 0.8em; font-weight: bold; line-height: 1; border-radius: 0.35em; vertical-align: middle; margin-left: 0.5rem\">PROG_LANG</span>\n</mark>\n. Familiarity with \n<mark class=\"entity\" style=\"background: #ddd; padding: 0.45em 0.6em; margin: 0 0.25em; line-height: 1; border-radius: 0.35em;\">\n    Scala\n    <span style=\"font-size: 0.8em; font-weight: bold; line-height: 1; border-radius: 0.35em; vertical-align: middle; margin-left: 0.5rem\">PROG_LANG</span>\n</mark>\n is a plus. <br>Experience with the Trust and Risk domain.<br>Experience with platform architecture patterns and best practices.  Experience with building and leading infrastructure is a plus.<br>Retained, mentored and hired senior engineers and leaders with a track record of building productive, world-class engineering teams. <br>Effectively worked with senior \n<mark class=\"entity\" style=\"background: #ddd; padding: 0.45em 0.6em; margin: 0 0.25em; line-height: 1; border-radius: 0.35em;\">\n    leadership\n    <span style=\"font-size: 0.8em; font-weight: bold; line-height: 1; border-radius: 0.35em; vertical-align: middle; margin-left: 0.5rem\">SOFT_SKILL</span>\n</mark>\n in setting strategic 6+ month direction.<br>Experience with effectively creating alignments with multiple teams and operating well in ambiguity <br>Track record in partnering with recruiting to build incredible engineering teams<br>Actively coached and mentored team members in their careers<br>Been actively involved in setting product strategy<br>Consistently made culture choices that positively impact all of engineering<br>Shipped several large scale projects with multiple dependencies across teams<br>Your Location:<br>This position is US - Remote Eligible. The role may include occasional work at an Airbnb office or attendance at offsites, as agreed to with your manager. While the position is Remote Eligible, you must live in a state where Airbnb, Inc. has a registered entity. Click here for the up-to-date list of excluded states. This list is continuously evolving, so please check back with us if the state you live in is on the exclusion list. If your position is employed by another Airbnb entity, your recruiter will inform you what states you are eligible to work from.<br>Our Commitment To Inclusion &amp; Belonging:<br>Airbnb is committed to working with the broadest talent pool possible. We believe diverse ideas foster innovation and engagement, and allow us to attract creatively-led people, and to develop the best products, services and solutions. All qualified individuals are encouraged to apply.<br>We strive to also provide a disability inclusive application and interview process. If you are a candidate with a disability and require reasonable accommodation in order to submit an application, please contact us at: reasonableaccommodations@airbnb.com. Please include your full name, the role you’re applying for and the accommodation necessary to assist you with the recruiting process. <br>We ask that you only reach out to us if you are a candidate whose disability prevents you from being able to complete our online application.How We'll Take Care of You:<br>Our job titles may span more than one career level. The actual base pay is dependent upon many factors, such as: training, transferable skills, work experience, business needs and market demands. The base pay range is subject to change and may be modified in the future. This role may also be eligible for bonus, equity, benefits, and Employee Travel Credits.  Pay Range$200,000—$245,000 USD</div></span>"
     },
     "metadata": {},
     "output_type": "display_data"
    }
   ],
   "source": [
    "import spacy\n",
    "\n",
    "\n",
    "def convert_to_doc(job_data):\n",
    "    nlp = spacy.blank(\"en\")\n",
    "\n",
    "    doc = nlp.make_doc(job_data['text'])\n",
    "    ents = []\n",
    "    for start, end, label in job_data['entities']:\n",
    "        span = doc.char_span(start, end, label=label, alignment_mode=\"contract\")\n",
    "        if span is not None:\n",
    "            ents.append(span)\n",
    "        filtered_ents = spacy.util.filter_spans(ents)\n",
    "        doc.ents = filtered_ents\n",
    "    return doc\n",
    "\n",
    "\n",
    "spacy.displacy.render(convert_to_doc(training_data[2]), style=\"ent\", jupyter=True)"
   ],
   "metadata": {
    "collapsed": false,
    "ExecuteTime": {
     "end_time": "2023-12-07T04:25:19.966620Z",
     "start_time": "2023-12-07T04:25:19.780746Z"
    }
   },
   "id": "1c0a95e15f11fd37"
  },
  {
   "cell_type": "code",
   "execution_count": 14,
   "outputs": [],
   "source": [
    "training_docs = [convert_to_doc(data) for data in training_data]"
   ],
   "metadata": {
    "collapsed": false,
    "ExecuteTime": {
     "end_time": "2023-12-07T04:35:28.732982Z",
     "start_time": "2023-12-07T04:25:25.260709Z"
    }
   },
   "id": "c70ce3ad4f79f77f"
  },
  {
   "cell_type": "markdown",
   "source": [
    "# Convert to Label Studio Format"
   ],
   "metadata": {
    "collapsed": false
   },
   "id": "e6f278bbf7581aa2"
  },
  {
   "cell_type": "code",
   "execution_count": 15,
   "outputs": [],
   "source": [
    "from itertools import groupby\n",
    "\n",
    "\n",
    "def doc_to_spans(_doc):\n",
    "    tokens = [(tok.text, tok.idx, tok.ent_type_) for tok in _doc]\n",
    "    results = []\n",
    "    entities = set()\n",
    "    for entity, group in groupby(tokens, key=lambda t: t[-1]):\n",
    "        if not entity:\n",
    "            continue\n",
    "        group = list(group)\n",
    "        _, start, _ = group[0]\n",
    "        word, last, _ = group[-1]\n",
    "        text = ' '.join(item[0] for item in group)\n",
    "        end = last + len(word)\n",
    "        results.append({\n",
    "            'from_name': 'label',\n",
    "            'to_name': 'text',\n",
    "            'type': 'labels',\n",
    "            'value': {\n",
    "                'start': start,\n",
    "                'end': end,\n",
    "                'text': text,\n",
    "                'labels': [entity]\n",
    "            }\n",
    "        })\n",
    "        entities.add(entity)\n",
    "\n",
    "    return results, entities"
   ],
   "metadata": {
    "collapsed": false,
    "ExecuteTime": {
     "end_time": "2023-12-07T04:35:28.752393Z",
     "start_time": "2023-12-07T04:35:28.728573Z"
    }
   },
   "id": "24e4e779580bc050"
  },
  {
   "cell_type": "code",
   "execution_count": 16,
   "outputs": [],
   "source": [
    "entities = set()\n",
    "tasks = []\n",
    "for i, doc in enumerate(training_docs):\n",
    "    predictions = []\n",
    "    spans, ents = doc_to_spans(doc)\n",
    "    entities |= ents\n",
    "    predictions.append({\n",
    "        'model_version': 'en_core_web_md',\n",
    "        'result': spans,\n",
    "    })\n",
    "    \n",
    "    tasks.append({\n",
    "        'data': {'text': data[i] or ''},\n",
    "        'predictions': predictions\n",
    "    })"
   ],
   "metadata": {
    "collapsed": false,
    "ExecuteTime": {
     "end_time": "2023-12-07T04:39:06.963127Z",
     "start_time": "2023-12-07T04:38:56.941519Z"
    }
   },
   "id": "7b273507403a5512"
  },
  {
   "cell_type": "code",
   "execution_count": 17,
   "outputs": [
    {
     "name": "stdout",
     "output_type": "stream",
     "text": [
      "Save 5351 tasks to \"tasks.json\"\n"
     ]
    }
   ],
   "source": [
    "# Save Label Studio tasks.json\n",
    "print(f'Save {len(tasks)} tasks to \"tasks.json\"')\n",
    "with open('../label-studio-files/v1/tasks.json', mode='w') as f:\n",
    "    json.dump(tasks, f, indent=2)"
   ],
   "metadata": {
    "collapsed": false,
    "ExecuteTime": {
     "end_time": "2023-12-07T04:39:12.658751Z",
     "start_time": "2023-12-07T04:39:11.256015Z"
    }
   },
   "id": "5bdeb2c9c46b6aaf"
  },
  {
   "cell_type": "code",
   "execution_count": 18,
   "outputs": [
    {
     "name": "stdout",
     "output_type": "stream",
     "text": [
      "Named entities are saved to \"named_entities.txt\"\n"
     ]
    }
   ],
   "source": [
    "# Save class labels as a txt file\n",
    "print('Named entities are saved to \"named_entities.txt\"')\n",
    "with open('../label-studio-files/v1/named_entities.txt', mode='w') as f:\n",
    "    f.write('\\n'.join(sorted(entities)))"
   ],
   "metadata": {
    "collapsed": false,
    "ExecuteTime": {
     "end_time": "2023-12-07T04:39:13.642585Z",
     "start_time": "2023-12-07T04:39:13.637491Z"
    }
   },
   "id": "f03b4c7ec67c8cc5"
  },
  {
   "cell_type": "markdown",
   "source": [
    "### Fix the annotations by first importing the annotations and then exporting them again."
   ],
   "metadata": {
    "collapsed": false
   },
   "id": "e6c4b2890aa1d411"
  },
  {
   "cell_type": "code",
   "execution_count": null,
   "outputs": [],
   "source": [],
   "metadata": {
    "collapsed": false
   },
   "id": "ec0db45cd4f16445"
  }
 ],
 "metadata": {
  "kernelspec": {
   "display_name": "Python 3",
   "language": "python",
   "name": "python3"
  },
  "language_info": {
   "codemirror_mode": {
    "name": "ipython",
    "version": 2
   },
   "file_extension": ".py",
   "mimetype": "text/x-python",
   "name": "python",
   "nbconvert_exporter": "python",
   "pygments_lexer": "ipython2",
   "version": "2.7.6"
  }
 },
 "nbformat": 4,
 "nbformat_minor": 5
}
