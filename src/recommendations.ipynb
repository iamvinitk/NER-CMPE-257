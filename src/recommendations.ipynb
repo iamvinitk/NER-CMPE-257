{
 "cells": [
  {
   "cell_type": "code",
   "execution_count": 2,
   "id": "initial_id",
   "metadata": {
    "ExecuteTime": {
     "end_time": "2023-12-13T04:41:38.443933Z",
     "start_time": "2023-12-13T04:41:34.377311Z"
    },
    "collapsed": true,
    "jupyter": {
     "outputs_hidden": true
    }
   },
   "outputs": [],
   "source": [
    "import spacy\n",
    "from sklearn.feature_extraction.text import TfidfVectorizer\n",
    "from sklearn.metrics.pairwise import cosine_similarity\n",
    "import tqdm\n",
    "import json\n",
    "import os"
   ]
  },
  {
   "cell_type": "code",
   "execution_count": 3,
   "id": "e5989873a3ae4288",
   "metadata": {
    "ExecuteTime": {
     "end_time": "2023-12-13T04:41:39.471824Z",
     "start_time": "2023-12-13T04:41:38.444823Z"
    },
    "collapsed": false,
    "jupyter": {
     "outputs_hidden": false
    }
   },
   "outputs": [],
   "source": [
    "nlp = spacy.load(\"../training-output/v2/model-best\")"
   ]
  },
  {
   "cell_type": "code",
   "execution_count": 4,
   "id": "52e311e35f830a7f",
   "metadata": {
    "ExecuteTime": {
     "end_time": "2023-12-13T04:41:40.782364Z",
     "start_time": "2023-12-13T04:41:39.470697Z"
    },
    "collapsed": false,
    "jupyter": {
     "outputs_hidden": false
    }
   },
   "outputs": [],
   "source": [
    "data = []\n",
    "\n",
    "files = os.listdir(\"../software-jobs/\")\n",
    "\n",
    "for file in files:\n",
    "    with open(\"../software-jobs/\" + file, \"r\") as f:\n",
    "        d = json.load(f)\n",
    "        data.append(d['content'])"
   ]
  },
  {
   "cell_type": "code",
   "execution_count": 5,
   "id": "25abc2ac2a898d02",
   "metadata": {
    "ExecuteTime": {
     "end_time": "2023-12-13T04:41:40.783175Z",
     "start_time": "2023-12-13T04:41:40.776952Z"
    },
    "collapsed": false,
    "jupyter": {
     "outputs_hidden": false
    }
   },
   "outputs": [],
   "source": [
    "job_description = \"\"\"\n",
    "Airbnb was born in 2007 when two Hosts welcomed three guests to their San Francisco home, and has since grown to over 4 million Hosts who have welcomed more than 1 billion guest arrivals in almost every country across the globe. Every day, Hosts offer unique stays and experiences that make it possible for guests to connect with communities in a more authentic way.The Community You Will Join: \\nAre you passionate about using AI for the greater good? Are you interested in protecting our Airbnb community from malicious bots? Do you have an adversarial mindset and a blend of quantitative, ML, and deep learning skills? We are hiring a Staff Machine Learning Engineer to be a founding member of our new Anti-Bots Engineering team. We are an enthusiastic team spirited about constructing online machine learning models to deter data scraping. We're harnessing the power of AI, state of the art ML techniques, and data for the higher purpose of preventing scraping and protecting data.In this opportunity, you will join forces with your Manager, Tech Lead, Senior Software Engineers, as well as other engineering, analytics and business teams. We have the creativity and excitement of a start-up with the foundation of a well-established brand. We are fueled by the passion to use our technical prowess to start a new team, and we welcome individuals with the same drive to join us.\\nThe Difference You Will Make:\\nAs a Staff Machine Learning Engineer in this role, you will be working across technologies, codebases, and partner teams to understand complex systems from top to bottom. You will be using state of the art ML techniques and continuously evolving our capabilities to detect and disrupt attackers. You'll be involved in researching attack patterns and developing models to identify traffic that matches these patterns. You'll also be partnering with various teams to implement interventions against these attackers.Successful candidates for this role are hands-on ICs who enjoy coding. You will need a strong background in deep learning and ML, an adversarial mindset, and a passion for using ML to make a positive impact on the world.\\nA Typical Day: \\nRely on your extensive domain knowledge of ML and deep learning to proactively detect attacks against our platform.\\nAnalyze our traffic data to identify attack patterns. Develop and implement tools to combat attacks. Implement effective countermeasures to stop scraping based on these identified patterns.\\nWork with large scale structured and unstructured data, build and continuously improve cutting edge Machine Learning models for Airbnb product, business and operational use cases.\\nPrototype Machine Learning use cases for use in the product, and work with stakeholders to iterate on requirements. Execute on state of the art ML techniques from scratch.\\nHands-on develop, productionize, and operate Machine Learning models and pipelines at scale, including both batch and real-time use cases.\\nLeverage third-party or open source and in-house Machine Learning tools & infrastructure to develop reusable, highly differentiating and high-performing Machine Learning systems, enable fast model development, low-latency serving and ease of model quality upkeep.\\nExample projects include: feature platform, model interpretability, hyperparameter optimization, concept drift detection.\\nYour Expertise:\\n9+ years of industry experience in applied Machine Learning with a BS/Masters or 6+ years with a PhD\\nStrong programming (Scala / Python / Java/ C++ or equivalent) skills for hands-on IC work\\nDeep understanding of Machine Learning best practices (e.g. training/serving skew minimization, A/B test, feature engineering, feature/model selection), algorithms (e.g. gradient boosted trees, neural networks/deep learning, optimization) and domains (e.g. natural language processing, computer vision, personalization and recommendation, anomaly detection); proficiency with deep learning techniques\\nHands-on \\u2018builder\\u2019 experience with experience in any of these domains (eg. anti-bots, fraud detection, trust and safety, search relevance, natural language processing, computer vision, personalization and recommendation, anomaly detection, ads or similar)\\nIndustry experience productionalizing Machine Learning models\\nExperience with technologies such as Tensorflow, PyTorch, Kubernetes, Spark, Airflow (or equivalent), Kafka (or equivalent), and data warehouse (e.g. Hive)\\nExperience with test driven development, familiar with A/B testing, incremental delivery and deployment\\nNice to Have:\\nStrong data engineering and/or analytics skills\\nIndustry experience building end-to-end Machine Learning systems \\nExposure to architectural patterns of a large, high-scale software applications (e.g. well-designed APIs, high volume data pipelines, efficient algorithms, models)\\nYour Location:\\nThis position is US - Remote Eligible. The role may include occasional work at an Airbnb office or attendance at offsites, as agreed to with your manager. While the position is Remote Eligible, you must live in a state where Airbnb, Inc. has a registered entity. Click here for the up-to-date list of excluded states. This list is continuously evolving, so please check back with us if the state you live in is on the exclusion list. If your position is employed by another Airbnb entity, your recruiter will inform you what states you are eligible to work from.\\nOur Commitment To Inclusion & Belonging:\\nAirbnb is committed to working with the broadest talent pool possible. We believe diverse ideas foster innovation and engagement, and allow us to attract creatively-led people, and to develop the best products, services and solutions. All qualified individuals are encouraged to apply.\\nWe strive to also provide a disability inclusive application and interview process. If you are a candidate with a disability and require reasonable accommodation in order to submit an application, please contact us at: reasonableaccommodations@airbnb.com. Please include your full name, the role you\\u2019re applying for and the accommodation necessary to assist you with the recruiting process. \\nWe ask that you only reach out to us if you are a candidate whose disability prevents you from being able to complete our online application.How We'll Take Care of You:\\nOur job titles may span more than one career level. The actual base pay is dependent upon many factors, such as: training, transferable skills, work experience, business needs and market demands. The base pay range is subject to change and may be modified in the future. This role may also be eligible for bonus, equity, benefits, and Employee Travel Credits.  Pay Range$200,000\\u2014$254,000 USD\n",
    "\"\"\""
   ]
  },
  {
   "cell_type": "code",
   "execution_count": 6,
   "id": "cc0f4879cb5f2a5b",
   "metadata": {
    "ExecuteTime": {
     "end_time": "2023-12-13T04:41:40.789073Z",
     "start_time": "2023-12-13T04:41:40.782762Z"
    },
    "collapsed": false,
    "jupyter": {
     "outputs_hidden": false
    }
   },
   "outputs": [],
   "source": [
    "resume = \"\"\"\n",
    "Technical Skills\n",
    "Programming Languages - Python, R, Java, JavaScript, Typescript, Bash, Perl, HTML, CSS\n",
    "Frameworks, Technologies & Libraries - Django, Flask, Node.js, React, Redux, Next.js, Nest.js, Express.js, Fastify\n",
    "Machine Learning - Tensorflow, Pytorch, Pandas, Numpy, Scikit-learn, Spark  \n",
    "Databases - MySQL, PostgreSQL, MongoDB, Redis, Snowflake\n",
    "Software, Tools & Services - Git, Docker, Kafka, AWS, GraphQL, Terraform, CI/CD, Kubernetes, Ansible, Jenkins\n",
    "Professional Experience\n",
    "Senior Software Engineer\tJun 2019 - Jul 2022\n",
    "Led development and maintenance of highly scalable REST APIs for a pricing service catering to customizable products such as posters and banners, generating revenue exceeding $2 billion.\n",
    "Designed distributed price processing service with SQS, ECS, and Lambda, resulting in an 80% reduction in processing time, improved performance, and enhanced efficiency. \n",
    "Engineered robust data ingestion pipeline, processing over 1 million+ messages utilizing AWS SQS for message queueing, Snowflake for data warehousing, and Looker for visualization.\n",
    "Integrated New Relic and PagerDuty to enhance performance monitoring and incident response, attaining an impressive 99.99% uptime.\n",
    "Implemented web scraping techniques to extract and analyze prices of 10+ competitors, enabling informed pricing decisions and gaining a competitive edge.\n",
    "Streamlined app deployment and reduced error risk by 99% by implementing CI/CD pipelines using Gitlab, Docker, and AWS Services.\n",
    "Software Engineer Intern\tJan 2019 - Apr 2019\n",
    "Developed a backend application in Golang to facilitate expense sharing and splitting among users, with a p99 response time of under 20ms.\n",
    "Built an Android application for user expense tracking and splitting as a part of an internship project. The application had a user-friendly interface and received a 4.5-star rating on the Google Play Store.\n",
    "\n",
    "Education\n",
    "Master of Science in Artificial Intelligence\tAug 2022 - May 2024 \n",
    "Bachelor of Engineering in Computer Science \tJul 2015 - Jun 2019\n",
    "\n",
    "Projects\n",
    "Spartan Food Pantry ( ReactJS, Django, Nginx, Kafka, Firebase, PostgreSQL )\n",
    "Created a web application that enabled a food pantry to manage and distribute food to 1000+ students. Used Kafka for real-time inventory and analytics.\n",
    "ChatGPT Bot for Student Assistance ( Rasa, ChatGPT API, PostgreSQL, AWS )\n",
    "Built a chatbot with the Rasa framework, ChatGPT API, and PostgreSQL, and deployed it on an AWS EC2 instance; integrated 4 Canvas API endpoints and attained a 90% success rate in providing relevant responses to student queries.\n",
    "Object Detection using YOLOv5 ( PyTorch, OpenCV, AWS )\n",
    "Trained an object detection model utilizing the YOLOv5 model, PyTorch, and OpenCV; achieved 95% accuracy on a proprietary dataset of 10,000+ images.\n",
    "\n",
    "Certifications\n",
    "Machine Learning A-Z: Hands-On Python & R In Data Science\n",
    "Neural Networks and Deep Learning\n",
    "Intro to Machine Learning\n",
    "React - The Complete Guide\n",
    "Learn DevOps: Infrastructure Automation With Terraform\n",
    "\n",
    "\"\"\""
   ]
  },
  {
   "cell_type": "code",
   "execution_count": 7,
   "id": "c4e4479826e7bc56",
   "metadata": {
    "ExecuteTime": {
     "end_time": "2023-12-13T04:41:41.892258Z",
     "start_time": "2023-12-13T04:41:40.796591Z"
    },
    "collapsed": false,
    "jupyter": {
     "outputs_hidden": false
    }
   },
   "outputs": [],
   "source": [
    "# Create Doc objects\n",
    "job_description_doc = nlp(data[10])\n",
    "resume_doc = nlp(resume)"
   ]
  },
  {
   "cell_type": "code",
   "execution_count": 8,
   "id": "be2a605b90e6bda",
   "metadata": {
    "ExecuteTime": {
     "end_time": "2023-12-13T04:41:41.907590Z",
     "start_time": "2023-12-13T04:41:41.892160Z"
    },
    "collapsed": false,
    "jupyter": {
     "outputs_hidden": false
    }
   },
   "outputs": [],
   "source": [
    "# get the recognized entities\n",
    "job_description_ents = job_description_doc.ents\n",
    "resume_ents = resume_doc.ents"
   ]
  },
  {
   "cell_type": "code",
   "execution_count": 9,
   "id": "26d3f4deaf2691ae",
   "metadata": {
    "ExecuteTime": {
     "end_time": "2023-12-13T04:41:41.908438Z",
     "start_time": "2023-12-13T04:41:41.899426Z"
    },
    "collapsed": false,
    "jupyter": {
     "outputs_hidden": false
    }
   },
   "outputs": [
    {
     "name": "stdout",
     "output_type": "stream",
     "text": [
      "Similarity Score: 0.11846062162289211\n"
     ]
    }
   ],
   "source": [
    "# Example lists of skills from job description and resume\n",
    "job_description_skills = list(set([keyword.text.lower() for keyword in list(job_description_ents)]))\n",
    "resume_skills = list(set([keyword.text.lower() for keyword in list(resume_ents)]))\n",
    "\n",
    "documents = [' '.join(job_description_skills), ' '.join(resume_skills)]\n",
    "\n",
    "vectorizer = TfidfVectorizer()\n",
    "\n",
    "tfidf_matrix = vectorizer.fit_transform(documents)\n",
    "\n",
    "cosine_sim = cosine_similarity(tfidf_matrix, tfidf_matrix)\n",
    "\n",
    "similarity_score = cosine_sim[0][1]\n",
    "\n",
    "print(f\"Similarity Score: {similarity_score}\")"
   ]
  },
  {
   "cell_type": "code",
   "execution_count": 9,
   "id": "4f9834309c8f7643",
   "metadata": {
    "ExecuteTime": {
     "end_time": "2023-12-13T03:37:24.261851Z",
     "start_time": "2023-12-13T03:24:07.845351Z"
    },
    "collapsed": false,
    "jupyter": {
     "outputs_hidden": false
    }
   },
   "outputs": [],
   "source": [
    "job_description_docs = list(nlp.pipe(data, n_process=4, batch_size=50))"
   ]
  },
  {
   "cell_type": "code",
   "execution_count": 10,
   "id": "9c4fcf1a6a40f345",
   "metadata": {
    "ExecuteTime": {
     "end_time": "2023-12-13T03:37:24.490073Z",
     "start_time": "2023-12-13T03:37:24.241561Z"
    },
    "collapsed": false,
    "jupyter": {
     "outputs_hidden": false
    }
   },
   "outputs": [
    {
     "data": {
      "text/plain": [
       "5351"
      ]
     },
     "execution_count": 10,
     "metadata": {},
     "output_type": "execute_result"
    }
   ],
   "source": [
    "len(job_description_docs)"
   ]
  },
  {
   "cell_type": "code",
   "execution_count": 11,
   "id": "9c96aea50bef3d93",
   "metadata": {
    "ExecuteTime": {
     "end_time": "2023-12-13T03:37:24.503359Z",
     "start_time": "2023-12-13T03:37:24.270681Z"
    },
    "collapsed": false,
    "jupyter": {
     "outputs_hidden": false
    }
   },
   "outputs": [
    {
     "name": "stderr",
     "output_type": "stream",
     "text": [
      "100%|██████████| 5351/5351 [00:01<00:00, 4011.40it/s]\n"
     ]
    }
   ],
   "source": [
    "similarity_scores = []\n",
    "documents = []\n",
    "for job_description in tqdm.tqdm(job_description_docs):\n",
    "    job_description_ents = job_description.ents\n",
    "    job_description_skills = list(set([keyword.text.lower() for keyword in list(job_description_ents)]))\n",
    "    documents.append(' '.join(job_description_skills))"
   ]
  },
  {
   "cell_type": "code",
   "execution_count": 12,
   "id": "ab86fdc3429a6483",
   "metadata": {
    "ExecuteTime": {
     "end_time": "2023-12-13T03:37:28.643270Z",
     "start_time": "2023-12-13T03:37:24.328842Z"
    },
    "collapsed": false,
    "jupyter": {
     "outputs_hidden": false
    }
   },
   "outputs": [
    {
     "name": "stderr",
     "output_type": "stream",
     "text": [
      "100%|██████████| 5351/5351 [00:04<00:00, 1251.28it/s]\n"
     ]
    }
   ],
   "source": [
    "similarity_scores = []\n",
    "for i in tqdm.tqdm(range(len(documents))):\n",
    "    vectorizer = TfidfVectorizer()\n",
    "    tfidf_matrix = vectorizer.fit_transform([documents[i], ' '.join(resume_skills)])\n",
    "    cosine_sim = cosine_similarity(tfidf_matrix, tfidf_matrix)\n",
    "    similarity_score = cosine_sim[0][1]\n",
    "    similarity_scores.append(similarity_score)\n"
   ]
  },
  {
   "cell_type": "code",
   "execution_count": 13,
   "id": "a13b3b7876c0bca9",
   "metadata": {
    "ExecuteTime": {
     "end_time": "2023-12-13T03:37:29.467526Z",
     "start_time": "2023-12-13T03:37:28.626745Z"
    },
    "collapsed": false,
    "jupyter": {
     "outputs_hidden": false
    }
   },
   "outputs": [],
   "source": [
    "import pandas as pd\n",
    "df = pd.DataFrame({\"similarity_score\": similarity_scores, \"job_description\": data})"
   ]
  },
  {
   "cell_type": "code",
   "execution_count": 14,
   "id": "64acdc72e102aa49",
   "metadata": {
    "ExecuteTime": {
     "end_time": "2023-12-13T03:37:29.491724Z",
     "start_time": "2023-12-13T03:37:29.472462Z"
    },
    "collapsed": false,
    "jupyter": {
     "outputs_hidden": false
    }
   },
   "outputs": [
    {
     "data": {
      "text/html": [
       "<div>\n",
       "<style scoped>\n",
       "    .dataframe tbody tr th:only-of-type {\n",
       "        vertical-align: middle;\n",
       "    }\n",
       "\n",
       "    .dataframe tbody tr th {\n",
       "        vertical-align: top;\n",
       "    }\n",
       "\n",
       "    .dataframe thead th {\n",
       "        text-align: right;\n",
       "    }\n",
       "</style>\n",
       "<table border=\"1\" class=\"dataframe\">\n",
       "  <thead>\n",
       "    <tr style=\"text-align: right;\">\n",
       "      <th></th>\n",
       "      <th>similarity_score</th>\n",
       "      <th>job_description</th>\n",
       "    </tr>\n",
       "  </thead>\n",
       "  <tbody>\n",
       "    <tr>\n",
       "      <th>3175</th>\n",
       "      <td>0.477711</td>\n",
       "      <td>About the Company\\nAt Torc, we have always bel...</td>\n",
       "    </tr>\n",
       "    <tr>\n",
       "      <th>3401</th>\n",
       "      <td>0.423858</td>\n",
       "      <td>We’re Hitachi Vantara, a global infrastructure...</td>\n",
       "    </tr>\n",
       "    <tr>\n",
       "      <th>4714</th>\n",
       "      <td>0.413839</td>\n",
       "      <td>🚀 Whatnot\\nWhatnot is a livestream shopping pl...</td>\n",
       "    </tr>\n",
       "    <tr>\n",
       "      <th>2791</th>\n",
       "      <td>0.402293</td>\n",
       "      <td>About us\\nAt Udemy, we’re on a mission to impr...</td>\n",
       "    </tr>\n",
       "    <tr>\n",
       "      <th>2344</th>\n",
       "      <td>0.402171</td>\n",
       "      <td>Build the future of data. Join the Snowflake t...</td>\n",
       "    </tr>\n",
       "    <tr>\n",
       "      <th>2610</th>\n",
       "      <td>0.399065</td>\n",
       "      <td>SpaceX was founded under the belief that a fut...</td>\n",
       "    </tr>\n",
       "    <tr>\n",
       "      <th>1827</th>\n",
       "      <td>0.390738</td>\n",
       "      <td>The goal of a Machine Learning Engineer at Sca...</td>\n",
       "    </tr>\n",
       "    <tr>\n",
       "      <th>5265</th>\n",
       "      <td>0.387097</td>\n",
       "      <td>We're transforming the grocery industry\\nAt In...</td>\n",
       "    </tr>\n",
       "    <tr>\n",
       "      <th>3048</th>\n",
       "      <td>0.380590</td>\n",
       "      <td>SpaceX was founded under the belief that a fut...</td>\n",
       "    </tr>\n",
       "    <tr>\n",
       "      <th>503</th>\n",
       "      <td>0.377885</td>\n",
       "      <td>About Generate:Biomedicines\\nGenerate:Biomedic...</td>\n",
       "    </tr>\n",
       "  </tbody>\n",
       "</table>\n",
       "</div>"
      ],
      "text/plain": [
       "      similarity_score                                    job_description\n",
       "3175          0.477711  About the Company\\nAt Torc, we have always bel...\n",
       "3401          0.423858  We’re Hitachi Vantara, a global infrastructure...\n",
       "4714          0.413839  🚀 Whatnot\\nWhatnot is a livestream shopping pl...\n",
       "2791          0.402293  About us\\nAt Udemy, we’re on a mission to impr...\n",
       "2344          0.402171  Build the future of data. Join the Snowflake t...\n",
       "2610          0.399065  SpaceX was founded under the belief that a fut...\n",
       "1827          0.390738  The goal of a Machine Learning Engineer at Sca...\n",
       "5265          0.387097  We're transforming the grocery industry\\nAt In...\n",
       "3048          0.380590  SpaceX was founded under the belief that a fut...\n",
       "503           0.377885  About Generate:Biomedicines\\nGenerate:Biomedic..."
      ]
     },
     "execution_count": 14,
     "metadata": {},
     "output_type": "execute_result"
    }
   ],
   "source": [
    "df.sort_values(by=\"similarity_score\", ascending=False).head(10)"
   ]
  },
  {
   "cell_type": "markdown",
   "id": "66b7758b327f4626",
   "metadata": {
    "collapsed": false,
    "jupyter": {
     "outputs_hidden": false
    }
   },
   "source": [
    "### Based on the similarity score, the jobs can be ranked and recommended to the user based on the resume."
   ]
  },
  {
   "cell_type": "code",
   "execution_count": 11,
   "id": "ae14289bc2b48b01",
   "metadata": {
    "ExecuteTime": {
     "end_time": "2023-12-13T04:41:53.343545Z",
     "start_time": "2023-12-13T04:41:53.338656Z"
    },
    "collapsed": false,
    "jupyter": {
     "outputs_hidden": false
    }
   },
   "outputs": [
    {
     "data": {
      "text/plain": [
       "['leadership',\n",
       " 'full-stack',\n",
       " 'go',\n",
       " 'empathy',\n",
       " 'collaborate',\n",
       " 'adaptability',\n",
       " 'bs']"
      ]
     },
     "execution_count": 11,
     "metadata": {},
     "output_type": "execute_result"
    }
   ],
   "source": [
    "missing_keywords = list(set(job_description_skills) - set(resume_skills))\n",
    "missing_keywords"
   ]
  },
  {
   "cell_type": "markdown",
   "id": "9d96cf632fb6b0d5",
   "metadata": {
    "collapsed": false,
    "jupyter": {
     "outputs_hidden": false
    }
   },
   "source": [
    "### Also the missing keywords can be recommended to the user to be added to the resume."
   ]
  },
  {
   "cell_type": "code",
   "execution_count": null,
   "id": "a9e128aa7f09fc09",
   "metadata": {
    "collapsed": false,
    "jupyter": {
     "outputs_hidden": false
    }
   },
   "outputs": [],
   "source": []
  }
 ],
 "metadata": {
  "kernelspec": {
   "display_name": "Python 3 (ipykernel)",
   "language": "python",
   "name": "python3"
  },
  "language_info": {
   "codemirror_mode": {
    "name": "ipython",
    "version": 3
   },
   "file_extension": ".py",
   "mimetype": "text/x-python",
   "name": "python",
   "nbconvert_exporter": "python",
   "pygments_lexer": "ipython3",
   "version": "3.8.18"
  }
 },
 "nbformat": 4,
 "nbformat_minor": 5
}
