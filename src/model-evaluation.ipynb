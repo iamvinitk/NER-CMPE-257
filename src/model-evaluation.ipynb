{
 "cells": [
  {
   "cell_type": "code",
   "execution_count": 1,
   "id": "initial_id",
   "metadata": {
    "collapsed": true,
    "ExecuteTime": {
     "end_time": "2023-12-07T04:40:07.698323Z",
     "start_time": "2023-12-07T04:40:05.220116Z"
    }
   },
   "outputs": [],
   "source": [
    "import os\n",
    "import json\n",
    "import spacy\n",
    "from tqdm.notebook import tqdm\n",
    "from spacy.scorer import Scorer\n",
    "from spacy.training import Example"
   ]
  },
  {
   "cell_type": "code",
   "execution_count": 2,
   "outputs": [
    {
     "name": "stdout",
     "output_type": "stream",
     "text": [
      "True\n"
     ]
    }
   ],
   "source": [
    "gpu = spacy.prefer_gpu()\n",
    "print(gpu)"
   ],
   "metadata": {
    "collapsed": false,
    "ExecuteTime": {
     "end_time": "2023-12-07T04:40:08.584339Z",
     "start_time": "2023-12-07T04:40:08.558611Z"
    }
   },
   "id": "d228bbcffc8315b7"
  },
  {
   "cell_type": "code",
   "execution_count": 3,
   "outputs": [],
   "source": [
    "nlp = spacy.load('../training-output/v2/model-best')"
   ],
   "metadata": {
    "collapsed": false,
    "ExecuteTime": {
     "end_time": "2023-12-07T04:41:10.212361Z",
     "start_time": "2023-12-07T04:41:08.833504Z"
    }
   },
   "id": "de436ac884f38e31"
  },
  {
   "cell_type": "code",
   "execution_count": 4,
   "outputs": [],
   "source": [
    "with open('../label-studio-files/v1/output.json') as f:\n",
    "    labeled_data = json.load(f)"
   ],
   "metadata": {
    "collapsed": false,
    "ExecuteTime": {
     "end_time": "2023-12-07T04:42:15.199592Z",
     "start_time": "2023-12-07T04:42:15.173494Z"
    }
   },
   "id": "231ff3df85a1eccd"
  },
  {
   "cell_type": "code",
   "execution_count": 5,
   "outputs": [],
   "source": [
    "training_labeled_data = []\n",
    "for data in labeled_data:\n",
    "    text = data[\"data\"][\"text\"]\n",
    "    entities = []\n",
    "    for annotation in data[\"annotations\"][0][\"result\"]:\n",
    "        start = annotation[\"value\"][\"start\"]\n",
    "        end = annotation[\"value\"][\"end\"]\n",
    "        label = annotation[\"value\"][\"labels\"][0]\n",
    "        for ent in entities:\n",
    "            # check if the current entity is subspan of the annotated entity\n",
    "            if (start >= ent[0] and end <= ent[1]) or (start <= ent[0] and end >= ent[1]):\n",
    "                break\n",
    "        else:\n",
    "            entities.append((start, end, label))\n",
    "    training_labeled_data.append((text, {\"entities\": entities}))"
   ],
   "metadata": {
    "collapsed": false,
    "ExecuteTime": {
     "end_time": "2023-12-07T04:42:25.351359Z",
     "start_time": "2023-12-07T04:42:25.332059Z"
    }
   },
   "id": "ab850c339ce180c7"
  },
  {
   "cell_type": "code",
   "execution_count": 6,
   "outputs": [],
   "source": [
    "scorer = Scorer(nlp)"
   ],
   "metadata": {
    "collapsed": false,
    "ExecuteTime": {
     "end_time": "2023-12-07T04:42:36.744906Z",
     "start_time": "2023-12-07T04:42:36.642645Z"
    }
   },
   "id": "21614cec7b316ea7"
  },
  {
   "cell_type": "code",
   "execution_count": 7,
   "outputs": [
    {
     "data": {
      "text/plain": "{'token_acc': 1.0,\n 'token_p': 1.0,\n 'token_r': 1.0,\n 'token_f': 1.0,\n 'ents_p': 0.6666666666666666,\n 'ents_r': 0.6,\n 'ents_f': 0.631578947368421,\n 'ents_per_type': {'ROLE': {'p': 1.0, 'r': 1.0, 'f': 1.0},\n  'SOFT_SKILL': {'p': 1.0, 'r': 0.75, 'f': 0.8571428571428571},\n  'TECH_SKILL': {'p': 0.53125,\n   'r': 0.7727272727272727,\n   'f': 0.6296296296296297},\n  'DEGREE': {'p': 1.0, 'r': 0.6666666666666666, 'f': 0.8},\n  'PROG_LANG': {'p': 1.0, 'r': 1.0, 'f': 1.0},\n  'RESP': {'p': 0.0, 'r': 0.0, 'f': 0.0},\n  'REQ': {'p': 0.0, 'r': 0.0, 'f': 0.0},\n  'OTHER': {'p': 0.0, 'r': 0.0, 'f': 0.0}}}"
     },
     "execution_count": 7,
     "metadata": {},
     "output_type": "execute_result"
    }
   ],
   "source": [
    "examples = []\n",
    "for text, entities in training_labeled_data[:1]:\n",
    "    predicted = nlp(text)\n",
    "    example = Example.from_dict(predicted, entities)\n",
    "    examples.append(example)\n",
    "scorer.score(examples)"
   ],
   "metadata": {
    "collapsed": false,
    "ExecuteTime": {
     "end_time": "2023-12-07T04:42:45.275740Z",
     "start_time": "2023-12-07T04:42:44.841006Z"
    }
   },
   "id": "487a283ba5a5567"
  },
  {
   "cell_type": "code",
   "execution_count": null,
   "outputs": [],
   "source": [],
   "metadata": {
    "collapsed": false
   },
   "id": "c9d07e23564229c1"
  }
 ],
 "metadata": {
  "kernelspec": {
   "display_name": "Python 3",
   "language": "python",
   "name": "python3"
  },
  "language_info": {
   "codemirror_mode": {
    "name": "ipython",
    "version": 2
   },
   "file_extension": ".py",
   "mimetype": "text/x-python",
   "name": "python",
   "nbconvert_exporter": "python",
   "pygments_lexer": "ipython2",
   "version": "2.7.6"
  }
 },
 "nbformat": 4,
 "nbformat_minor": 5
}
