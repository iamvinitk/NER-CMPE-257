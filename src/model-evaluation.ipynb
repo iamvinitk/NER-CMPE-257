{
 "cells": [
  {
   "cell_type": "code",
   "execution_count": 15,
   "id": "initial_id",
   "metadata": {
    "collapsed": true,
    "ExecuteTime": {
     "end_time": "2023-12-13T04:15:37.970177Z",
     "start_time": "2023-12-13T04:15:36.117388Z"
    }
   },
   "outputs": [],
   "source": [
    "import os\n",
    "import json\n",
    "import spacy\n",
    "from tqdm.notebook import tqdm\n",
    "from spacy.scorer import Scorer\n",
    "from spacy.training import Example\n",
    "import pandas as pd"
   ]
  },
  {
   "cell_type": "code",
   "execution_count": 3,
   "outputs": [
    {
     "name": "stdout",
     "output_type": "stream",
     "text": [
      "True\n"
     ]
    }
   ],
   "source": [
    "gpu = spacy.prefer_gpu()\n",
    "print(gpu)"
   ],
   "metadata": {
    "collapsed": false,
    "ExecuteTime": {
     "end_time": "2023-12-13T04:05:35.533960Z",
     "start_time": "2023-12-13T04:05:35.522939Z"
    }
   },
   "id": "d228bbcffc8315b7"
  },
  {
   "cell_type": "code",
   "execution_count": 4,
   "outputs": [],
   "source": [
    "nlp = spacy.load('../training-output/v2/model-best')"
   ],
   "metadata": {
    "collapsed": false,
    "ExecuteTime": {
     "end_time": "2023-12-13T04:05:37.287003Z",
     "start_time": "2023-12-13T04:05:36.092862Z"
    }
   },
   "id": "de436ac884f38e31"
  },
  {
   "cell_type": "code",
   "execution_count": 5,
   "outputs": [],
   "source": [
    "with open('../label-studio-files/v1/output.json') as f:\n",
    "    labeled_data = json.load(f)"
   ],
   "metadata": {
    "collapsed": false,
    "ExecuteTime": {
     "end_time": "2023-12-13T04:05:38.255007Z",
     "start_time": "2023-12-13T04:05:38.233249Z"
    }
   },
   "id": "231ff3df85a1eccd"
  },
  {
   "cell_type": "code",
   "execution_count": 6,
   "outputs": [],
   "source": [
    "training_labeled_data = []\n",
    "for data in labeled_data:\n",
    "    text = data[\"data\"][\"text\"]\n",
    "    entities = []\n",
    "    for annotation in data[\"annotations\"][0][\"result\"]:\n",
    "        start = annotation[\"value\"][\"start\"]\n",
    "        end = annotation[\"value\"][\"end\"]\n",
    "        label = annotation[\"value\"][\"labels\"][0]\n",
    "        for ent in entities:\n",
    "            # check if the current entity is subspan of the annotated entity\n",
    "            if (start >= ent[0] and end <= ent[1]) or (start <= ent[0] and end >= ent[1]):\n",
    "                break\n",
    "        else:\n",
    "            entities.append((start, end, label))\n",
    "    training_labeled_data.append((text, {\"entities\": entities}))"
   ],
   "metadata": {
    "collapsed": false,
    "ExecuteTime": {
     "end_time": "2023-12-13T04:05:39.098118Z",
     "start_time": "2023-12-13T04:05:39.090072Z"
    }
   },
   "id": "ab850c339ce180c7"
  },
  {
   "cell_type": "code",
   "execution_count": 7,
   "outputs": [],
   "source": [
    "scorer = Scorer(nlp)"
   ],
   "metadata": {
    "collapsed": false,
    "ExecuteTime": {
     "end_time": "2023-12-13T04:05:42.168063Z",
     "start_time": "2023-12-13T04:05:42.161182Z"
    }
   },
   "id": "21614cec7b316ea7"
  },
  {
   "cell_type": "code",
   "execution_count": 8,
   "outputs": [
    {
     "name": "stderr",
     "output_type": "stream",
     "text": [
      "/Users/iamvinitk/miniconda3/envs/NER-CMPE-257/lib/python3.8/site-packages/spacy/training/iob_utils.py:149: UserWarning: [W030] Some entities could not be aligned in the text \"Airbnb was born in 2007 when two Hosts welcomed th...\" with entities \"[(404, 414, 'SOFT_SKILL'), (599, 612, 'TECH_SKILL'...\". Use `spacy.training.offsets_to_biluo_tags(nlp.make_doc(text), entities)` to check the alignment. Misaligned entities ('-') will be ignored during training.\n",
      "  warnings.warn(\n",
      "/Users/iamvinitk/miniconda3/envs/NER-CMPE-257/lib/python3.8/site-packages/spacy/training/iob_utils.py:149: UserWarning: [W030] Some entities could not be aligned in the text \"About Us\n",
      "At Cloudflare, we have our eyes set on an...\" with entities \"[(381, 389, 'TECH_SKILL'), (1407, 1412, 'TECH_SKIL...\". Use `spacy.training.offsets_to_biluo_tags(nlp.make_doc(text), entities)` to check the alignment. Misaligned entities ('-') will be ignored during training.\n",
      "  warnings.warn(\n",
      "/Users/iamvinitk/miniconda3/envs/NER-CMPE-257/lib/python3.8/site-packages/spacy/training/iob_utils.py:149: UserWarning: [W030] Some entities could not be aligned in the text \"Interested in being part of a team that impacts mi...\" with entities \"[(433, 449, 'DOMAIN'), (549, 561, 'TECH_SKILL'), (...\". Use `spacy.training.offsets_to_biluo_tags(nlp.make_doc(text), entities)` to check the alignment. Misaligned entities ('-') will be ignored during training.\n",
      "  warnings.warn(\n",
      "/Users/iamvinitk/miniconda3/envs/NER-CMPE-257/lib/python3.8/site-packages/spacy/training/iob_utils.py:149: UserWarning: [W030] Some entities could not be aligned in the text \"Astranis is on a mission to bridge the digital div...\" with entities \"[(1866, 1877, 'SOFT_SKILL'), (2107, 2123, 'DOMAIN'...\". Use `spacy.training.offsets_to_biluo_tags(nlp.make_doc(text), entities)` to check the alignment. Misaligned entities ('-') will be ignored during training.\n",
      "  warnings.warn(\n",
      "/Users/iamvinitk/miniconda3/envs/NER-CMPE-257/lib/python3.8/site-packages/spacy/training/iob_utils.py:149: UserWarning: [W030] Some entities could not be aligned in the text \"Because You Deserve More Than Just a Job\n",
      "In order ...\" with entities \"[(327, 343, 'DOMAIN'), (569, 586, 'ROLE'), (731, 7...\". Use `spacy.training.offsets_to_biluo_tags(nlp.make_doc(text), entities)` to check the alignment. Misaligned entities ('-') will be ignored during training.\n",
      "  warnings.warn(\n",
      "/Users/iamvinitk/miniconda3/envs/NER-CMPE-257/lib/python3.8/site-packages/spacy/training/iob_utils.py:149: UserWarning: [W030] Some entities could not be aligned in the text \"\n",
      "Data Engineers develop modern data architecture a...\" with entities \"[(1005, 1016, 'SOFT_SKILL'), (1242, 1256, 'TECH_SK...\". Use `spacy.training.offsets_to_biluo_tags(nlp.make_doc(text), entities)` to check the alignment. Misaligned entities ('-') will be ignored during training.\n",
      "  warnings.warn(\n",
      "/Users/iamvinitk/miniconda3/envs/NER-CMPE-257/lib/python3.8/site-packages/spacy/training/iob_utils.py:149: UserWarning: [W030] Some entities could not be aligned in the text \"Company Description:\n",
      "We are creating the future of...\" with entities \"[(3397, 3408, 'OTHER'), (3663, 3667, 'PROG_LANG'),...\". Use `spacy.training.offsets_to_biluo_tags(nlp.make_doc(text), entities)` to check the alignment. Misaligned entities ('-') will be ignored during training.\n",
      "  warnings.warn(\n",
      "/Users/iamvinitk/miniconda3/envs/NER-CMPE-257/lib/python3.8/site-packages/spacy/training/iob_utils.py:149: UserWarning: [W030] Some entities could not be aligned in the text \"About Mixpanel\n",
      "Mixpanel is event analytics platfor...\" with entities \"[(121, 124, 'TECH_SKILL'), (1132, 1151, 'TECH_SKIL...\". Use `spacy.training.offsets_to_biluo_tags(nlp.make_doc(text), entities)` to check the alignment. Misaligned entities ('-') will be ignored during training.\n",
      "  warnings.warn(\n",
      "/Users/iamvinitk/miniconda3/envs/NER-CMPE-257/lib/python3.8/site-packages/spacy/training/iob_utils.py:149: UserWarning: [W030] Some entities could not be aligned in the text \"Job Title: Full Stack Engineer - Microservices, AP...\" with entities \"[(11, 30, 'ROLE'), (133, 152, 'ROLE'), (914, 917, ...\". Use `spacy.training.offsets_to_biluo_tags(nlp.make_doc(text), entities)` to check the alignment. Misaligned entities ('-') will be ignored during training.\n",
      "  warnings.warn(\n",
      "/Users/iamvinitk/miniconda3/envs/NER-CMPE-257/lib/python3.8/site-packages/spacy/training/iob_utils.py:149: UserWarning: [W030] Some entities could not be aligned in the text \"Job Title: Data Quality/ Data Governance Consultan...\" with entities \"[(1863, 1874, 'SOFT_SKILL'), (1980, 1995, 'TECH_SK...\". Use `spacy.training.offsets_to_biluo_tags(nlp.make_doc(text), entities)` to check the alignment. Misaligned entities ('-') will be ignored during training.\n",
      "  warnings.warn(\n",
      "/Users/iamvinitk/miniconda3/envs/NER-CMPE-257/lib/python3.8/site-packages/spacy/training/iob_utils.py:149: UserWarning: [W030] Some entities could not be aligned in the text \"\n",
      "Teads has an engineering team that brings togethe...\" with entities \"[(1218, 1223, 'PROG_LANG'), (1228, 1238, 'PROG_LAN...\". Use `spacy.training.offsets_to_biluo_tags(nlp.make_doc(text), entities)` to check the alignment. Misaligned entities ('-') will be ignored during training.\n",
      "  warnings.warn(\n",
      "/Users/iamvinitk/miniconda3/envs/NER-CMPE-257/lib/python3.8/site-packages/spacy/training/iob_utils.py:149: UserWarning: [W030] Some entities could not be aligned in the text \"Position Overview\n",
      "As a Software Engineer, Intern, ...\" with entities \"[(23, 40, 'ROLE'), (680, 697, 'ROLE'), (1368, 1378...\". Use `spacy.training.offsets_to_biluo_tags(nlp.make_doc(text), entities)` to check the alignment. Misaligned entities ('-') will be ignored during training.\n",
      "  warnings.warn(\n",
      "/Users/iamvinitk/miniconda3/envs/NER-CMPE-257/lib/python3.8/site-packages/spacy/training/iob_utils.py:149: UserWarning: [W030] Some entities could not be aligned in the text \"Senior Software Engineer, ML\n",
      "At Lyft, our mission ...\" with entities \"[(638, 648, 'SOFT_SKILL'), (822, 838, 'TECH_SKILL'...\". Use `spacy.training.offsets_to_biluo_tags(nlp.make_doc(text), entities)` to check the alignment. Misaligned entities ('-') will be ignored during training.\n",
      "  warnings.warn(\n",
      "/Users/iamvinitk/miniconda3/envs/NER-CMPE-257/lib/python3.8/site-packages/spacy/training/iob_utils.py:149: UserWarning: [W030] Some entities could not be aligned in the text \"In order to join the ELEVI team you will need  \n",
      "Yo...\" with entities \"[(527, 544, 'ROLE'), (930, 936, 'PROG_LANG'), (957...\". Use `spacy.training.offsets_to_biluo_tags(nlp.make_doc(text), entities)` to check the alignment. Misaligned entities ('-') will be ignored during training.\n",
      "  warnings.warn(\n",
      "/Users/iamvinitk/miniconda3/envs/NER-CMPE-257/lib/python3.8/site-packages/spacy/training/iob_utils.py:149: UserWarning: [W030] Some entities could not be aligned in the text \"\n",
      "We're Celonis, the global leader in execution man...\" with entities \"[(1274, 1290, 'TECH_SKILL'), (1559, 1586, 'TECH_SK...\". Use `spacy.training.offsets_to_biluo_tags(nlp.make_doc(text), entities)` to check the alignment. Misaligned entities ('-') will be ignored during training.\n",
      "  warnings.warn(\n",
      "/Users/iamvinitk/miniconda3/envs/NER-CMPE-257/lib/python3.8/site-packages/spacy/training/iob_utils.py:149: UserWarning: [W030] Some entities could not be aligned in the text \"We're revolutionizing the fitness & wellness indus...\" with entities \"[(3176, 3177, 'PROG_LANG'), (3226, 3231, 'TECH_SKI...\". Use `spacy.training.offsets_to_biluo_tags(nlp.make_doc(text), entities)` to check the alignment. Misaligned entities ('-') will be ignored during training.\n",
      "  warnings.warn(\n",
      "/Users/iamvinitk/miniconda3/envs/NER-CMPE-257/lib/python3.8/site-packages/spacy/training/iob_utils.py:149: UserWarning: [W030] Some entities could not be aligned in the text \"Astranis is on a mission to bridge the digital div...\" with entities \"[(2007, 2023, 'DOMAIN'), (2108, 2109, 'PROG_LANG')...\". Use `spacy.training.offsets_to_biluo_tags(nlp.make_doc(text), entities)` to check the alignment. Misaligned entities ('-') will be ignored during training.\n",
      "  warnings.warn(\n",
      "/Users/iamvinitk/miniconda3/envs/NER-CMPE-257/lib/python3.8/site-packages/spacy/training/iob_utils.py:149: UserWarning: [W030] Some entities could not be aligned in the text \"See yourself at Twilio\n",
      "Join the team as our next S...\" with entities \"[(1502, 1513, 'TECH_SKILL'), (1896, 1906, 'SOFT_SK...\". Use `spacy.training.offsets_to_biluo_tags(nlp.make_doc(text), entities)` to check the alignment. Misaligned entities ('-') will be ignored during training.\n",
      "  warnings.warn(\n",
      "/Users/iamvinitk/miniconda3/envs/NER-CMPE-257/lib/python3.8/site-packages/spacy/training/iob_utils.py:149: UserWarning: [W030] Some entities could not be aligned in the text \"Build the future of data. Join the Snowflake team....\" with entities \"[(649, 665, 'TECH_SKILL'), (1223, 1237, 'ROLE'), (...\". Use `spacy.training.offsets_to_biluo_tags(nlp.make_doc(text), entities)` to check the alignment. Misaligned entities ('-') will be ignored during training.\n",
      "  warnings.warn(\n",
      "/Users/iamvinitk/miniconda3/envs/NER-CMPE-257/lib/python3.8/site-packages/spacy/training/iob_utils.py:149: UserWarning: [W030] Some entities could not be aligned in the text \"At Blue Origin, we envision millions of people liv...\" with entities \"[(1393, 1404, 'SOFT_SKILL'), (2096, 2105, 'TECH_SK...\". Use `spacy.training.offsets_to_biluo_tags(nlp.make_doc(text), entities)` to check the alignment. Misaligned entities ('-') will be ignored during training.\n",
      "  warnings.warn(\n"
     ]
    },
    {
     "data": {
      "text/plain": "{'token_acc': 1.0,\n 'token_p': 1.0,\n 'token_r': 1.0,\n 'token_f': 1.0,\n 'ents_p': 0.6464367816091954,\n 'ents_r': 0.5103448275862069,\n 'ents_f': 0.5703853955375254,\n 'ents_per_type': {'ROLE': {'p': 0.68,\n   'r': 0.5396825396825397,\n   'f': 0.6017699115044247},\n  'SOFT_SKILL': {'p': 0.6253521126760564,\n   'r': 0.7375415282392026,\n   'f': 0.6768292682926829},\n  'TECH_SKILL': {'p': 0.6204595997034841,\n   'r': 0.5113011606597434,\n   'f': 0.5606162089752178},\n  'DEGREE': {'p': 0.4732824427480916, 'r': 0.5299145299145299, 'f': 0.5},\n  'PROG_LANG': {'p': 0.9041666666666667,\n   'r': 0.8509803921568627,\n   'f': 0.8767676767676768},\n  'REQ': {'p': 0.0, 'r': 0.0, 'f': 0.0},\n  'RESP': {'p': 0.0, 'r': 0.0, 'f': 0.0},\n  'OTHER': {'p': 0.0, 'r': 0.0, 'f': 0.0},\n  'DOMAIN': {'p': 0.0, 'r': 0.0, 'f': 0.0}}}"
     },
     "execution_count": 8,
     "metadata": {},
     "output_type": "execute_result"
    }
   ],
   "source": [
    "job_descriptions = []\n",
    "for text, entities in training_labeled_data:\n",
    "    predicted = nlp(text)\n",
    "    example = Example.from_dict(predicted, entities)\n",
    "    job_descriptions.append(example)\n",
    "scorer.score(job_descriptions)"
   ],
   "metadata": {
    "collapsed": false,
    "ExecuteTime": {
     "end_time": "2023-12-13T04:06:56.395211Z",
     "start_time": "2023-12-13T04:05:46.891162Z"
    }
   },
   "id": "487a283ba5a5567"
  },
  {
   "cell_type": "code",
   "execution_count": 16,
   "outputs": [],
   "source": [
    "from itertools import groupby\n",
    "\n",
    "\n",
    "def doc_to_spans(doc):\n",
    "    tokens = [(tok.text, tok.idx, tok.ent_type_) for tok in doc]\n",
    "    results = []\n",
    "    entities = set()\n",
    "    for entity, group in groupby(tokens, key=lambda t: t[-1]):\n",
    "        if not entity:\n",
    "            continue\n",
    "        group = list(group)\n",
    "        _, start, _ = group[0]\n",
    "        word, last, _ = group[-1]\n",
    "        text = ' '.join(item[0] for item in group)\n",
    "        end = last + len(word)\n",
    "        results.append({\n",
    "            'from_name': 'label',\n",
    "            'to_name': 'text',\n",
    "            'type': 'labels',\n",
    "            'value': {\n",
    "                'start': start,\n",
    "                'end': end,\n",
    "                'text': text,\n",
    "                'labels': [entity]\n",
    "            }\n",
    "        })\n",
    "        entities.add(entity)\n",
    "\n",
    "    return results, entities"
   ],
   "metadata": {
    "collapsed": false,
    "ExecuteTime": {
     "end_time": "2023-12-13T01:01:56.820533Z",
     "start_time": "2023-12-13T01:01:56.812711Z"
    }
   },
   "id": "b72038feba8bcdf4"
  },
  {
   "cell_type": "code",
   "execution_count": 17,
   "outputs": [],
   "source": [
    "entities = set()\n",
    "tasks = []\n",
    "for data in labeled_data:\n",
    "    text = data[\"data\"][\"text\"]\n",
    "    doc = nlp(text)\n",
    "    spans, ents = doc_to_spans(doc)\n",
    "    entities |= ents\n",
    "\n",
    "    tasks.append({\n",
    "        'data': {'text': text},\n",
    "        'predictions': [{'model_version': 'v2', 'result': spans}],\n",
    "    })"
   ],
   "metadata": {
    "collapsed": false,
    "ExecuteTime": {
     "end_time": "2023-12-13T01:02:58.167499Z",
     "start_time": "2023-12-13T01:01:57.922468Z"
    }
   },
   "id": "3a27ababc523e477"
  },
  {
   "cell_type": "code",
   "execution_count": 18,
   "outputs": [
    {
     "name": "stdout",
     "output_type": "stream",
     "text": [
      "Save 121 tasks to \"tasks.json\"\n",
      "Named entities are saved to \"named_entities.txt\"\n"
     ]
    }
   ],
   "source": [
    "# Save Label Studio tasks.json\n",
    "print(f'Save {len(tasks)} tasks to \"tasks.json\"')\n",
    "with open('../label-studio-files/v2/tasks.json', mode='w') as f:\n",
    "    json.dump(tasks, f, indent=2)\n",
    "    \n",
    "# Save class labels as a txt file\n",
    "print('Named entities are saved to \"named_entities.txt\"')\n",
    "with open('../label-studio-files/v2/named_entities.txt', mode='w') as f:\n",
    "    f.write('\\n'.join(sorted(entities)))"
   ],
   "metadata": {
    "collapsed": false,
    "ExecuteTime": {
     "end_time": "2023-12-13T01:03:35.599886Z",
     "start_time": "2023-12-13T01:03:35.562287Z"
    }
   },
   "id": "a160e08329ac4d42"
  },
  {
   "cell_type": "markdown",
   "source": [
    "## Model Comparison - SpaCy vs. Custom Model"
   ],
   "metadata": {
    "collapsed": false
   },
   "id": "aa89e50c9c04fa32"
  },
  {
   "cell_type": "code",
   "execution_count": 9,
   "outputs": [],
   "source": [
    "spacy_nlp = spacy.load('en_core_web_md')\n",
    "custom_nlp = spacy.load('../training-output/v2/model-best')"
   ],
   "metadata": {
    "collapsed": false,
    "ExecuteTime": {
     "end_time": "2023-12-13T04:07:14.566136Z",
     "start_time": "2023-12-13T04:07:13.160080Z"
    }
   },
   "id": "a102bed05a585187"
  },
  {
   "cell_type": "code",
   "execution_count": 18,
   "outputs": [],
   "source": [
    "performance = []\n",
    "spacy_scores = Scorer(spacy_nlp)\n",
    "custom_scores = Scorer(custom_nlp)"
   ],
   "metadata": {
    "collapsed": false,
    "ExecuteTime": {
     "end_time": "2023-12-13T04:16:06.108493Z",
     "start_time": "2023-12-13T04:16:06.100640Z"
    }
   },
   "id": "e24acebdc867a9c9"
  },
  {
   "cell_type": "code",
   "execution_count": 11,
   "outputs": [],
   "source": [
    "spacy_examples = []\n",
    "custom_examples = []\n",
    "for text, entities in training_labeled_data:\n",
    "    spacy_doc = spacy_nlp(text)\n",
    "    custom_doc = custom_nlp(text)\n",
    "    spacy_example = Example.from_dict(spacy_doc, entities)\n",
    "    custom_example = Example.from_dict(custom_doc, entities)\n",
    "    spacy_examples.append(spacy_example)\n",
    "    custom_examples.append(custom_example)"
   ],
   "metadata": {
    "collapsed": false,
    "ExecuteTime": {
     "end_time": "2023-12-13T04:11:06.197969Z",
     "start_time": "2023-12-13T04:09:35.879062Z"
    }
   },
   "id": "ab7ad524228c86ce"
  },
  {
   "cell_type": "code",
   "execution_count": 12,
   "outputs": [
    {
     "data": {
      "text/plain": "{'token_acc': 1.0,\n 'token_p': 1.0,\n 'token_r': 1.0,\n 'token_f': 1.0,\n 'tag_acc': None,\n 'sents_p': None,\n 'sents_r': None,\n 'sents_f': None,\n 'dep_uas': None,\n 'dep_las': None,\n 'dep_las_per_type': None,\n 'pos_acc': None,\n 'morph_acc': None,\n 'morph_micro_p': None,\n 'morph_micro_r': None,\n 'morph_micro_f': None,\n 'morph_per_feat': None,\n 'lemma_acc': None,\n 'ents_p': 0.0,\n 'ents_r': 0.0,\n 'ents_f': 0.0,\n 'ents_per_type': {'PRODUCT': {'p': 0.0, 'r': 0.0, 'f': 0.0},\n  'DATE': {'p': 0.0, 'r': 0.0, 'f': 0.0},\n  'ORG': {'p': 0.0, 'r': 0.0, 'f': 0.0},\n  'REQ': {'p': 0.0, 'r': 0.0, 'f': 0.0},\n  'TECH_SKILL': {'p': 0.0, 'r': 0.0, 'f': 0.0},\n  'SOFT_SKILL': {'p': 0.0, 'r': 0.0, 'f': 0.0},\n  'DEGREE': {'p': 0.0, 'r': 0.0, 'f': 0.0},\n  'ROLE': {'p': 0.0, 'r': 0.0, 'f': 0.0},\n  'RESP': {'p': 0.0, 'r': 0.0, 'f': 0.0},\n  'OTHER': {'p': 0.0, 'r': 0.0, 'f': 0.0},\n  'PROG_LANG': {'p': 0.0, 'r': 0.0, 'f': 0.0},\n  'PERSON': {'p': 0.0, 'r': 0.0, 'f': 0.0},\n  'GPE': {'p': 0.0, 'r': 0.0, 'f': 0.0},\n  'ORDINAL': {'p': 0.0, 'r': 0.0, 'f': 0.0},\n  'CARDINAL': {'p': 0.0, 'r': 0.0, 'f': 0.0},\n  'NORP': {'p': 0.0, 'r': 0.0, 'f': 0.0},\n  'DOMAIN': {'p': 0.0, 'r': 0.0, 'f': 0.0},\n  'MONEY': {'p': 0.0, 'r': 0.0, 'f': 0.0},\n  'WORK_OF_ART': {'p': 0.0, 'r': 0.0, 'f': 0.0},\n  'PERCENT': {'p': 0.0, 'r': 0.0, 'f': 0.0},\n  'LOC': {'p': 0.0, 'r': 0.0, 'f': 0.0},\n  'LAW': {'p': 0.0, 'r': 0.0, 'f': 0.0},\n  'EVENT': {'p': 0.0, 'r': 0.0, 'f': 0.0},\n  'QUANTITY': {'p': 0.0, 'r': 0.0, 'f': 0.0},\n  'TIME': {'p': 0.0, 'r': 0.0, 'f': 0.0},\n  'LANGUAGE': {'p': 0.0, 'r': 0.0, 'f': 0.0},\n  'FAC': {'p': 0.0, 'r': 0.0, 'f': 0.0}}}"
     },
     "execution_count": 12,
     "metadata": {},
     "output_type": "execute_result"
    }
   ],
   "source": [
    "spacy_scores.score(spacy_examples)"
   ],
   "metadata": {
    "collapsed": false,
    "ExecuteTime": {
     "end_time": "2023-12-13T04:11:18.576307Z",
     "start_time": "2023-12-13T04:11:16.328708Z"
    }
   },
   "id": "e2ba04013cb5fded"
  },
  {
   "cell_type": "code",
   "execution_count": 13,
   "outputs": [
    {
     "data": {
      "text/plain": "{'token_acc': 1.0,\n 'token_p': 1.0,\n 'token_r': 1.0,\n 'token_f': 1.0,\n 'ents_p': 0.6464367816091954,\n 'ents_r': 0.5103448275862069,\n 'ents_f': 0.5703853955375254,\n 'ents_per_type': {'ROLE': {'p': 0.68,\n   'r': 0.5396825396825397,\n   'f': 0.6017699115044247},\n  'SOFT_SKILL': {'p': 0.6253521126760564,\n   'r': 0.7375415282392026,\n   'f': 0.6768292682926829},\n  'TECH_SKILL': {'p': 0.6204595997034841,\n   'r': 0.5113011606597434,\n   'f': 0.5606162089752178},\n  'DEGREE': {'p': 0.4732824427480916, 'r': 0.5299145299145299, 'f': 0.5},\n  'PROG_LANG': {'p': 0.9041666666666667,\n   'r': 0.8509803921568627,\n   'f': 0.8767676767676768},\n  'REQ': {'p': 0.0, 'r': 0.0, 'f': 0.0},\n  'RESP': {'p': 0.0, 'r': 0.0, 'f': 0.0},\n  'OTHER': {'p': 0.0, 'r': 0.0, 'f': 0.0},\n  'DOMAIN': {'p': 0.0, 'r': 0.0, 'f': 0.0}}}"
     },
     "execution_count": 13,
     "metadata": {},
     "output_type": "execute_result"
    }
   ],
   "source": [
    "custom_scores.score(custom_examples)"
   ],
   "metadata": {
    "collapsed": false,
    "ExecuteTime": {
     "end_time": "2023-12-13T04:11:29.316600Z",
     "start_time": "2023-12-13T04:11:28.827255Z"
    }
   },
   "id": "34b33f3afa24188f"
  },
  {
   "cell_type": "code",
   "execution_count": 25,
   "outputs": [
    {
     "data": {
      "text/plain": "{'token_acc': 1.0,\n 'token_p': 1.0,\n 'token_r': 1.0,\n 'token_f': 1.0,\n 'ents_p': 0.6464367816091954,\n 'ents_r': 0.5103448275862069,\n 'ents_f': 0.5703853955375254,\n 'ents_per_type': {'ROLE': {'p': 0.68,\n   'r': 0.5396825396825397,\n   'f': 0.6017699115044247},\n  'SOFT_SKILL': {'p': 0.6253521126760564,\n   'r': 0.7375415282392026,\n   'f': 0.6768292682926829},\n  'TECH_SKILL': {'p': 0.6204595997034841,\n   'r': 0.5113011606597434,\n   'f': 0.5606162089752178},\n  'DEGREE': {'p': 0.4732824427480916, 'r': 0.5299145299145299, 'f': 0.5},\n  'PROG_LANG': {'p': 0.9041666666666667,\n   'r': 0.8509803921568627,\n   'f': 0.8767676767676768},\n  'REQ': {'p': 0.0, 'r': 0.0, 'f': 0.0},\n  'RESP': {'p': 0.0, 'r': 0.0, 'f': 0.0},\n  'OTHER': {'p': 0.0, 'r': 0.0, 'f': 0.0},\n  'DOMAIN': {'p': 0.0, 'r': 0.0, 'f': 0.0}}}"
     },
     "execution_count": 25,
     "metadata": {},
     "output_type": "execute_result"
    }
   ],
   "source": [
    "metrics_score = custom_scores.score(custom_examples)\n",
    "metrics_score"
   ],
   "metadata": {
    "collapsed": false,
    "ExecuteTime": {
     "end_time": "2023-12-13T04:17:29.596621Z",
     "start_time": "2023-12-13T04:17:29.378660Z"
    }
   },
   "id": "1398204432d671bd"
  },
  {
   "cell_type": "code",
   "execution_count": 26,
   "outputs": [
    {
     "data": {
      "text/plain": "       Entity  Precision    Recall   F-score\n0        ROLE   0.680000  0.539683  0.601770\n1  SOFT_SKILL   0.625352  0.737542  0.676829\n2  TECH_SKILL   0.620460  0.511301  0.560616\n3      DEGREE   0.473282  0.529915  0.500000\n4   PROG_LANG   0.904167  0.850980  0.876768\n5         REQ   0.000000  0.000000  0.000000\n6        RESP   0.000000  0.000000  0.000000\n7       OTHER   0.000000  0.000000  0.000000\n8      DOMAIN   0.000000  0.000000  0.000000",
      "text/html": "<div>\n<style scoped>\n    .dataframe tbody tr th:only-of-type {\n        vertical-align: middle;\n    }\n\n    .dataframe tbody tr th {\n        vertical-align: top;\n    }\n\n    .dataframe thead th {\n        text-align: right;\n    }\n</style>\n<table border=\"1\" class=\"dataframe\">\n  <thead>\n    <tr style=\"text-align: right;\">\n      <th></th>\n      <th>Entity</th>\n      <th>Precision</th>\n      <th>Recall</th>\n      <th>F-score</th>\n    </tr>\n  </thead>\n  <tbody>\n    <tr>\n      <th>0</th>\n      <td>ROLE</td>\n      <td>0.680000</td>\n      <td>0.539683</td>\n      <td>0.601770</td>\n    </tr>\n    <tr>\n      <th>1</th>\n      <td>SOFT_SKILL</td>\n      <td>0.625352</td>\n      <td>0.737542</td>\n      <td>0.676829</td>\n    </tr>\n    <tr>\n      <th>2</th>\n      <td>TECH_SKILL</td>\n      <td>0.620460</td>\n      <td>0.511301</td>\n      <td>0.560616</td>\n    </tr>\n    <tr>\n      <th>3</th>\n      <td>DEGREE</td>\n      <td>0.473282</td>\n      <td>0.529915</td>\n      <td>0.500000</td>\n    </tr>\n    <tr>\n      <th>4</th>\n      <td>PROG_LANG</td>\n      <td>0.904167</td>\n      <td>0.850980</td>\n      <td>0.876768</td>\n    </tr>\n    <tr>\n      <th>5</th>\n      <td>REQ</td>\n      <td>0.000000</td>\n      <td>0.000000</td>\n      <td>0.000000</td>\n    </tr>\n    <tr>\n      <th>6</th>\n      <td>RESP</td>\n      <td>0.000000</td>\n      <td>0.000000</td>\n      <td>0.000000</td>\n    </tr>\n    <tr>\n      <th>7</th>\n      <td>OTHER</td>\n      <td>0.000000</td>\n      <td>0.000000</td>\n      <td>0.000000</td>\n    </tr>\n    <tr>\n      <th>8</th>\n      <td>DOMAIN</td>\n      <td>0.000000</td>\n      <td>0.000000</td>\n      <td>0.000000</td>\n    </tr>\n  </tbody>\n</table>\n</div>"
     },
     "execution_count": 26,
     "metadata": {},
     "output_type": "execute_result"
    }
   ],
   "source": [
    "\n",
    "scores = []\n",
    "for ent in metrics_score['ents_per_type']:\n",
    "    scores.append([ent, metrics_score['ents_per_type'][ent]['p'], metrics_score['ents_per_type'][ent]['r'], metrics_score['ents_per_type'][ent]['f']])\n",
    "    \n",
    "df = pd.DataFrame(scores, columns=['Entity', 'Precision', 'Recall', 'F-score'])\n",
    "df"
   ],
   "metadata": {
    "collapsed": false,
    "ExecuteTime": {
     "end_time": "2023-12-13T04:17:53.185602Z",
     "start_time": "2023-12-13T04:17:53.151923Z"
    }
   },
   "id": "7a5f54544777b0fb"
  },
  {
   "cell_type": "code",
   "execution_count": 14,
   "outputs": [
    {
     "data": {
      "text/plain": "<IPython.core.display.HTML object>",
      "text/html": "<span class=\"tex2jax_ignore\"><div class=\"entities\" style=\"line-height: 2.5; direction: ltr\">This is an exciting opportunity for a software engineer passionate about open source software, \n<mark class=\"entity\" style=\"background: #bfeeb7; padding: 0.45em 0.6em; margin: 0 0.25em; line-height: 1; border-radius: 0.35em;\">\n    Linux\n    <span style=\"font-size: 0.8em; font-weight: bold; line-height: 1; border-radius: 0.35em; vertical-align: middle; margin-left: 0.5rem\">PRODUCT</span>\n</mark>\n, containers, virtualization and Ubuntu Server. Come build a rewarding, meaningful career working with the best and brightest people in technology at Canonical, a growing international software company.<br>Ubuntu Server is a platform that enables amazing technology the whole world over. Applicants to this role will have the opportunity to bolster the Ubuntu Server as a platform for containers and virtual machines. They will get to work with our experienced team and have the benefits of learning and growing alongside the best engineers in the business.<br>What you’ll do<br>Collaborate proactively with a distributed team<br>Write high quality code to create new features<br>Debug issues and produce high quality code to fix them<br>Review code produced by other engineers<br>Discuss ideas and collaborate on finding good solutions<br>Work from home with global travel \n<mark class=\"entity\" style=\"background: #bfe1d9; padding: 0.45em 0.6em; margin: 0 0.25em; line-height: 1; border-radius: 0.35em;\">\n    2 to 4 weeks\n    <span style=\"font-size: 0.8em; font-weight: bold; line-height: 1; border-radius: 0.35em; vertical-align: middle; margin-left: 0.5rem\">DATE</span>\n</mark>\n for internal and external events<br>Become involved in the planning of new Ubuntu features, both new ideas in your areas of interest and advising on work being done elsewhere<br>Assist in the maintenance of Ubuntu Server packages. Specifically but not limited to:<br>Virtualisation (qemu, kvm, libvirt, …)<br>Containers (runc, containerd, docker, …)<br>Collaborate with other teams in the Ubuntu and Debian communities, with upstream projects, and commercially supported customers<br>Collaborate and work with our partners to make Ubuntu the best experience in the cloud<br>Who you are<br>You love technology and working with brilliant people<br>You have interest and experience with Container runtimes or \n<mark class=\"entity\" style=\"background: #7aecec; padding: 0.45em 0.6em; margin: 0 0.25em; line-height: 1; border-radius: 0.35em;\">\n    Hipervisor\n    <span style=\"font-size: 0.8em; font-weight: bold; line-height: 1; border-radius: 0.35em; vertical-align: middle; margin-left: 0.5rem\">ORG</span>\n</mark>\n software stacks (or both)<br>You have interest and experience in packaging (Already knowing .deb or snap packaging is a plus)<br>You are curious, articulate, and accountable<br>You value soft skills and are passionate, enterprising, thoughtful, and self-motivated<br>You have a \n<mark class=\"entity\" style=\"background: #7aecec; padding: 0.45em 0.6em; margin: 0 0.25em; line-height: 1; border-radius: 0.35em;\">\n    Bachelor\n    <span style=\"font-size: 0.8em; font-weight: bold; line-height: 1; border-radius: 0.35em; vertical-align: middle; margin-left: 0.5rem\">ORG</span>\n</mark>\n’s or equivalent in \n<mark class=\"entity\" style=\"background: #7aecec; padding: 0.45em 0.6em; margin: 0 0.25em; line-height: 1; border-radius: 0.35em;\">\n    Computer Science\n    <span style=\"font-size: 0.8em; font-weight: bold; line-height: 1; border-radius: 0.35em; vertical-align: middle; margin-left: 0.5rem\">ORG</span>\n</mark>\n, STEM or similar degree<br>Involvement in open source projects or maintaining or participating distributed software in the past a plus<br>Bonus: if you are familiar with an hypervisor ecosystem using rust-vmm or even better being part of such a community.<br> <br>Canonical is proud to foster a workplace free from discrimination. We truly believe that diversity of experience, perspectives, and background will lead to a better environment for our employees and a better platform for our users and customers. This is something we value deeply and we encourage everyone to come be a part of the world of Ubuntu.<br> <br></div></span>"
     },
     "metadata": {},
     "output_type": "display_data"
    },
    {
     "data": {
      "text/plain": "<IPython.core.display.HTML object>",
      "text/html": "<span class=\"tex2jax_ignore\"><div class=\"entities\" style=\"line-height: 2.5; direction: ltr\">This is an exciting opportunity for a \n<mark class=\"entity\" style=\"background: #ddd; padding: 0.45em 0.6em; margin: 0 0.25em; line-height: 1; border-radius: 0.35em;\">\n    software engineer\n    <span style=\"font-size: 0.8em; font-weight: bold; line-height: 1; border-radius: 0.35em; vertical-align: middle; margin-left: 0.5rem\">ROLE</span>\n</mark>\n \n<mark class=\"entity\" style=\"background: #ddd; padding: 0.45em 0.6em; margin: 0 0.25em; line-height: 1; border-radius: 0.35em;\">\n    passionate\n    <span style=\"font-size: 0.8em; font-weight: bold; line-height: 1; border-radius: 0.35em; vertical-align: middle; margin-left: 0.5rem\">SOFT_SKILL</span>\n</mark>\n about \n<mark class=\"entity\" style=\"background: #ddd; padding: 0.45em 0.6em; margin: 0 0.25em; line-height: 1; border-radius: 0.35em;\">\n    open source\n    <span style=\"font-size: 0.8em; font-weight: bold; line-height: 1; border-radius: 0.35em; vertical-align: middle; margin-left: 0.5rem\">TECH_SKILL</span>\n</mark>\n software, \n<mark class=\"entity\" style=\"background: #ddd; padding: 0.45em 0.6em; margin: 0 0.25em; line-height: 1; border-radius: 0.35em;\">\n    Linux\n    <span style=\"font-size: 0.8em; font-weight: bold; line-height: 1; border-radius: 0.35em; vertical-align: middle; margin-left: 0.5rem\">TECH_SKILL</span>\n</mark>\n, \n<mark class=\"entity\" style=\"background: #ddd; padding: 0.45em 0.6em; margin: 0 0.25em; line-height: 1; border-radius: 0.35em;\">\n    containers\n    <span style=\"font-size: 0.8em; font-weight: bold; line-height: 1; border-radius: 0.35em; vertical-align: middle; margin-left: 0.5rem\">TECH_SKILL</span>\n</mark>\n, \n<mark class=\"entity\" style=\"background: #ddd; padding: 0.45em 0.6em; margin: 0 0.25em; line-height: 1; border-radius: 0.35em;\">\n    virtualization\n    <span style=\"font-size: 0.8em; font-weight: bold; line-height: 1; border-radius: 0.35em; vertical-align: middle; margin-left: 0.5rem\">TECH_SKILL</span>\n</mark>\n and \n<mark class=\"entity\" style=\"background: #ddd; padding: 0.45em 0.6em; margin: 0 0.25em; line-height: 1; border-radius: 0.35em;\">\n    Ubuntu\n    <span style=\"font-size: 0.8em; font-weight: bold; line-height: 1; border-radius: 0.35em; vertical-align: middle; margin-left: 0.5rem\">TECH_SKILL</span>\n</mark>\n \n<mark class=\"entity\" style=\"background: #ddd; padding: 0.45em 0.6em; margin: 0 0.25em; line-height: 1; border-radius: 0.35em;\">\n    Server\n    <span style=\"font-size: 0.8em; font-weight: bold; line-height: 1; border-radius: 0.35em; vertical-align: middle; margin-left: 0.5rem\">TECH_SKILL</span>\n</mark>\n. Come build a rewarding, meaningful career working with the best and brightest people in technology at Canonical, a growing international software company.<br>\n<mark class=\"entity\" style=\"background: #ddd; padding: 0.45em 0.6em; margin: 0 0.25em; line-height: 1; border-radius: 0.35em;\">\n    Ubuntu\n    <span style=\"font-size: 0.8em; font-weight: bold; line-height: 1; border-radius: 0.35em; vertical-align: middle; margin-left: 0.5rem\">TECH_SKILL</span>\n</mark>\n \n<mark class=\"entity\" style=\"background: #ddd; padding: 0.45em 0.6em; margin: 0 0.25em; line-height: 1; border-radius: 0.35em;\">\n    Server\n    <span style=\"font-size: 0.8em; font-weight: bold; line-height: 1; border-radius: 0.35em; vertical-align: middle; margin-left: 0.5rem\">TECH_SKILL</span>\n</mark>\n is a platform that enables amazing technology the whole world over. Applicants to this role will have the opportunity to bolster the \n<mark class=\"entity\" style=\"background: #ddd; padding: 0.45em 0.6em; margin: 0 0.25em; line-height: 1; border-radius: 0.35em;\">\n    Ubuntu\n    <span style=\"font-size: 0.8em; font-weight: bold; line-height: 1; border-radius: 0.35em; vertical-align: middle; margin-left: 0.5rem\">TECH_SKILL</span>\n</mark>\n \n<mark class=\"entity\" style=\"background: #ddd; padding: 0.45em 0.6em; margin: 0 0.25em; line-height: 1; border-radius: 0.35em;\">\n    Server\n    <span style=\"font-size: 0.8em; font-weight: bold; line-height: 1; border-radius: 0.35em; vertical-align: middle; margin-left: 0.5rem\">TECH_SKILL</span>\n</mark>\n as a platform for \n<mark class=\"entity\" style=\"background: #ddd; padding: 0.45em 0.6em; margin: 0 0.25em; line-height: 1; border-radius: 0.35em;\">\n    containers\n    <span style=\"font-size: 0.8em; font-weight: bold; line-height: 1; border-radius: 0.35em; vertical-align: middle; margin-left: 0.5rem\">TECH_SKILL</span>\n</mark>\n and virtual machines. They will get to work with our experienced team and have the benefits of learning and growing alongside the best engineers in the business.<br>What you’ll do<br>\n<mark class=\"entity\" style=\"background: #ddd; padding: 0.45em 0.6em; margin: 0 0.25em; line-height: 1; border-radius: 0.35em;\">\n    Collaborate\n    <span style=\"font-size: 0.8em; font-weight: bold; line-height: 1; border-radius: 0.35em; vertical-align: middle; margin-left: 0.5rem\">SOFT_SKILL</span>\n</mark>\n proactively with a \n<mark class=\"entity\" style=\"background: #ddd; padding: 0.45em 0.6em; margin: 0 0.25em; line-height: 1; border-radius: 0.35em;\">\n    distributed\n    <span style=\"font-size: 0.8em; font-weight: bold; line-height: 1; border-radius: 0.35em; vertical-align: middle; margin-left: 0.5rem\">TECH_SKILL</span>\n</mark>\n team<br>Write high quality code to create new features<br>\n<mark class=\"entity\" style=\"background: #ddd; padding: 0.45em 0.6em; margin: 0 0.25em; line-height: 1; border-radius: 0.35em;\">\n    Debug\n    <span style=\"font-size: 0.8em; font-weight: bold; line-height: 1; border-radius: 0.35em; vertical-align: middle; margin-left: 0.5rem\">TECH_SKILL</span>\n</mark>\n issues and produce high quality code to fix them<br>Review code produced by other engineers<br>Discuss ideas and \n<mark class=\"entity\" style=\"background: #ddd; padding: 0.45em 0.6em; margin: 0 0.25em; line-height: 1; border-radius: 0.35em;\">\n    collaborate\n    <span style=\"font-size: 0.8em; font-weight: bold; line-height: 1; border-radius: 0.35em; vertical-align: middle; margin-left: 0.5rem\">SOFT_SKILL</span>\n</mark>\n on finding good solutions<br>Work from home with global travel 2 to 4 weeks for internal and external events<br>Become involved in the planning of new \n<mark class=\"entity\" style=\"background: #ddd; padding: 0.45em 0.6em; margin: 0 0.25em; line-height: 1; border-radius: 0.35em;\">\n    Ubuntu\n    <span style=\"font-size: 0.8em; font-weight: bold; line-height: 1; border-radius: 0.35em; vertical-align: middle; margin-left: 0.5rem\">TECH_SKILL</span>\n</mark>\n features, both new ideas in your areas of interest and advising on work being done elsewhere<br>Assist in the maintenance of \n<mark class=\"entity\" style=\"background: #ddd; padding: 0.45em 0.6em; margin: 0 0.25em; line-height: 1; border-radius: 0.35em;\">\n    Ubuntu\n    <span style=\"font-size: 0.8em; font-weight: bold; line-height: 1; border-radius: 0.35em; vertical-align: middle; margin-left: 0.5rem\">TECH_SKILL</span>\n</mark>\n \n<mark class=\"entity\" style=\"background: #ddd; padding: 0.45em 0.6em; margin: 0 0.25em; line-height: 1; border-radius: 0.35em;\">\n    Server\n    <span style=\"font-size: 0.8em; font-weight: bold; line-height: 1; border-radius: 0.35em; vertical-align: middle; margin-left: 0.5rem\">TECH_SKILL</span>\n</mark>\n packages. Specifically but not limited to:<br>Virtualisation (\n<mark class=\"entity\" style=\"background: #ddd; padding: 0.45em 0.6em; margin: 0 0.25em; line-height: 1; border-radius: 0.35em;\">\n    qemu\n    <span style=\"font-size: 0.8em; font-weight: bold; line-height: 1; border-radius: 0.35em; vertical-align: middle; margin-left: 0.5rem\">TECH_SKILL</span>\n</mark>\n, \n<mark class=\"entity\" style=\"background: #ddd; padding: 0.45em 0.6em; margin: 0 0.25em; line-height: 1; border-radius: 0.35em;\">\n    kvm\n    <span style=\"font-size: 0.8em; font-weight: bold; line-height: 1; border-radius: 0.35em; vertical-align: middle; margin-left: 0.5rem\">TECH_SKILL</span>\n</mark>\n, \n<mark class=\"entity\" style=\"background: #ddd; padding: 0.45em 0.6em; margin: 0 0.25em; line-height: 1; border-radius: 0.35em;\">\n    libvirt\n    <span style=\"font-size: 0.8em; font-weight: bold; line-height: 1; border-radius: 0.35em; vertical-align: middle; margin-left: 0.5rem\">TECH_SKILL</span>\n</mark>\n, …)<br>\n<mark class=\"entity\" style=\"background: #ddd; padding: 0.45em 0.6em; margin: 0 0.25em; line-height: 1; border-radius: 0.35em;\">\n    Containers\n    <span style=\"font-size: 0.8em; font-weight: bold; line-height: 1; border-radius: 0.35em; vertical-align: middle; margin-left: 0.5rem\">TECH_SKILL</span>\n</mark>\n (\n<mark class=\"entity\" style=\"background: #ddd; padding: 0.45em 0.6em; margin: 0 0.25em; line-height: 1; border-radius: 0.35em;\">\n    runc\n    <span style=\"font-size: 0.8em; font-weight: bold; line-height: 1; border-radius: 0.35em; vertical-align: middle; margin-left: 0.5rem\">TECH_SKILL</span>\n</mark>\n, \n<mark class=\"entity\" style=\"background: #ddd; padding: 0.45em 0.6em; margin: 0 0.25em; line-height: 1; border-radius: 0.35em;\">\n    containerd\n    <span style=\"font-size: 0.8em; font-weight: bold; line-height: 1; border-radius: 0.35em; vertical-align: middle; margin-left: 0.5rem\">TECH_SKILL</span>\n</mark>\n, \n<mark class=\"entity\" style=\"background: #ddd; padding: 0.45em 0.6em; margin: 0 0.25em; line-height: 1; border-radius: 0.35em;\">\n    docker\n    <span style=\"font-size: 0.8em; font-weight: bold; line-height: 1; border-radius: 0.35em; vertical-align: middle; margin-left: 0.5rem\">TECH_SKILL</span>\n</mark>\n, …)<br>\n<mark class=\"entity\" style=\"background: #ddd; padding: 0.45em 0.6em; margin: 0 0.25em; line-height: 1; border-radius: 0.35em;\">\n    Collaborate\n    <span style=\"font-size: 0.8em; font-weight: bold; line-height: 1; border-radius: 0.35em; vertical-align: middle; margin-left: 0.5rem\">SOFT_SKILL</span>\n</mark>\n with other teams in the \n<mark class=\"entity\" style=\"background: #ddd; padding: 0.45em 0.6em; margin: 0 0.25em; line-height: 1; border-radius: 0.35em;\">\n    Ubuntu\n    <span style=\"font-size: 0.8em; font-weight: bold; line-height: 1; border-radius: 0.35em; vertical-align: middle; margin-left: 0.5rem\">TECH_SKILL</span>\n</mark>\n and \n<mark class=\"entity\" style=\"background: #ddd; padding: 0.45em 0.6em; margin: 0 0.25em; line-height: 1; border-radius: 0.35em;\">\n    Debian\n    <span style=\"font-size: 0.8em; font-weight: bold; line-height: 1; border-radius: 0.35em; vertical-align: middle; margin-left: 0.5rem\">TECH_SKILL</span>\n</mark>\n communities, with upstream projects, and commercially supported customers<br>\n<mark class=\"entity\" style=\"background: #ddd; padding: 0.45em 0.6em; margin: 0 0.25em; line-height: 1; border-radius: 0.35em;\">\n    Collaborate\n    <span style=\"font-size: 0.8em; font-weight: bold; line-height: 1; border-radius: 0.35em; vertical-align: middle; margin-left: 0.5rem\">SOFT_SKILL</span>\n</mark>\n and work with our partners to make \n<mark class=\"entity\" style=\"background: #ddd; padding: 0.45em 0.6em; margin: 0 0.25em; line-height: 1; border-radius: 0.35em;\">\n    Ubuntu\n    <span style=\"font-size: 0.8em; font-weight: bold; line-height: 1; border-radius: 0.35em; vertical-align: middle; margin-left: 0.5rem\">TECH_SKILL</span>\n</mark>\n the best experience in the \n<mark class=\"entity\" style=\"background: #ddd; padding: 0.45em 0.6em; margin: 0 0.25em; line-height: 1; border-radius: 0.35em;\">\n    cloud\n    <span style=\"font-size: 0.8em; font-weight: bold; line-height: 1; border-radius: 0.35em; vertical-align: middle; margin-left: 0.5rem\">TECH_SKILL</span>\n</mark>\n<br>Who you are<br>You love technology and working with \n<mark class=\"entity\" style=\"background: #ddd; padding: 0.45em 0.6em; margin: 0 0.25em; line-height: 1; border-radius: 0.35em;\">\n    brilliant\n    <span style=\"font-size: 0.8em; font-weight: bold; line-height: 1; border-radius: 0.35em; vertical-align: middle; margin-left: 0.5rem\">SOFT_SKILL</span>\n</mark>\n people<br>You have interest and experience with \n<mark class=\"entity\" style=\"background: #ddd; padding: 0.45em 0.6em; margin: 0 0.25em; line-height: 1; border-radius: 0.35em;\">\n    Container\n    <span style=\"font-size: 0.8em; font-weight: bold; line-height: 1; border-radius: 0.35em; vertical-align: middle; margin-left: 0.5rem\">TECH_SKILL</span>\n</mark>\n runtimes or Hipervisor software stacks (or both)<br>You have interest and experience in packaging (Already knowing .deb or snap packaging is a plus)<br>You are curious, articulate, and \n<mark class=\"entity\" style=\"background: #ddd; padding: 0.45em 0.6em; margin: 0 0.25em; line-height: 1; border-radius: 0.35em;\">\n    accountable\n    <span style=\"font-size: 0.8em; font-weight: bold; line-height: 1; border-radius: 0.35em; vertical-align: middle; margin-left: 0.5rem\">SOFT_SKILL</span>\n</mark>\n<br>You value soft skills and are \n<mark class=\"entity\" style=\"background: #ddd; padding: 0.45em 0.6em; margin: 0 0.25em; line-height: 1; border-radius: 0.35em;\">\n    passionate\n    <span style=\"font-size: 0.8em; font-weight: bold; line-height: 1; border-radius: 0.35em; vertical-align: middle; margin-left: 0.5rem\">SOFT_SKILL</span>\n</mark>\n, enterprising, \n<mark class=\"entity\" style=\"background: #ddd; padding: 0.45em 0.6em; margin: 0 0.25em; line-height: 1; border-radius: 0.35em;\">\n    thoughtful\n    <span style=\"font-size: 0.8em; font-weight: bold; line-height: 1; border-radius: 0.35em; vertical-align: middle; margin-left: 0.5rem\">SOFT_SKILL</span>\n</mark>\n, and self-motivated<br>You have a Bachelor’s or equivalent in \n<mark class=\"entity\" style=\"background: #ddd; padding: 0.45em 0.6em; margin: 0 0.25em; line-height: 1; border-radius: 0.35em;\">\n    Computer Science\n    <span style=\"font-size: 0.8em; font-weight: bold; line-height: 1; border-radius: 0.35em; vertical-align: middle; margin-left: 0.5rem\">DEGREE</span>\n</mark>\n, \n<mark class=\"entity\" style=\"background: #ddd; padding: 0.45em 0.6em; margin: 0 0.25em; line-height: 1; border-radius: 0.35em;\">\n    STEM\n    <span style=\"font-size: 0.8em; font-weight: bold; line-height: 1; border-radius: 0.35em; vertical-align: middle; margin-left: 0.5rem\">DEGREE</span>\n</mark>\n or similar degree<br>Involvement in \n<mark class=\"entity\" style=\"background: #ddd; padding: 0.45em 0.6em; margin: 0 0.25em; line-height: 1; border-radius: 0.35em;\">\n    open source\n    <span style=\"font-size: 0.8em; font-weight: bold; line-height: 1; border-radius: 0.35em; vertical-align: middle; margin-left: 0.5rem\">TECH_SKILL</span>\n</mark>\n projects or maintaining or participating \n<mark class=\"entity\" style=\"background: #ddd; padding: 0.45em 0.6em; margin: 0 0.25em; line-height: 1; border-radius: 0.35em;\">\n    distributed\n    <span style=\"font-size: 0.8em; font-weight: bold; line-height: 1; border-radius: 0.35em; vertical-align: middle; margin-left: 0.5rem\">TECH_SKILL</span>\n</mark>\n software in the past a plus<br>Bonus: if you are familiar with an \n<mark class=\"entity\" style=\"background: #ddd; padding: 0.45em 0.6em; margin: 0 0.25em; line-height: 1; border-radius: 0.35em;\">\n    hypervisor\n    <span style=\"font-size: 0.8em; font-weight: bold; line-height: 1; border-radius: 0.35em; vertical-align: middle; margin-left: 0.5rem\">TECH_SKILL</span>\n</mark>\n ecosystem using \n<mark class=\"entity\" style=\"background: #ddd; padding: 0.45em 0.6em; margin: 0 0.25em; line-height: 1; border-radius: 0.35em;\">\n    rust\n    <span style=\"font-size: 0.8em; font-weight: bold; line-height: 1; border-radius: 0.35em; vertical-align: middle; margin-left: 0.5rem\">PROG_LANG</span>\n</mark>\n-vmm or even better being part of such a community.<br> <br>Canonical is proud to foster a workplace free from discrimination. We truly believe that diversity of experience, perspectives, and background will lead to a better environment for our employees and a better platform for our users and customers. This is something we value deeply and we encourage everyone to come be a part of the world of \n<mark class=\"entity\" style=\"background: #ddd; padding: 0.45em 0.6em; margin: 0 0.25em; line-height: 1; border-radius: 0.35em;\">\n    Ubuntu\n    <span style=\"font-size: 0.8em; font-weight: bold; line-height: 1; border-radius: 0.35em; vertical-align: middle; margin-left: 0.5rem\">TECH_SKILL</span>\n</mark>\n.<br> <br></div></span>"
     },
     "metadata": {},
     "output_type": "display_data"
    }
   ],
   "source": [
    "from spacy import displacy\n",
    "spacy_doc = spacy_nlp(training_labeled_data[0][0])\n",
    "custom_doc = custom_nlp(training_labeled_data[0][0])\n",
    "displacy.render(spacy_doc, style='ent', jupyter=True)\n",
    "displacy.render(custom_doc, style='ent', jupyter=True)"
   ],
   "metadata": {
    "collapsed": false,
    "ExecuteTime": {
     "end_time": "2023-12-13T04:12:57.904540Z",
     "start_time": "2023-12-13T04:12:57.502829Z"
    }
   },
   "id": "4da4302aba97d9bc"
  },
  {
   "cell_type": "markdown",
   "source": [
    "### References\n",
    "1. https://labelstud.io/blog/evaluating-named-entity-recognition-parsers-with-spacy-and-label-studio/"
   ],
   "metadata": {
    "collapsed": false
   },
   "id": "b7f6e14c74859abe"
  },
  {
   "cell_type": "code",
   "execution_count": null,
   "outputs": [],
   "source": [],
   "metadata": {
    "collapsed": false
   },
   "id": "355212b4bc69fde4"
  }
 ],
 "metadata": {
  "kernelspec": {
   "display_name": "Python 3",
   "language": "python",
   "name": "python3"
  },
  "language_info": {
   "codemirror_mode": {
    "name": "ipython",
    "version": 2
   },
   "file_extension": ".py",
   "mimetype": "text/x-python",
   "name": "python",
   "nbconvert_exporter": "python",
   "pygments_lexer": "ipython2",
   "version": "2.7.6"
  }
 },
 "nbformat": 4,
 "nbformat_minor": 5
}
