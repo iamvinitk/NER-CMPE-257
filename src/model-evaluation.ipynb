{
 "cells": [
  {
   "cell_type": "code",
   "execution_count": 8,
   "id": "initial_id",
   "metadata": {
    "collapsed": true,
    "ExecuteTime": {
     "end_time": "2023-12-13T01:00:04.372990Z",
     "start_time": "2023-12-13T01:00:04.368033Z"
    }
   },
   "outputs": [],
   "source": [
    "import os\n",
    "import json\n",
    "import spacy\n",
    "from tqdm.notebook import tqdm\n",
    "from spacy.scorer import Scorer\n",
    "from spacy.training import Example"
   ]
  },
  {
   "cell_type": "code",
   "execution_count": 9,
   "outputs": [
    {
     "name": "stdout",
     "output_type": "stream",
     "text": [
      "True\n"
     ]
    }
   ],
   "source": [
    "gpu = spacy.prefer_gpu()\n",
    "print(gpu)"
   ],
   "metadata": {
    "collapsed": false,
    "ExecuteTime": {
     "end_time": "2023-12-13T01:00:05.471536Z",
     "start_time": "2023-12-13T01:00:05.469417Z"
    }
   },
   "id": "d228bbcffc8315b7"
  },
  {
   "cell_type": "code",
   "execution_count": 10,
   "outputs": [],
   "source": [
    "nlp = spacy.load('../training-output/v2/model-best')"
   ],
   "metadata": {
    "collapsed": false,
    "ExecuteTime": {
     "end_time": "2023-12-13T01:00:07.119931Z",
     "start_time": "2023-12-13T01:00:06.436724Z"
    }
   },
   "id": "de436ac884f38e31"
  },
  {
   "cell_type": "code",
   "execution_count": 11,
   "outputs": [],
   "source": [
    "with open('../label-studio-files/v1/output.json') as f:\n",
    "    labeled_data = json.load(f)"
   ],
   "metadata": {
    "collapsed": false,
    "ExecuteTime": {
     "end_time": "2023-12-13T01:00:07.932136Z",
     "start_time": "2023-12-13T01:00:07.909586Z"
    }
   },
   "id": "231ff3df85a1eccd"
  },
  {
   "cell_type": "code",
   "execution_count": 12,
   "outputs": [],
   "source": [
    "training_labeled_data = []\n",
    "for data in labeled_data:\n",
    "    text = data[\"data\"][\"text\"]\n",
    "    entities = []\n",
    "    for annotation in data[\"annotations\"][0][\"result\"]:\n",
    "        start = annotation[\"value\"][\"start\"]\n",
    "        end = annotation[\"value\"][\"end\"]\n",
    "        label = annotation[\"value\"][\"labels\"][0]\n",
    "        for ent in entities:\n",
    "            # check if the current entity is subspan of the annotated entity\n",
    "            if (start >= ent[0] and end <= ent[1]) or (start <= ent[0] and end >= ent[1]):\n",
    "                break\n",
    "        else:\n",
    "            entities.append((start, end, label))\n",
    "    training_labeled_data.append((text, {\"entities\": entities}))"
   ],
   "metadata": {
    "collapsed": false,
    "ExecuteTime": {
     "end_time": "2023-12-13T01:00:10.434244Z",
     "start_time": "2023-12-13T01:00:10.426636Z"
    }
   },
   "id": "ab850c339ce180c7"
  },
  {
   "cell_type": "code",
   "execution_count": 13,
   "outputs": [],
   "source": [
    "scorer = Scorer(nlp)"
   ],
   "metadata": {
    "collapsed": false,
    "ExecuteTime": {
     "end_time": "2023-12-13T01:00:11.218419Z",
     "start_time": "2023-12-13T01:00:11.215272Z"
    }
   },
   "id": "21614cec7b316ea7"
  },
  {
   "cell_type": "code",
   "execution_count": 15,
   "outputs": [
    {
     "name": "stderr",
     "output_type": "stream",
     "text": [
      "/Users/iamvinitk/miniconda3/envs/NER-CMPE-257/lib/python3.8/site-packages/spacy/training/iob_utils.py:149: UserWarning: [W030] Some entities could not be aligned in the text \"Airbnb was born in 2007 when two Hosts welcomed th...\" with entities \"[(404, 414, 'SOFT_SKILL'), (599, 612, 'TECH_SKILL'...\". Use `spacy.training.offsets_to_biluo_tags(nlp.make_doc(text), entities)` to check the alignment. Misaligned entities ('-') will be ignored during training.\n",
      "  warnings.warn(\n",
      "/Users/iamvinitk/miniconda3/envs/NER-CMPE-257/lib/python3.8/site-packages/spacy/training/iob_utils.py:149: UserWarning: [W030] Some entities could not be aligned in the text \"About Us\n",
      "At Cloudflare, we have our eyes set on an...\" with entities \"[(381, 389, 'TECH_SKILL'), (1407, 1412, 'TECH_SKIL...\". Use `spacy.training.offsets_to_biluo_tags(nlp.make_doc(text), entities)` to check the alignment. Misaligned entities ('-') will be ignored during training.\n",
      "  warnings.warn(\n",
      "/Users/iamvinitk/miniconda3/envs/NER-CMPE-257/lib/python3.8/site-packages/spacy/training/iob_utils.py:149: UserWarning: [W030] Some entities could not be aligned in the text \"Interested in being part of a team that impacts mi...\" with entities \"[(433, 449, 'DOMAIN'), (549, 561, 'TECH_SKILL'), (...\". Use `spacy.training.offsets_to_biluo_tags(nlp.make_doc(text), entities)` to check the alignment. Misaligned entities ('-') will be ignored during training.\n",
      "  warnings.warn(\n",
      "/Users/iamvinitk/miniconda3/envs/NER-CMPE-257/lib/python3.8/site-packages/spacy/training/iob_utils.py:149: UserWarning: [W030] Some entities could not be aligned in the text \"Astranis is on a mission to bridge the digital div...\" with entities \"[(1866, 1877, 'SOFT_SKILL'), (2107, 2123, 'DOMAIN'...\". Use `spacy.training.offsets_to_biluo_tags(nlp.make_doc(text), entities)` to check the alignment. Misaligned entities ('-') will be ignored during training.\n",
      "  warnings.warn(\n",
      "/Users/iamvinitk/miniconda3/envs/NER-CMPE-257/lib/python3.8/site-packages/spacy/training/iob_utils.py:149: UserWarning: [W030] Some entities could not be aligned in the text \"Because You Deserve More Than Just a Job\n",
      "In order ...\" with entities \"[(327, 343, 'DOMAIN'), (569, 586, 'ROLE'), (731, 7...\". Use `spacy.training.offsets_to_biluo_tags(nlp.make_doc(text), entities)` to check the alignment. Misaligned entities ('-') will be ignored during training.\n",
      "  warnings.warn(\n",
      "/Users/iamvinitk/miniconda3/envs/NER-CMPE-257/lib/python3.8/site-packages/spacy/training/iob_utils.py:149: UserWarning: [W030] Some entities could not be aligned in the text \"\n",
      "Data Engineers develop modern data architecture a...\" with entities \"[(1005, 1016, 'SOFT_SKILL'), (1242, 1256, 'TECH_SK...\". Use `spacy.training.offsets_to_biluo_tags(nlp.make_doc(text), entities)` to check the alignment. Misaligned entities ('-') will be ignored during training.\n",
      "  warnings.warn(\n",
      "/Users/iamvinitk/miniconda3/envs/NER-CMPE-257/lib/python3.8/site-packages/spacy/training/iob_utils.py:149: UserWarning: [W030] Some entities could not be aligned in the text \"Company Description:\n",
      "We are creating the future of...\" with entities \"[(3397, 3408, 'OTHER'), (3663, 3667, 'PROG_LANG'),...\". Use `spacy.training.offsets_to_biluo_tags(nlp.make_doc(text), entities)` to check the alignment. Misaligned entities ('-') will be ignored during training.\n",
      "  warnings.warn(\n",
      "/Users/iamvinitk/miniconda3/envs/NER-CMPE-257/lib/python3.8/site-packages/spacy/training/iob_utils.py:149: UserWarning: [W030] Some entities could not be aligned in the text \"About Mixpanel\n",
      "Mixpanel is event analytics platfor...\" with entities \"[(121, 124, 'TECH_SKILL'), (1132, 1151, 'TECH_SKIL...\". Use `spacy.training.offsets_to_biluo_tags(nlp.make_doc(text), entities)` to check the alignment. Misaligned entities ('-') will be ignored during training.\n",
      "  warnings.warn(\n",
      "/Users/iamvinitk/miniconda3/envs/NER-CMPE-257/lib/python3.8/site-packages/spacy/training/iob_utils.py:149: UserWarning: [W030] Some entities could not be aligned in the text \"Job Title: Full Stack Engineer - Microservices, AP...\" with entities \"[(11, 30, 'ROLE'), (133, 152, 'ROLE'), (914, 917, ...\". Use `spacy.training.offsets_to_biluo_tags(nlp.make_doc(text), entities)` to check the alignment. Misaligned entities ('-') will be ignored during training.\n",
      "  warnings.warn(\n",
      "/Users/iamvinitk/miniconda3/envs/NER-CMPE-257/lib/python3.8/site-packages/spacy/training/iob_utils.py:149: UserWarning: [W030] Some entities could not be aligned in the text \"Job Title: Data Quality/ Data Governance Consultan...\" with entities \"[(1863, 1874, 'SOFT_SKILL'), (1980, 1995, 'TECH_SK...\". Use `spacy.training.offsets_to_biluo_tags(nlp.make_doc(text), entities)` to check the alignment. Misaligned entities ('-') will be ignored during training.\n",
      "  warnings.warn(\n",
      "/Users/iamvinitk/miniconda3/envs/NER-CMPE-257/lib/python3.8/site-packages/spacy/training/iob_utils.py:149: UserWarning: [W030] Some entities could not be aligned in the text \"\n",
      "Teads has an engineering team that brings togethe...\" with entities \"[(1218, 1223, 'PROG_LANG'), (1228, 1238, 'PROG_LAN...\". Use `spacy.training.offsets_to_biluo_tags(nlp.make_doc(text), entities)` to check the alignment. Misaligned entities ('-') will be ignored during training.\n",
      "  warnings.warn(\n",
      "/Users/iamvinitk/miniconda3/envs/NER-CMPE-257/lib/python3.8/site-packages/spacy/training/iob_utils.py:149: UserWarning: [W030] Some entities could not be aligned in the text \"Position Overview\n",
      "As a Software Engineer, Intern, ...\" with entities \"[(23, 40, 'ROLE'), (680, 697, 'ROLE'), (1368, 1378...\". Use `spacy.training.offsets_to_biluo_tags(nlp.make_doc(text), entities)` to check the alignment. Misaligned entities ('-') will be ignored during training.\n",
      "  warnings.warn(\n",
      "/Users/iamvinitk/miniconda3/envs/NER-CMPE-257/lib/python3.8/site-packages/spacy/training/iob_utils.py:149: UserWarning: [W030] Some entities could not be aligned in the text \"Senior Software Engineer, ML\n",
      "At Lyft, our mission ...\" with entities \"[(638, 648, 'SOFT_SKILL'), (822, 838, 'TECH_SKILL'...\". Use `spacy.training.offsets_to_biluo_tags(nlp.make_doc(text), entities)` to check the alignment. Misaligned entities ('-') will be ignored during training.\n",
      "  warnings.warn(\n",
      "/Users/iamvinitk/miniconda3/envs/NER-CMPE-257/lib/python3.8/site-packages/spacy/training/iob_utils.py:149: UserWarning: [W030] Some entities could not be aligned in the text \"In order to join the ELEVI team you will need  \n",
      "Yo...\" with entities \"[(527, 544, 'ROLE'), (930, 936, 'PROG_LANG'), (957...\". Use `spacy.training.offsets_to_biluo_tags(nlp.make_doc(text), entities)` to check the alignment. Misaligned entities ('-') will be ignored during training.\n",
      "  warnings.warn(\n",
      "/Users/iamvinitk/miniconda3/envs/NER-CMPE-257/lib/python3.8/site-packages/spacy/training/iob_utils.py:149: UserWarning: [W030] Some entities could not be aligned in the text \"\n",
      "We're Celonis, the global leader in execution man...\" with entities \"[(1274, 1290, 'TECH_SKILL'), (1559, 1586, 'TECH_SK...\". Use `spacy.training.offsets_to_biluo_tags(nlp.make_doc(text), entities)` to check the alignment. Misaligned entities ('-') will be ignored during training.\n",
      "  warnings.warn(\n",
      "/Users/iamvinitk/miniconda3/envs/NER-CMPE-257/lib/python3.8/site-packages/spacy/training/iob_utils.py:149: UserWarning: [W030] Some entities could not be aligned in the text \"We're revolutionizing the fitness & wellness indus...\" with entities \"[(3176, 3177, 'PROG_LANG'), (3226, 3231, 'TECH_SKI...\". Use `spacy.training.offsets_to_biluo_tags(nlp.make_doc(text), entities)` to check the alignment. Misaligned entities ('-') will be ignored during training.\n",
      "  warnings.warn(\n",
      "/Users/iamvinitk/miniconda3/envs/NER-CMPE-257/lib/python3.8/site-packages/spacy/training/iob_utils.py:149: UserWarning: [W030] Some entities could not be aligned in the text \"Astranis is on a mission to bridge the digital div...\" with entities \"[(2007, 2023, 'DOMAIN'), (2108, 2109, 'PROG_LANG')...\". Use `spacy.training.offsets_to_biluo_tags(nlp.make_doc(text), entities)` to check the alignment. Misaligned entities ('-') will be ignored during training.\n",
      "  warnings.warn(\n",
      "/Users/iamvinitk/miniconda3/envs/NER-CMPE-257/lib/python3.8/site-packages/spacy/training/iob_utils.py:149: UserWarning: [W030] Some entities could not be aligned in the text \"See yourself at Twilio\n",
      "Join the team as our next S...\" with entities \"[(1502, 1513, 'TECH_SKILL'), (1896, 1906, 'SOFT_SK...\". Use `spacy.training.offsets_to_biluo_tags(nlp.make_doc(text), entities)` to check the alignment. Misaligned entities ('-') will be ignored during training.\n",
      "  warnings.warn(\n",
      "/Users/iamvinitk/miniconda3/envs/NER-CMPE-257/lib/python3.8/site-packages/spacy/training/iob_utils.py:149: UserWarning: [W030] Some entities could not be aligned in the text \"Build the future of data. Join the Snowflake team....\" with entities \"[(649, 665, 'TECH_SKILL'), (1223, 1237, 'ROLE'), (...\". Use `spacy.training.offsets_to_biluo_tags(nlp.make_doc(text), entities)` to check the alignment. Misaligned entities ('-') will be ignored during training.\n",
      "  warnings.warn(\n",
      "/Users/iamvinitk/miniconda3/envs/NER-CMPE-257/lib/python3.8/site-packages/spacy/training/iob_utils.py:149: UserWarning: [W030] Some entities could not be aligned in the text \"At Blue Origin, we envision millions of people liv...\" with entities \"[(1393, 1404, 'SOFT_SKILL'), (2096, 2105, 'TECH_SK...\". Use `spacy.training.offsets_to_biluo_tags(nlp.make_doc(text), entities)` to check the alignment. Misaligned entities ('-') will be ignored during training.\n",
      "  warnings.warn(\n"
     ]
    },
    {
     "data": {
      "text/plain": "{'token_acc': 1.0,\n 'token_p': 1.0,\n 'token_r': 1.0,\n 'token_f': 1.0,\n 'ents_p': 0.6464367816091954,\n 'ents_r': 0.5103448275862069,\n 'ents_f': 0.5703853955375254,\n 'ents_per_type': {'ROLE': {'p': 0.68,\n   'r': 0.5396825396825397,\n   'f': 0.6017699115044247},\n  'SOFT_SKILL': {'p': 0.6253521126760564,\n   'r': 0.7375415282392026,\n   'f': 0.6768292682926829},\n  'TECH_SKILL': {'p': 0.6204595997034841,\n   'r': 0.5113011606597434,\n   'f': 0.5606162089752178},\n  'DEGREE': {'p': 0.4732824427480916, 'r': 0.5299145299145299, 'f': 0.5},\n  'PROG_LANG': {'p': 0.9041666666666667,\n   'r': 0.8509803921568627,\n   'f': 0.8767676767676768},\n  'REQ': {'p': 0.0, 'r': 0.0, 'f': 0.0},\n  'RESP': {'p': 0.0, 'r': 0.0, 'f': 0.0},\n  'OTHER': {'p': 0.0, 'r': 0.0, 'f': 0.0},\n  'DOMAIN': {'p': 0.0, 'r': 0.0, 'f': 0.0}}}"
     },
     "execution_count": 15,
     "metadata": {},
     "output_type": "execute_result"
    }
   ],
   "source": [
    "job_descriptions = []\n",
    "for text, entities in training_labeled_data:\n",
    "    predicted = nlp(text)\n",
    "    example = Example.from_dict(predicted, entities)\n",
    "    job_descriptions.append(example)\n",
    "scorer.score(job_descriptions)"
   ],
   "metadata": {
    "collapsed": false,
    "ExecuteTime": {
     "end_time": "2023-12-13T01:01:15.760539Z",
     "start_time": "2023-12-13T01:00:16.073653Z"
    }
   },
   "id": "487a283ba5a5567"
  },
  {
   "cell_type": "code",
   "execution_count": 16,
   "outputs": [],
   "source": [
    "from itertools import groupby\n",
    "\n",
    "\n",
    "def doc_to_spans(doc):\n",
    "    tokens = [(tok.text, tok.idx, tok.ent_type_) for tok in doc]\n",
    "    results = []\n",
    "    entities = set()\n",
    "    for entity, group in groupby(tokens, key=lambda t: t[-1]):\n",
    "        if not entity:\n",
    "            continue\n",
    "        group = list(group)\n",
    "        _, start, _ = group[0]\n",
    "        word, last, _ = group[-1]\n",
    "        text = ' '.join(item[0] for item in group)\n",
    "        end = last + len(word)\n",
    "        results.append({\n",
    "            'from_name': 'label',\n",
    "            'to_name': 'text',\n",
    "            'type': 'labels',\n",
    "            'value': {\n",
    "                'start': start,\n",
    "                'end': end,\n",
    "                'text': text,\n",
    "                'labels': [entity]\n",
    "            }\n",
    "        })\n",
    "        entities.add(entity)\n",
    "\n",
    "    return results, entities"
   ],
   "metadata": {
    "collapsed": false,
    "ExecuteTime": {
     "end_time": "2023-12-13T01:01:56.820533Z",
     "start_time": "2023-12-13T01:01:56.812711Z"
    }
   },
   "id": "b72038feba8bcdf4"
  },
  {
   "cell_type": "code",
   "execution_count": 17,
   "outputs": [],
   "source": [
    "entities = set()\n",
    "tasks = []\n",
    "for data in labeled_data:\n",
    "    text = data[\"data\"][\"text\"]\n",
    "    doc = nlp(text)\n",
    "    spans, ents = doc_to_spans(doc)\n",
    "    entities |= ents\n",
    "\n",
    "    tasks.append({\n",
    "        'data': {'text': text},\n",
    "        'predictions': [{'model_version': 'v2', 'result': spans}],\n",
    "    })"
   ],
   "metadata": {
    "collapsed": false,
    "ExecuteTime": {
     "end_time": "2023-12-13T01:02:58.167499Z",
     "start_time": "2023-12-13T01:01:57.922468Z"
    }
   },
   "id": "3a27ababc523e477"
  },
  {
   "cell_type": "code",
   "execution_count": 18,
   "outputs": [
    {
     "name": "stdout",
     "output_type": "stream",
     "text": [
      "Save 121 tasks to \"tasks.json\"\n",
      "Named entities are saved to \"named_entities.txt\"\n"
     ]
    }
   ],
   "source": [
    "# Save Label Studio tasks.json\n",
    "print(f'Save {len(tasks)} tasks to \"tasks.json\"')\n",
    "with open('../label-studio-files/v2/tasks.json', mode='w') as f:\n",
    "    json.dump(tasks, f, indent=2)\n",
    "    \n",
    "# Save class labels as a txt file\n",
    "print('Named entities are saved to \"named_entities.txt\"')\n",
    "with open('../label-studio-files/v2/named_entities.txt', mode='w') as f:\n",
    "    f.write('\\n'.join(sorted(entities)))"
   ],
   "metadata": {
    "collapsed": false,
    "ExecuteTime": {
     "end_time": "2023-12-13T01:03:35.599886Z",
     "start_time": "2023-12-13T01:03:35.562287Z"
    }
   },
   "id": "a160e08329ac4d42"
  },
  {
   "cell_type": "markdown",
   "source": [
    "### References\n",
    "1. https://labelstud.io/blog/evaluating-named-entity-recognition-parsers-with-spacy-and-label-studio/"
   ],
   "metadata": {
    "collapsed": false
   },
   "id": "b7f6e14c74859abe"
  },
  {
   "cell_type": "code",
   "execution_count": null,
   "outputs": [],
   "source": [],
   "metadata": {
    "collapsed": false
   },
   "id": "355212b4bc69fde4"
  }
 ],
 "metadata": {
  "kernelspec": {
   "display_name": "Python 3",
   "language": "python",
   "name": "python3"
  },
  "language_info": {
   "codemirror_mode": {
    "name": "ipython",
    "version": 2
   },
   "file_extension": ".py",
   "mimetype": "text/x-python",
   "name": "python",
   "nbconvert_exporter": "python",
   "pygments_lexer": "ipython2",
   "version": "2.7.6"
  }
 },
 "nbformat": 4,
 "nbformat_minor": 5
}
