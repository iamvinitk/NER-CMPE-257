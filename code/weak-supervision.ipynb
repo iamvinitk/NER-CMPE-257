{
 "cells": [
  {
   "cell_type": "code",
   "execution_count": 1,
   "id": "initial_id",
   "metadata": {
    "ExecuteTime": {
     "end_time": "2023-11-11T06:27:16.822949Z",
     "start_time": "2023-11-11T06:27:15.555635Z"
    }
   },
   "outputs": [],
   "source": [
    "import spacy\n",
    "import skweak\n",
    "import os\n",
    "import re"
   ]
  },
  {
   "cell_type": "code",
   "execution_count": 2,
   "outputs": [],
   "source": [
    "## Load the dataset\n",
    "path = os.getcwd()\n",
    "files = os.listdir(path + '/../data')\n",
    "files_txt = [i for i in files if i.endswith('.txt')]\n",
    "# read all content in txt files\n",
    "texts = []\n",
    "for file in files_txt:\n",
    "    with open(path + '/../data/' + file, 'r') as f:\n",
    "        text = f.read()\n",
    "        text = re.sub('\\\\s+', ' ', text)\n",
    "        texts.append(text)"
   ],
   "metadata": {
    "collapsed": false,
    "ExecuteTime": {
     "end_time": "2023-11-11T06:27:19.390537Z",
     "start_time": "2023-11-11T06:27:16.823640Z"
    }
   },
   "id": "52d1763dfff78eb7"
  },
  {
   "cell_type": "code",
   "execution_count": 3,
   "id": "4a7d80fb44a2fc57",
   "metadata": {
    "collapsed": false,
    "ExecuteTime": {
     "end_time": "2023-11-11T06:27:20.064895Z",
     "start_time": "2023-11-11T06:27:19.391804Z"
    }
   },
   "outputs": [],
   "source": [
    "nlp = spacy.load('en_core_web_md', disable=['ner', 'lemmatizer'])"
   ]
  },
  {
   "cell_type": "code",
   "execution_count": 4,
   "id": "377df098be4e29ae",
   "metadata": {
    "collapsed": false,
    "ExecuteTime": {
     "end_time": "2023-11-11T06:27:20.068283Z",
     "start_time": "2023-11-11T06:27:20.066140Z"
    }
   },
   "outputs": [],
   "source": [
    "sample_text = \"\"\"\n",
    "\n",
    "Airbnb was born in 2007 when two Hosts welcomed three guests to their San Francisco home, and has since grown to over 4 million Hosts who have welcomed more than 1 billion guest arrivals in almost every country across the globe. Every day, Hosts offer unique stays and experiences that make it possible for guests to connect with communities in a more authentic way.The Community You Will Join: \n",
    "The mission of the Airbnb Global Safety  Security (GSS) team is to ensure the safety and security of our Airfam as well as provide peace of mind for Airbnbs global community through proactive security risk management.  You will work with seasoned professionals who have extensive experience developing, implementing and leading world class security programs, to include Global Security Operations, Global Security Intelligence Center, Law Enforcement Operations, Risk Intelligence, Trust  Safety Advisory Coalition, Executive Protection, Global Travel Risk Management, Global Special Events, and Global Threat Assessment Program.\n",
    "\n",
    "Understand data needs by interfacing with fellow Analytics Engineers, Data Scientists, Data Engineers, and Business Partners\n",
    "Architect, build, and launch efficient  reliable data models and pipelines in partnership with Data Engineering\n",
    "Design and implement metrics and dimensions to enable analysis and predictive modeling\n",
    "Design and develop data resources to enable self-serve data consumption\n",
    "Build tools for auditing, error logging, and validating data tables\n",
    "Define logging needs in partnership with Data Engineering\n",
    "Define and share best practices on metric, dimension, and data model development for analytics use\n",
    "Build and improve data tooling in partnership with Data Platform teams\n",
    "Be a technical expert on data model usage\n",
    "Own and review code changes to certified metric and dimension definitions\n",
    "Manage communication of data model updates and changes across organization\n",
    "Ensure data models are fully documented, and metrics and dimensions have clear descriptions and metadata\n",
    "\n",
    "Minimum Qualifications:\n",
    "\n",
    "Passion for high data quality and scaling data science work\n",
    "6 years of relevant industry experience\n",
    "Strong skills in SQL and distributed system optimization (e.g. Spark, Presto, Hive)\n",
    "Experience in schema design and dimensional data modeling\n",
    "Experience in at least one programming language for data analysis (e.g. Python, R)\n",
    "Proven ability to succeed in both collaborative and independent work environments\n",
    "Detail-oriented and excited to learn new skills and tools\n",
    "Strong influence and relationship management skills\n",
    "\n",
    "Preferred Qualifications:\n",
    "\n",
    "Experience with an ETL framework like Airflow\n",
    "Python, Scala, Superset preferred.\n",
    "Effective story-telling  articulation skills  ability to convert analytical output into clear, concise, and persuasive insights  recommendations for technical  non-technical audience\n",
    "An eye for design when it comes to dashboards and visualization tools\n",
    "Familiarity with experimentation and machine learning technique\n",
    "\"\"\"\n",
    "sample_text = re.sub('\\\\s+', ' ', sample_text)"
   ]
  },
  {
   "cell_type": "code",
   "execution_count": 5,
   "id": "efeddcb2813d6f5f",
   "metadata": {
    "collapsed": false,
    "ExecuteTime": {
     "end_time": "2023-11-11T06:27:20.123117Z",
     "start_time": "2023-11-11T06:27:20.074633Z"
    }
   },
   "outputs": [],
   "source": [
    "doc = nlp(sample_text)"
   ]
  },
  {
   "cell_type": "code",
   "execution_count": 6,
   "id": "1f46c83ad1f1dc7",
   "metadata": {
    "collapsed": false,
    "ExecuteTime": {
     "end_time": "2023-11-11T06:27:22.153661Z",
     "start_time": "2023-11-11T06:27:20.125227Z"
    }
   },
   "outputs": [],
   "source": [
    "annotator = skweak.spacy.ModelAnnotator(\"spacy_trf\", \"en_core_web_trf\")"
   ]
  },
  {
   "cell_type": "code",
   "execution_count": 7,
   "id": "f8e8198fcf940345",
   "metadata": {
    "collapsed": false,
    "ExecuteTime": {
     "end_time": "2023-11-11T06:27:22.366501Z",
     "start_time": "2023-11-11T06:27:22.158371Z"
    }
   },
   "outputs": [],
   "source": [
    "doc = annotator(doc)"
   ]
  },
  {
   "cell_type": "code",
   "execution_count": 8,
   "id": "55ba856c0d106c26",
   "metadata": {
    "collapsed": false,
    "ExecuteTime": {
     "end_time": "2023-11-11T06:27:22.372705Z",
     "start_time": "2023-11-11T06:27:22.369046Z"
    }
   },
   "outputs": [
    {
     "data": {
      "text/plain": "<IPython.core.display.HTML object>",
      "text/html": "<span class=\"tex2jax_ignore\"><div class=\"entities\" style=\"line-height: 2.5; direction: ltr\"> \n<mark class=\"entity\" style=\"background: #7aecec; padding: 0.45em 0.6em; margin: 0 0.25em; line-height: 1; border-radius: 0.35em;\">\n    Airbnb\n    <span style=\"font-size: 0.8em; font-weight: bold; line-height: 1; border-radius: 0.35em; vertical-align: middle; margin-left: 0.5rem\">ORG</span>\n</mark>\n was born in \n<mark class=\"entity\" style=\"background: #bfe1d9; padding: 0.45em 0.6em; margin: 0 0.25em; line-height: 1; border-radius: 0.35em;\">\n    2007\n    <span style=\"font-size: 0.8em; font-weight: bold; line-height: 1; border-radius: 0.35em; vertical-align: middle; margin-left: 0.5rem\">DATE</span>\n</mark>\n when \n<mark class=\"entity\" style=\"background: #e4e7d2; padding: 0.45em 0.6em; margin: 0 0.25em; line-height: 1; border-radius: 0.35em;\">\n    two\n    <span style=\"font-size: 0.8em; font-weight: bold; line-height: 1; border-radius: 0.35em; vertical-align: middle; margin-left: 0.5rem\">CARDINAL</span>\n</mark>\n Hosts welcomed \n<mark class=\"entity\" style=\"background: #e4e7d2; padding: 0.45em 0.6em; margin: 0 0.25em; line-height: 1; border-radius: 0.35em;\">\n    three\n    <span style=\"font-size: 0.8em; font-weight: bold; line-height: 1; border-radius: 0.35em; vertical-align: middle; margin-left: 0.5rem\">CARDINAL</span>\n</mark>\n guests to their \n<mark class=\"entity\" style=\"background: #feca74; padding: 0.45em 0.6em; margin: 0 0.25em; line-height: 1; border-radius: 0.35em;\">\n    San Francisco\n    <span style=\"font-size: 0.8em; font-weight: bold; line-height: 1; border-radius: 0.35em; vertical-align: middle; margin-left: 0.5rem\">GPE</span>\n</mark>\n home, and has since grown to \n<mark class=\"entity\" style=\"background: #e4e7d2; padding: 0.45em 0.6em; margin: 0 0.25em; line-height: 1; border-radius: 0.35em;\">\n    over 4 million\n    <span style=\"font-size: 0.8em; font-weight: bold; line-height: 1; border-radius: 0.35em; vertical-align: middle; margin-left: 0.5rem\">CARDINAL</span>\n</mark>\n Hosts who have welcomed \n<mark class=\"entity\" style=\"background: #e4e7d2; padding: 0.45em 0.6em; margin: 0 0.25em; line-height: 1; border-radius: 0.35em;\">\n    more than 1 billion\n    <span style=\"font-size: 0.8em; font-weight: bold; line-height: 1; border-radius: 0.35em; vertical-align: middle; margin-left: 0.5rem\">CARDINAL</span>\n</mark>\n guest arrivals in almost every country across the globe. \n<mark class=\"entity\" style=\"background: #bfe1d9; padding: 0.45em 0.6em; margin: 0 0.25em; line-height: 1; border-radius: 0.35em;\">\n    Every day\n    <span style=\"font-size: 0.8em; font-weight: bold; line-height: 1; border-radius: 0.35em; vertical-align: middle; margin-left: 0.5rem\">DATE</span>\n</mark>\n, Hosts offer unique stays and experiences that make it possible for guests to connect with communities in a more authentic way.The Community You Will Join: The mission of the \n<mark class=\"entity\" style=\"background: #7aecec; padding: 0.45em 0.6em; margin: 0 0.25em; line-height: 1; border-radius: 0.35em;\">\n    Airbnb\n    <span style=\"font-size: 0.8em; font-weight: bold; line-height: 1; border-radius: 0.35em; vertical-align: middle; margin-left: 0.5rem\">ORG</span>\n</mark>\n Global Safety Security (GSS) team is to ensure the safety and security of our \n<mark class=\"entity\" style=\"background: #7aecec; padding: 0.45em 0.6em; margin: 0 0.25em; line-height: 1; border-radius: 0.35em;\">\n    Airfam\n    <span style=\"font-size: 0.8em; font-weight: bold; line-height: 1; border-radius: 0.35em; vertical-align: middle; margin-left: 0.5rem\">ORG</span>\n</mark>\n as well as provide peace of mind for \n<mark class=\"entity\" style=\"background: #7aecec; padding: 0.45em 0.6em; margin: 0 0.25em; line-height: 1; border-radius: 0.35em;\">\n    Airbnbs\n    <span style=\"font-size: 0.8em; font-weight: bold; line-height: 1; border-radius: 0.35em; vertical-align: middle; margin-left: 0.5rem\">ORG</span>\n</mark>\n global community through proactive security risk management. You will work with seasoned professionals who have extensive experience developing, implementing and leading world class security programs, to include \n<mark class=\"entity\" style=\"background: #7aecec; padding: 0.45em 0.6em; margin: 0 0.25em; line-height: 1; border-radius: 0.35em;\">\n    Global Security Operations\n    <span style=\"font-size: 0.8em; font-weight: bold; line-height: 1; border-radius: 0.35em; vertical-align: middle; margin-left: 0.5rem\">ORG</span>\n</mark>\n, \n<mark class=\"entity\" style=\"background: #7aecec; padding: 0.45em 0.6em; margin: 0 0.25em; line-height: 1; border-radius: 0.35em;\">\n    Global Security Intelligence Center\n    <span style=\"font-size: 0.8em; font-weight: bold; line-height: 1; border-radius: 0.35em; vertical-align: middle; margin-left: 0.5rem\">ORG</span>\n</mark>\n, \n<mark class=\"entity\" style=\"background: #7aecec; padding: 0.45em 0.6em; margin: 0 0.25em; line-height: 1; border-radius: 0.35em;\">\n    Law Enforcement Operations\n    <span style=\"font-size: 0.8em; font-weight: bold; line-height: 1; border-radius: 0.35em; vertical-align: middle; margin-left: 0.5rem\">ORG</span>\n</mark>\n, \n<mark class=\"entity\" style=\"background: #7aecec; padding: 0.45em 0.6em; margin: 0 0.25em; line-height: 1; border-radius: 0.35em;\">\n    Risk Intelligence\n    <span style=\"font-size: 0.8em; font-weight: bold; line-height: 1; border-radius: 0.35em; vertical-align: middle; margin-left: 0.5rem\">ORG</span>\n</mark>\n, Trust Safety Advisory Coalition, \n<mark class=\"entity\" style=\"background: #7aecec; padding: 0.45em 0.6em; margin: 0 0.25em; line-height: 1; border-radius: 0.35em;\">\n    Executive Protection\n    <span style=\"font-size: 0.8em; font-weight: bold; line-height: 1; border-radius: 0.35em; vertical-align: middle; margin-left: 0.5rem\">ORG</span>\n</mark>\n, \n<mark class=\"entity\" style=\"background: #7aecec; padding: 0.45em 0.6em; margin: 0 0.25em; line-height: 1; border-radius: 0.35em;\">\n    Global Travel Risk Management\n    <span style=\"font-size: 0.8em; font-weight: bold; line-height: 1; border-radius: 0.35em; vertical-align: middle; margin-left: 0.5rem\">ORG</span>\n</mark>\n, \n<mark class=\"entity\" style=\"background: #7aecec; padding: 0.45em 0.6em; margin: 0 0.25em; line-height: 1; border-radius: 0.35em;\">\n    Global Special Events\n    <span style=\"font-size: 0.8em; font-weight: bold; line-height: 1; border-radius: 0.35em; vertical-align: middle; margin-left: 0.5rem\">ORG</span>\n</mark>\n, and \n<mark class=\"entity\" style=\"background: #7aecec; padding: 0.45em 0.6em; margin: 0 0.25em; line-height: 1; border-radius: 0.35em;\">\n    Global Threat Assessment Program\n    <span style=\"font-size: 0.8em; font-weight: bold; line-height: 1; border-radius: 0.35em; vertical-align: middle; margin-left: 0.5rem\">ORG</span>\n</mark>\n. Understand data needs by interfacing with fellow Analytics Engineers, Data Scientists, Data Engineers, and Business Partners Architect, build, and launch efficient reliable data models and pipelines in partnership with \n<mark class=\"entity\" style=\"background: #7aecec; padding: 0.45em 0.6em; margin: 0 0.25em; line-height: 1; border-radius: 0.35em;\">\n    Data Engineering Design\n    <span style=\"font-size: 0.8em; font-weight: bold; line-height: 1; border-radius: 0.35em; vertical-align: middle; margin-left: 0.5rem\">ORG</span>\n</mark>\n and implement metrics and dimensions to enable analysis and predictive modeling Design and develop data resources to enable self-serve data consumption Build tools for auditing, error logging, and validating data tables Define logging needs in partnership with \n<mark class=\"entity\" style=\"background: #7aecec; padding: 0.45em 0.6em; margin: 0 0.25em; line-height: 1; border-radius: 0.35em;\">\n    Data Engineering\n    <span style=\"font-size: 0.8em; font-weight: bold; line-height: 1; border-radius: 0.35em; vertical-align: middle; margin-left: 0.5rem\">ORG</span>\n</mark>\n Define and share best practices on metric, dimension, and data model development for analytics use Build and improve data tooling in partnership with \n<mark class=\"entity\" style=\"background: #7aecec; padding: 0.45em 0.6em; margin: 0 0.25em; line-height: 1; border-radius: 0.35em;\">\n    Data Platform\n    <span style=\"font-size: 0.8em; font-weight: bold; line-height: 1; border-radius: 0.35em; vertical-align: middle; margin-left: 0.5rem\">ORG</span>\n</mark>\n teams Be a technical expert on data model usage Own and review code changes to certified metric and dimension definitions Manage communication of data model updates and changes across organization Ensure data models are fully documented, and metrics and dimensions have clear descriptions and metadata Minimum Qualifications: Passion for high data quality and scaling data science work \n<mark class=\"entity\" style=\"background: #bfe1d9; padding: 0.45em 0.6em; margin: 0 0.25em; line-height: 1; border-radius: 0.35em;\">\n    6 years\n    <span style=\"font-size: 0.8em; font-weight: bold; line-height: 1; border-radius: 0.35em; vertical-align: middle; margin-left: 0.5rem\">DATE</span>\n</mark>\n of relevant industry experience Strong skills in \n<mark class=\"entity\" style=\"background: #bfeeb7; padding: 0.45em 0.6em; margin: 0 0.25em; line-height: 1; border-radius: 0.35em;\">\n    SQL\n    <span style=\"font-size: 0.8em; font-weight: bold; line-height: 1; border-radius: 0.35em; vertical-align: middle; margin-left: 0.5rem\">PRODUCT</span>\n</mark>\n and distributed system optimization (e.g. \n<mark class=\"entity\" style=\"background: #bfeeb7; padding: 0.45em 0.6em; margin: 0 0.25em; line-height: 1; border-radius: 0.35em;\">\n    Spark\n    <span style=\"font-size: 0.8em; font-weight: bold; line-height: 1; border-radius: 0.35em; vertical-align: middle; margin-left: 0.5rem\">PRODUCT</span>\n</mark>\n, \n<mark class=\"entity\" style=\"background: #bfeeb7; padding: 0.45em 0.6em; margin: 0 0.25em; line-height: 1; border-radius: 0.35em;\">\n    Presto\n    <span style=\"font-size: 0.8em; font-weight: bold; line-height: 1; border-radius: 0.35em; vertical-align: middle; margin-left: 0.5rem\">PRODUCT</span>\n</mark>\n, \n<mark class=\"entity\" style=\"background: #bfeeb7; padding: 0.45em 0.6em; margin: 0 0.25em; line-height: 1; border-radius: 0.35em;\">\n    Hive\n    <span style=\"font-size: 0.8em; font-weight: bold; line-height: 1; border-radius: 0.35em; vertical-align: middle; margin-left: 0.5rem\">PRODUCT</span>\n</mark>\n) Experience in schema design and dimensional data modeling Experience in \n<mark class=\"entity\" style=\"background: #e4e7d2; padding: 0.45em 0.6em; margin: 0 0.25em; line-height: 1; border-radius: 0.35em;\">\n    at least one\n    <span style=\"font-size: 0.8em; font-weight: bold; line-height: 1; border-radius: 0.35em; vertical-align: middle; margin-left: 0.5rem\">CARDINAL</span>\n</mark>\n programming language for data analysis (e.g. \n<mark class=\"entity\" style=\"background: #bfeeb7; padding: 0.45em 0.6em; margin: 0 0.25em; line-height: 1; border-radius: 0.35em;\">\n    Python\n    <span style=\"font-size: 0.8em; font-weight: bold; line-height: 1; border-radius: 0.35em; vertical-align: middle; margin-left: 0.5rem\">PRODUCT</span>\n</mark>\n, \n<mark class=\"entity\" style=\"background: #bfeeb7; padding: 0.45em 0.6em; margin: 0 0.25em; line-height: 1; border-radius: 0.35em;\">\n    R\n    <span style=\"font-size: 0.8em; font-weight: bold; line-height: 1; border-radius: 0.35em; vertical-align: middle; margin-left: 0.5rem\">PRODUCT</span>\n</mark>\n) Proven ability to succeed in both collaborative and independent work environments Detail-oriented and excited to learn new skills and tools Strong influence and relationship management skills Preferred Qualifications: Experience with an ETL framework like \n<mark class=\"entity\" style=\"background: #bfeeb7; padding: 0.45em 0.6em; margin: 0 0.25em; line-height: 1; border-radius: 0.35em;\">\n    Airflow Python\n    <span style=\"font-size: 0.8em; font-weight: bold; line-height: 1; border-radius: 0.35em; vertical-align: middle; margin-left: 0.5rem\">PRODUCT</span>\n</mark>\n, \n<mark class=\"entity\" style=\"background: #bfeeb7; padding: 0.45em 0.6em; margin: 0 0.25em; line-height: 1; border-radius: 0.35em;\">\n    Scala\n    <span style=\"font-size: 0.8em; font-weight: bold; line-height: 1; border-radius: 0.35em; vertical-align: middle; margin-left: 0.5rem\">PRODUCT</span>\n</mark>\n, Superset preferred. Effective story-telling articulation skills ability to convert analytical output into clear, concise, and persuasive insights recommendations for technical non-technical audience An eye for design when it comes to dashboards and visualization tools Familiarity with experimentation and machine learning technique </div></span>"
     },
     "metadata": {},
     "output_type": "display_data"
    }
   ],
   "source": [
    "skweak.utils.display_entities(doc, \"spacy_trf\")"
   ]
  },
  {
   "cell_type": "markdown",
   "source": [
    "## Gazetteer"
   ],
   "metadata": {
    "collapsed": false
   },
   "id": "df67863fda65d403"
  },
  {
   "cell_type": "code",
   "execution_count": 9,
   "id": "bf5daaa2-dcd6-4af4-a855-db801164ef30",
   "metadata": {
    "ExecuteTime": {
     "end_time": "2023-11-11T06:27:24.141502Z",
     "start_time": "2023-11-11T06:27:22.374435Z"
    }
   },
   "outputs": [
    {
     "name": "stdout",
     "output_type": "stream",
     "text": [
      "Extracting data from skills.json\n",
      "Populating trie for class PROGRAMMING_LANGUAGES (number: 62)\n",
      "Populating trie for class SOFT_SKILLS (number: 16)\n",
      "Populating trie for class TECH_SKILLS (number: 49)\n"
     ]
    }
   ],
   "source": [
    "tries = skweak.gazetteers.extract_json_data(\"skills.json\", spacy_model='en_core_web_trf')"
   ]
  },
  {
   "cell_type": "code",
   "execution_count": 10,
   "outputs": [],
   "source": [
    "gazetteer_annotator = skweak.gazetteers.GazetteerAnnotator(\"skills\", tries)"
   ],
   "metadata": {
    "collapsed": false,
    "ExecuteTime": {
     "end_time": "2023-11-11T06:27:24.142871Z",
     "start_time": "2023-11-11T06:27:24.140779Z"
    }
   },
   "id": "bae8193ccd110a95"
  },
  {
   "cell_type": "code",
   "execution_count": 11,
   "outputs": [],
   "source": [
    "doc = gazetteer_annotator(doc)"
   ],
   "metadata": {
    "collapsed": false,
    "ExecuteTime": {
     "end_time": "2023-11-11T06:27:24.147902Z",
     "start_time": "2023-11-11T06:27:24.143618Z"
    }
   },
   "id": "2bee280ee11afd13"
  },
  {
   "cell_type": "code",
   "execution_count": 12,
   "outputs": [
    {
     "data": {
      "text/plain": "<IPython.core.display.HTML object>",
      "text/html": "<span class=\"tex2jax_ignore\"><div class=\"entities\" style=\"line-height: 2.5; direction: ltr\"> Airbnb was born in 2007 when two Hosts welcomed three guests to their San Francisco home, and has since grown to over 4 million Hosts who have welcomed more than 1 billion guest arrivals in almost every country across the globe. Every day, Hosts offer unique stays and experiences that make it possible for guests to connect with communities in a more authentic way.The Community You Will Join: The mission of the Airbnb Global Safety Security (GSS) team is to ensure the safety and security of our Airfam as well as provide peace of mind for Airbnbs global community through proactive security risk management. You will work with seasoned professionals who have extensive experience developing, implementing and leading world class security programs, to include Global Security Operations, Global Security Intelligence Center, Law Enforcement Operations, Risk Intelligence, Trust Safety Advisory Coalition, Executive Protection, Global Travel Risk Management, Global Special Events, and Global Threat Assessment Program. Understand data needs by interfacing with fellow Analytics Engineers, Data Scientists, Data Engineers, and Business Partners Architect, build, and launch efficient reliable data models and pipelines in partnership with Data Engineering Design and implement metrics and dimensions to enable analysis and predictive modeling Design and develop data resources to enable self-serve data consumption Build tools for auditing, error logging, and validating data tables Define logging needs in partnership with Data Engineering Define and share best practices on metric, dimension, and data model development for analytics use Build and improve data tooling in partnership with Data Platform teams Be a technical expert on data model usage Own and review code changes to certified metric and dimension definitions Manage communication of data model updates and changes across organization Ensure data models are fully documented, and metrics and dimensions have clear descriptions and metadata Minimum Qualifications: Passion for high data quality and scaling data science work 6 years of relevant industry experience Strong skills in \n<mark class=\"entity\" style=\"background: #ddd; padding: 0.45em 0.6em; margin: 0 0.25em; line-height: 1; border-radius: 0.35em;\">\n    SQL\n    <span style=\"font-size: 0.8em; font-weight: bold; line-height: 1; border-radius: 0.35em; vertical-align: middle; margin-left: 0.5rem\">TECH_SKILLS</span>\n</mark>\n and distributed system optimization (e.g. \n<mark class=\"entity\" style=\"background: #ddd; padding: 0.45em 0.6em; margin: 0 0.25em; line-height: 1; border-radius: 0.35em;\">\n    Spark\n    <span style=\"font-size: 0.8em; font-weight: bold; line-height: 1; border-radius: 0.35em; vertical-align: middle; margin-left: 0.5rem\">TECH_SKILLS</span>\n</mark>\n, Presto, Hive) Experience in schema design and dimensional data modeling Experience in at least one programming language for data analysis (e.g. \n<mark class=\"entity\" style=\"background: #ddd; padding: 0.45em 0.6em; margin: 0 0.25em; line-height: 1; border-radius: 0.35em;\">\n    Python\n    <span style=\"font-size: 0.8em; font-weight: bold; line-height: 1; border-radius: 0.35em; vertical-align: middle; margin-left: 0.5rem\">TECH_SKILLS</span>\n</mark>\n, R) Proven ability to succeed in both collaborative and independent work environments Detail-oriented and excited to learn new skills and tools Strong influence and relationship management skills Preferred Qualifications: Experience with an ETL framework like Airflow Python, \n<mark class=\"entity\" style=\"background: #ddd; padding: 0.45em 0.6em; margin: 0 0.25em; line-height: 1; border-radius: 0.35em;\">\n    Scala\n    <span style=\"font-size: 0.8em; font-weight: bold; line-height: 1; border-radius: 0.35em; vertical-align: middle; margin-left: 0.5rem\">TECH_SKILLS</span>\n</mark>\n, \n<mark class=\"entity\" style=\"background: #ddd; padding: 0.45em 0.6em; margin: 0 0.25em; line-height: 1; border-radius: 0.35em;\">\n    Superset\n    <span style=\"font-size: 0.8em; font-weight: bold; line-height: 1; border-radius: 0.35em; vertical-align: middle; margin-left: 0.5rem\">PROGRAMMING_LANGUAGES</span>\n</mark>\n preferred. Effective story-telling articulation skills ability to convert analytical output into clear, concise, and persuasive insights recommendations for technical non-technical audience An eye for design when it comes to dashboards and visualization tools Familiarity with experimentation and machine learning technique </div></span>"
     },
     "metadata": {},
     "output_type": "display_data"
    }
   ],
   "source": [
    "skweak.utils.display_entities(doc, \"skills\")"
   ],
   "metadata": {
    "collapsed": false,
    "ExecuteTime": {
     "end_time": "2023-11-11T06:27:24.150854Z",
     "start_time": "2023-11-11T06:27:24.147280Z"
    }
   },
   "id": "13ca5f0557f7425f"
  },
  {
   "cell_type": "markdown",
   "source": [
    "## Pipeline"
   ],
   "metadata": {
    "collapsed": false
   },
   "id": "94a5182de49e009f"
  },
  {
   "cell_type": "code",
   "execution_count": 13,
   "outputs": [],
   "source": [
    "docs = []\n",
    "for text in texts[:10]:\n",
    "    doc = nlp(text)\n",
    "    doc = annotator(doc)\n",
    "    doc = gazetteer_annotator(doc)\n",
    "    docs.append(doc)"
   ],
   "metadata": {
    "collapsed": false,
    "ExecuteTime": {
     "end_time": "2023-11-11T06:27:28.743937Z",
     "start_time": "2023-11-11T06:27:24.161567Z"
    }
   },
   "id": "ac84b1e338eb05f9"
  },
  {
   "cell_type": "code",
   "execution_count": 14,
   "outputs": [
    {
     "name": "stdout",
     "output_type": "stream",
     "text": [
      "10 10230\n"
     ]
    }
   ],
   "source": [
    "print(len(docs), len(texts))"
   ],
   "metadata": {
    "collapsed": false,
    "ExecuteTime": {
     "end_time": "2023-11-11T06:27:28.774407Z",
     "start_time": "2023-11-11T06:27:28.744591Z"
    }
   },
   "id": "c71301b658906cf8"
  },
  {
   "cell_type": "markdown",
   "source": [
    "## Hidden Markov Model"
   ],
   "metadata": {
    "collapsed": false
   },
   "id": "19516c1b880621d5"
  },
  {
   "cell_type": "code",
   "execution_count": 15,
   "outputs": [],
   "source": [
    "hmm = skweak.generative.HMM(\"hmm\", [\"TECH_SKILLS\", \"SOFT_SKILLS\", \"PROGRAMMING_LANGUAGES\", \"PRODUCT\"])"
   ],
   "metadata": {
    "collapsed": false,
    "ExecuteTime": {
     "end_time": "2023-11-11T06:27:28.779111Z",
     "start_time": "2023-11-11T06:27:28.773585Z"
    }
   },
   "id": "5b3943211fe9e84e"
  },
  {
   "cell_type": "code",
   "execution_count": 16,
   "outputs": [
    {
     "name": "stdout",
     "output_type": "stream",
     "text": [
      "Starting iteration 1\n",
      "Finished E-step with 10 documents\n",
      "Starting iteration 2\n",
      "Finished E-step with 10 documents\n",
      "Starting iteration 3\n",
      "Finished E-step with 10 documents\n",
      "Starting iteration 4\n",
      "Finished E-step with 10 documents\n"
     ]
    },
    {
     "name": "stderr",
     "output_type": "stream",
     "text": [
      "         1    -507.06148181             +nan\n",
      "         2    -500.43958387      +6.62189794\n",
      "         3    -497.26634884      +3.17323503\n",
      "         4    -495.44290048      +1.82344836\n"
     ]
    }
   ],
   "source": [
    "hmm.fit(docs)"
   ],
   "metadata": {
    "collapsed": false,
    "ExecuteTime": {
     "end_time": "2023-11-11T06:27:28.922614Z",
     "start_time": "2023-11-11T06:27:28.773855Z"
    }
   },
   "id": "d98661efb770f6ed"
  },
  {
   "cell_type": "code",
   "execution_count": 17,
   "outputs": [
    {
     "data": {
      "text/plain": "<IPython.core.display.HTML object>",
      "text/html": "<span class=\"tex2jax_ignore\"><div class=\"entities\" style=\"line-height: 2.5; direction: ltr\">At Lyft, our mission is to improve peoples lives with the worlds best transportation. To do this, we start with our own community by creating an open, inclusive, and diverse organization. Data and Machine Learning are at the heart of Lyfts products and decision-making. As a member of the Machine Learning Platform team, you will work in a dynamic environment, where we embrace moving quickly to build the worlds best transportation network. Machine learning infra engineers build systems that empower machine learning models to make our products predictive, personalized, and adaptive. Were looking for passionate, driven engineers to take on some of the most interesting and impactful problems in ridesharing. As a machine learning platform engineer, you will be developing our central machine learning platform that powers Lyft machine learning and optimization models. You will be working on a wide array of challenges ranging from building the large language model framework, large scale distributed model training, sub millisecond real-time predictions at scale, automating machine learning model lifecycle, implementing model monitoring, enabling reinforcement learning and many more. You will be working in a fast paced environment, tackling a diverse set of problems. They collaborate across transportation, economics, forecasting, mapping, personalization, and adaptive control. We are hiring engineers who can work with modelers across the company and build infrastructure to incorporate the rapid developing needs in each of these fields. Were looking for someone who is passionate about solving problems with data, building reliable ML systems, and is excited about working in a fast-paced, innovative, and collegial environment. Responsibilities Partner with Machine Learning Engineers, Data Scientists, Software Engineers and Product Managers to develop advanced systems for business and user impact Evaluate when to build and when to reuse existing components including open source solutions Write production quality code that scales with use. Help establish roadmap and architecture based on technology and our needs Qualifications B.S., M.S., or Ph.D. in Computer Science and experience in distributed systems and machine learning Passion for building scalable and extensible solutions for machine learning development and productionisation towards short term and long term business and user impact Proficiency in \n<mark class=\"entity\" style=\"background: #bfeeb7; padding: 0.45em 0.6em; margin: 0 0.25em; line-height: 1; border-radius: 0.35em;\">\n    Python\n    <span style=\"font-size: 0.8em; font-weight: bold; line-height: 1; border-radius: 0.35em; vertical-align: middle; margin-left: 0.5rem\">PRODUCT</span>\n</mark>\n, \n<mark class=\"entity\" style=\"background: #bfeeb7; padding: 0.45em 0.6em; margin: 0 0.25em; line-height: 1; border-radius: 0.35em;\">\n    Golang\n    <span style=\"font-size: 0.8em; font-weight: bold; line-height: 1; border-radius: 0.35em; vertical-align: middle; margin-left: 0.5rem\">PRODUCT</span>\n</mark>\n, or other programming language Excellent communication skills and fluency in English Strong understanding of Machine Learning fundamentals, including supervised learning, forecasting, recommendation systems and reinforcement learning Experience with distributed computing frameworks and open source solutions such as \n<mark class=\"entity\" style=\"background: #bfeeb7; padding: 0.45em 0.6em; margin: 0 0.25em; line-height: 1; border-radius: 0.35em;\">\n    kubernetes\n    <span style=\"font-size: 0.8em; font-weight: bold; line-height: 1; border-radius: 0.35em; vertical-align: middle; margin-left: 0.5rem\">PRODUCT</span>\n</mark>\n Bonus Qualifications: Solid software engineering skills and experience with popular ML software libraries (\n<mark class=\"entity\" style=\"background: #bfeeb7; padding: 0.45em 0.6em; margin: 0 0.25em; line-height: 1; border-radius: 0.35em;\">\n    scikit\n    <span style=\"font-size: 0.8em; font-weight: bold; line-height: 1; border-radius: 0.35em; vertical-align: middle; margin-left: 0.5rem\">PRODUCT</span>\n</mark>\n-\n<mark class=\"entity\" style=\"background: #bfeeb7; padding: 0.45em 0.6em; margin: 0 0.25em; line-height: 1; border-radius: 0.35em;\">\n    learn\n    <span style=\"font-size: 0.8em; font-weight: bold; line-height: 1; border-radius: 0.35em; vertical-align: middle; margin-left: 0.5rem\">PRODUCT</span>\n</mark>\n, \n<mark class=\"entity\" style=\"background: #bfeeb7; padding: 0.45em 0.6em; margin: 0 0.25em; line-height: 1; border-radius: 0.35em;\">\n    pandas\n    <span style=\"font-size: 0.8em; font-weight: bold; line-height: 1; border-radius: 0.35em; vertical-align: middle; margin-left: 0.5rem\">PRODUCT</span>\n</mark>\n) and data munging tools (\n<mark class=\"entity\" style=\"background: #bfeeb7; padding: 0.45em 0.6em; margin: 0 0.25em; line-height: 1; border-radius: 0.35em;\">\n    SQL\n    <span style=\"font-size: 0.8em; font-weight: bold; line-height: 1; border-radius: 0.35em; vertical-align: middle; margin-left: 0.5rem\">PRODUCT</span>\n</mark>\n, \n<mark class=\"entity\" style=\"background: #bfeeb7; padding: 0.45em 0.6em; margin: 0 0.25em; line-height: 1; border-radius: 0.35em;\">\n    Spark\n    <span style=\"font-size: 0.8em; font-weight: bold; line-height: 1; border-radius: 0.35em; vertical-align: middle; margin-left: 0.5rem\">PRODUCT</span>\n</mark>\n). Experience with deep learning frameworks (e.g. \n<mark class=\"entity\" style=\"background: #bfeeb7; padding: 0.45em 0.6em; margin: 0 0.25em; line-height: 1; border-radius: 0.35em;\">\n    PyTorch\n    <span style=\"font-size: 0.8em; font-weight: bold; line-height: 1; border-radius: 0.35em; vertical-align: middle; margin-left: 0.5rem\">PRODUCT</span>\n</mark>\n, \n<mark class=\"entity\" style=\"background: #bfeeb7; padding: 0.45em 0.6em; margin: 0 0.25em; line-height: 1; border-radius: 0.35em;\">\n    Tensorflow\n    <span style=\"font-size: 0.8em; font-weight: bold; line-height: 1; border-radius: 0.35em; vertical-align: middle; margin-left: 0.5rem\">PRODUCT</span>\n</mark>\n) is a plus. Familiarity working with cloud services (\n<mark class=\"entity\" style=\"background: #bfeeb7; padding: 0.45em 0.6em; margin: 0 0.25em; line-height: 1; border-radius: 0.35em;\">\n    AWS\n    <span style=\"font-size: 0.8em; font-weight: bold; line-height: 1; border-radius: 0.35em; vertical-align: middle; margin-left: 0.5rem\">PRODUCT</span>\n</mark>\n, \n<mark class=\"entity\" style=\"background: #bfeeb7; padding: 0.45em 0.6em; margin: 0 0.25em; line-height: 1; border-radius: 0.35em;\">\n    Azure\n    <span style=\"font-size: 0.8em; font-weight: bold; line-height: 1; border-radius: 0.35em; vertical-align: middle; margin-left: 0.5rem\">PRODUCT</span>\n</mark>\n, \n<mark class=\"entity\" style=\"background: #bfeeb7; padding: 0.45em 0.6em; margin: 0 0.25em; line-height: 1; border-radius: 0.35em;\">\n    GCP\n    <span style=\"font-size: 0.8em; font-weight: bold; line-height: 1; border-radius: 0.35em; vertical-align: middle; margin-left: 0.5rem\">PRODUCT</span>\n</mark>\n, etc) and containerization with \n<mark class=\"entity\" style=\"background: #bfeeb7; padding: 0.45em 0.6em; margin: 0 0.25em; line-height: 1; border-radius: 0.35em;\">\n    Kubernetes\n    <span style=\"font-size: 0.8em; font-weight: bold; line-height: 1; border-radius: 0.35em; vertical-align: middle; margin-left: 0.5rem\">PRODUCT</span>\n</mark>\n. You dont have to be an expert, but having a basic idea of the services offered and interest to learn more. Benefits: Great medical, dental, and vision insurance options Mental health benefits Family building benefits In addition to 12 observed holidays, salaried team members have unlimited paid time off, hourly team members have 15 days paid time off 401(k) plan to help save for your future 18 weeks of paid parental leave. Biological, adoptive, and foster parents are all eligible Pre-tax commuter benefits Lyft Pink - Lyft team members get an exclusive opportunity to test new benefits of our Ridership Program Lyft is an equal opportunityaffirmative action employer committed to an inclusive and diverse workplace. All qualified applicants will receive consideration for employment without regards to race, color, religion, sex, sexual orientation, gender identity, national origin, disability status, protected veteran status or any other basis prohibited by law. We also consider qualified applicants with criminal histories consistent with applicable federal, state and local law. Starting in September 2023, this role will be in-office on a hybrid schedule — Team Members will be expected to work in the office 3 days per week on Mondays, Thursdays and a team-specific third day. Additionally, hybrid roles have the flexibility to work from anywhere for up to 4 weeks per year. The expected range of pay for this position in the San Francisco Bay Area is 193,500 - 215,000. Salary ranges are dependent on a variety of factors, including qualifications, experience and geographic location. Range is not inclusive of potential equity offering, bonus or benefits. Your recruiter can share more information about the salary range specific to your working location and other factors during the hiring process.</div></span>"
     },
     "metadata": {},
     "output_type": "display_data"
    }
   ],
   "source": [
    "skweak.utils.display_entities(hmm(docs[0]), \"hmm\")"
   ],
   "metadata": {
    "collapsed": false,
    "ExecuteTime": {
     "end_time": "2023-11-11T06:27:28.936867Z",
     "start_time": "2023-11-11T06:27:28.923441Z"
    }
   },
   "id": "c3b05919851dc600"
  },
  {
   "cell_type": "code",
   "execution_count": 18,
   "outputs": [],
   "source": [
    "hmm_docs = []\n",
    "for doc in docs:\n",
    "    hmm_doc = hmm(doc)\n",
    "    hmm_doc.ents = hmm_doc.spans[\"hmm\"]\n",
    "    hmm_docs.append(hmm_doc)"
   ],
   "metadata": {
    "collapsed": false,
    "ExecuteTime": {
     "end_time": "2023-11-11T06:27:28.994444Z",
     "start_time": "2023-11-11T06:27:28.934606Z"
    }
   },
   "id": "2f981faee6d112ff"
  },
  {
   "cell_type": "code",
   "execution_count": 19,
   "outputs": [
    {
     "data": {
      "text/plain": "10"
     },
     "execution_count": 19,
     "metadata": {},
     "output_type": "execute_result"
    }
   ],
   "source": [
    "len(hmm_docs)"
   ],
   "metadata": {
    "collapsed": false,
    "ExecuteTime": {
     "end_time": "2023-11-11T06:27:29.002881Z",
     "start_time": "2023-11-11T06:27:28.994781Z"
    }
   },
   "id": "487fe4fc61af76da"
  },
  {
   "cell_type": "code",
   "execution_count": 20,
   "outputs": [
    {
     "name": "stdout",
     "output_type": "stream",
     "text": [
      "Write to ../training_data/hmm_training_data.spacy...done\n"
     ]
    }
   ],
   "source": [
    "skweak.utils.docbin_writer(hmm_docs, \"../training_data/hmm_training_data.spacy\")"
   ],
   "metadata": {
    "collapsed": false,
    "ExecuteTime": {
     "end_time": "2023-11-11T06:27:29.031390Z",
     "start_time": "2023-11-11T06:27:29.019881Z"
    }
   },
   "id": "7a046d07f310d58a"
  },
  {
   "cell_type": "code",
   "execution_count": 21,
   "outputs": [
    {
     "name": "stdout",
     "output_type": "stream",
     "text": [
      "\u001B[38;5;4mℹ Saving to output directory: training_output\u001B[0m\r\n",
      "\u001B[38;5;4mℹ Using CPU\u001B[0m\r\n",
      "\u001B[38;5;4mℹ To switch to GPU 0, use the option: --gpu-id 0\u001B[0m\r\n",
      "\u001B[1m\r\n",
      "=========================== Initializing pipeline ===========================\u001B[0m\r\n",
      "\u001B[38;5;2m✔ Initialized pipeline\u001B[0m\r\n",
      "\u001B[1m\r\n",
      "============================= Training pipeline =============================\u001B[0m\r\n",
      "\u001B[38;5;4mℹ Pipeline: ['tok2vec', 'ner']\u001B[0m\r\n",
      "\u001B[38;5;4mℹ Initial learn rate: 0.001\u001B[0m\r\n",
      "E    #       LOSS TOK2VEC  LOSS NER  ENTS_F  ENTS_P  ENTS_R  SCORE \r\n",
      "---  ------  ------------  --------  ------  ------  ------  ------\r\n",
      "  0       0          0.00    301.67    0.00    0.00    0.00    0.00\r\n",
      "^C\r\n"
     ]
    }
   ],
   "source": [
    "!spacy init config - --lang en --pipeline ner --optimize accuracy | \\\n",
    "spacy train - --paths.train ../training_data/hmm_training_data.spacy  --paths.dev ../training_data/hmm_training_data.spacy \\\n",
    "--initialize.vectors en_core_web_md --output ./training_output"
   ],
   "metadata": {
    "collapsed": false,
    "ExecuteTime": {
     "end_time": "2023-11-11T06:28:56.832672Z",
     "start_time": "2023-11-11T06:27:29.032059Z"
    }
   },
   "id": "55789812e7a1197c"
  }
 ],
 "metadata": {
  "kernelspec": {
   "display_name": "Python 3 (ipykernel)",
   "language": "python",
   "name": "python3"
  },
  "language_info": {
   "codemirror_mode": {
    "name": "ipython",
    "version": 3
   },
   "file_extension": ".py",
   "mimetype": "text/x-python",
   "name": "python",
   "nbconvert_exporter": "python",
   "pygments_lexer": "ipython3",
   "version": "3.8.18"
  }
 },
 "nbformat": 4,
 "nbformat_minor": 5
}
