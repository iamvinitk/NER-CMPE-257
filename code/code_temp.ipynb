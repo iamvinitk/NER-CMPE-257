{
 "cells": [
  {
   "cell_type": "code",
   "execution_count": 1,
   "id": "5875ae71-662e-4242-8b62-a33f655f353d",
   "metadata": {},
   "outputs": [],
   "source": [
    "import json\n",
    "import os\n",
    "from nltk.tokenize import word_tokenize\n",
    "from nltk.corpus import stopwords\n",
    "from nltk.stem import PorterStemmer\n",
    "import matplotlib.pyplot as plt\n",
    "from wordcloud import WordCloud\n",
    "\n",
    "with open('Programming_languages.json', 'r') as file:\n",
    "    programming_languages = json.load(file)['PROGRAMMING_LANGUAGES']"
   ]
  },
  {
   "cell_type": "code",
   "execution_count": 2,
   "id": "b247504d-2fb3-4be7-bcc2-41b4b751e4f6",
   "metadata": {},
   "outputs": [],
   "source": [
    "# programming_languages\n",
    "\n",
    "from bs4 import BeautifulSoup\n",
    "import re\n",
    "\n",
    "def clean_text(text):\n",
    "    # Remove HTML tags\n",
    "    text = BeautifulSoup(text, 'html.parser').get_text()\n",
    "    # Remove special characters and digits\n",
    "    text = re.sub(r'[^a-zA-Z\\s]', '', text)\n",
    "    return text\n",
    "\n",
    "# cleaned_text = clean_text(text_data)"
   ]
  },
  {
   "cell_type": "code",
   "execution_count": 3,
   "id": "a203c2c4-ecb4-4927-9537-1426d218e378",
   "metadata": {},
   "outputs": [],
   "source": [
    "data_folder = '..\\data'\n",
    "\n",
    "text_data = []\n",
    "\n",
    "for filename in os.listdir(data_folder):\n",
    "    with open(os.path.join(data_folder, filename), 'r') as file:\n",
    "        text_data.append(clean_text(file))"
   ]
  },
  {
   "cell_type": "code",
   "execution_count": 4,
   "id": "61a02cde-4d7a-4429-bb36-dcb02c134eb4",
   "metadata": {},
   "outputs": [],
   "source": [
    "# text_data"
   ]
  },
  {
   "cell_type": "code",
   "execution_count": 5,
   "id": "b5fdf236-da7c-419e-863c-3931b068c90b",
   "metadata": {},
   "outputs": [],
   "source": [
    "# pip install nltk scikit-learn matplotlib wordcloud"
   ]
  },
  {
   "cell_type": "code",
   "execution_count": 6,
   "id": "12ef2dfb-e5f9-4978-9fb6-3433ddc692e5",
   "metadata": {},
   "outputs": [],
   "source": [
    "# import nltk\n",
    "# nltk.download('punkt')"
   ]
  },
  {
   "cell_type": "code",
   "execution_count": 7,
   "id": "12b70977-0d0d-43fa-9648-4d621c1e267d",
   "metadata": {},
   "outputs": [],
   "source": [
    "# !python -m pip install --user --upgrade pip"
   ]
  },
  {
   "cell_type": "code",
   "execution_count": 8,
   "id": "b218c6c3-204c-4808-a830-e0ead328db39",
   "metadata": {},
   "outputs": [],
   "source": [
    "# !pip cache purge\n",
    "# !pip install spacy"
   ]
  },
  {
   "cell_type": "code",
   "execution_count": 9,
   "id": "fb1c5dbb-118f-4681-80eb-cb3d53eb92cc",
   "metadata": {},
   "outputs": [],
   "source": [
    "# !python -m spacy download en_core_web_sm"
   ]
  },
  {
   "cell_type": "code",
   "execution_count": 13,
   "id": "fa84fa32-5eb2-49af-aa33-6a27191dfde7",
   "metadata": {},
   "outputs": [
    {
     "name": "stdout",
     "output_type": "stream",
     "text": [
      "C:\\Users\\Checkout\\AppData\\Local\\Programs\\Python\\Python311\\Lib\\site-packages\\spacy\\about.py\n"
     ]
    }
   ],
   "source": [
    "import spacy\n",
    "\n",
    "# Print the path to the spaCy models directory\n",
    "print(spacy.about.__file__)"
   ]
  },
  {
   "cell_type": "code",
   "execution_count": 15,
   "id": "0478b5fa-b9ae-436a-b055-3249baa87c74",
   "metadata": {},
   "outputs": [
    {
     "name": "stdout",
     "output_type": "stream",
     "text": [
      "C:\\Users\\Checkout\\AppData\\Local\\Programs\\Python\\Python311\\Lib\\site-packages\\spacy\\data\\en_core_web_sm\n"
     ]
    }
   ],
   "source": [
    "import spacy\n",
    "import os\n",
    "\n",
    "# Get the directory containing the about.py file\n",
    "about_dir = os.path.dirname(spacy.about.__file__)\n",
    "\n",
    "# Specify the path to the en_core_web_sm model directory\n",
    "model_path = os.path.join(about_dir, 'data', 'en_core_web_sm')\n",
    "\n",
    "print(model_path)"
   ]
  },
  {
   "cell_type": "code",
   "execution_count": 17,
   "id": "ec1e7eae-8c67-4415-893a-a3507b72e729",
   "metadata": {},
   "outputs": [],
   "source": [
    "# import spacy\n",
    "\n",
    "# # Load pre-trained spaCy model\n",
    "# nlp = spacy.load('en_core_web_sm')\n",
    "\n",
    "# def extract_entities(text):\n",
    "#     doc = nlp(text)\n",
    "#     entities = [(ent.text, ent.label_) for ent in doc.ents]\n",
    "#     return entities\n",
    "\n",
    "# # Example usage\n",
    "# entities = extract_entities(text_data)"
   ]
  },
  {
   "cell_type": "code",
   "execution_count": 18,
   "id": "5c5028fe-9d29-4143-b919-5b5d464f5e93",
   "metadata": {},
   "outputs": [],
   "source": [
    "# entities"
   ]
  },
  {
   "cell_type": "code",
   "execution_count": 23,
   "id": "6a75134e-e39d-463e-8d93-fb7dc0b83b4a",
   "metadata": {},
   "outputs": [
    {
     "name": "stdout",
     "output_type": "stream",
     "text": [
      "['experience', 'work', 'team', 'data', 'business', 'including', 'skills', 'role', 'teams', 'status']\n"
     ]
    }
   ],
   "source": [
    "from sklearn.feature_extraction.text import TfidfVectorizer\n",
    "\n",
    "def extract_keywords(text_data):\n",
    "    # Concatenate the strings in text_data into a single string\n",
    "    concatenated_text = ' '.join(text_data)\n",
    "    \n",
    "    # Use TfidfVectorizer with custom stop words\n",
    "    vectorizer = TfidfVectorizer(stop_words='english')\n",
    "    tfidf_matrix = vectorizer.fit_transform([concatenated_text])\n",
    "    \n",
    "    # Get feature names (words)\n",
    "    feature_names = vectorizer.get_feature_names_out()\n",
    "    \n",
    "    # Identify keywords using TF-IDF scores\n",
    "    tfidf_sum_per_word = tfidf_matrix.sum(axis=0).A1\n",
    "    keywords = [feature_names[i] for i in tfidf_sum_per_word.argsort()[::-1][:10]]  # Extract top 10 keywords\n",
    "    \n",
    "    return keywords\n",
    "\n",
    "# Example usage\n",
    "keywords = extract_keywords(text_data)"
   ]
  },
  {
   "cell_type": "code",
   "execution_count": 24,
   "id": "b764843b-9750-4e08-9d1a-219ef4725139",
   "metadata": {},
   "outputs": [
    {
     "data": {
      "text/plain": [
       "['experience',\n",
       " 'work',\n",
       " 'team',\n",
       " 'data',\n",
       " 'business',\n",
       " 'including',\n",
       " 'skills',\n",
       " 'role',\n",
       " 'teams',\n",
       " 'status']"
      ]
     },
     "execution_count": 24,
     "metadata": {},
     "output_type": "execute_result"
    }
   ],
   "source": [
    "keywords"
   ]
  },
  {
   "cell_type": "code",
   "execution_count": null,
   "id": "3ddc6bfc-2188-4157-b69a-586ffc4180b0",
   "metadata": {},
   "outputs": [],
   "source": []
  }
 ],
 "metadata": {
  "kernelspec": {
   "display_name": "Python 3 (ipykernel)",
   "language": "python",
   "name": "python3"
  },
  "language_info": {
   "codemirror_mode": {
    "name": "ipython",
    "version": 3
   },
   "file_extension": ".py",
   "mimetype": "text/x-python",
   "name": "python",
   "nbconvert_exporter": "python",
   "pygments_lexer": "ipython3",
   "version": "3.11.5"
  }
 },
 "nbformat": 4,
 "nbformat_minor": 5
}
