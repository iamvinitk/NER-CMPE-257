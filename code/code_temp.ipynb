{
 "cells": [
  {
   "cell_type": "code",
   "execution_count": 22,
   "id": "5875ae71-662e-4242-8b62-a33f655f353d",
   "metadata": {},
   "outputs": [],
   "source": [
    "import json\n",
    "import os\n",
    "from nltk.tokenize import word_tokenize\n",
    "from nltk.corpus import stopwords\n",
    "from nltk.stem import PorterStemmer\n",
    "import matplotlib.pyplot as plt\n",
    "from wordcloud import WordCloud\n",
    "\n",
    "with open('Programming_languages.json', 'r') as file:\n",
    "    programming_languages = json.load(file)['PROGRAMMING_LANGUAGES']"
   ]
  },
  {
   "cell_type": "code",
   "execution_count": 24,
   "id": "b247504d-2fb3-4be7-bcc2-41b4b751e4f6",
   "metadata": {},
   "outputs": [],
   "source": [
    "# programming_languages"
   ]
  },
  {
   "cell_type": "code",
   "execution_count": 3,
   "id": "a203c2c4-ecb4-4927-9537-1426d218e378",
   "metadata": {},
   "outputs": [],
   "source": [
    "data_folder = '..\\data'\n",
    "\n",
    "text_data = []\n",
    "\n",
    "for filename in os.listdir(data_folder):\n",
    "    with open(os.path.join(data_folder, filename), 'r') as file:\n",
    "        text_data.append(file.read())"
   ]
  },
  {
   "cell_type": "code",
   "execution_count": 11,
   "id": "b5fdf236-da7c-419e-863c-3931b068c90b",
   "metadata": {},
   "outputs": [],
   "source": [
    "# pip install nltk scikit-learn matplotlib wordcloud"
   ]
  },
  {
   "cell_type": "code",
   "execution_count": 13,
   "id": "12ef2dfb-e5f9-4978-9fb6-3433ddc692e5",
   "metadata": {},
   "outputs": [
    {
     "name": "stderr",
     "output_type": "stream",
     "text": [
      "[nltk_data] Downloading package punkt to\n",
      "[nltk_data]     C:\\Users\\Checkout\\AppData\\Roaming\\nltk_data...\n",
      "[nltk_data]   Unzipping tokenizers\\punkt.zip.\n"
     ]
    },
    {
     "data": {
      "text/plain": [
       "True"
      ]
     },
     "execution_count": 13,
     "metadata": {},
     "output_type": "execute_result"
    }
   ],
   "source": [
    "import nltk\n",
    "nltk.download('punkt')"
   ]
  },
  {
   "cell_type": "code",
   "execution_count": 14,
   "id": "b218c6c3-204c-4808-a830-e0ead328db39",
   "metadata": {},
   "outputs": [],
   "source": [
    "# from nltk.tokenize import word_tokenize\n",
    "\n",
    "# tokenized_data = [word_tokenize(text) for text in text_data]"
   ]
  },
  {
   "cell_type": "code",
   "execution_count": 29,
   "id": "ec1e7eae-8c67-4415-893a-a3507b72e729",
   "metadata": {},
   "outputs": [],
   "source": [
    "# Step 3: Tokenization, Remove Stop Words, and Stemming\n",
    "\n",
    "stop_words = set(stopwords.words('english'))\n",
    "ps = PorterStemmer()"
   ]
  },
  {
   "cell_type": "code",
   "execution_count": null,
   "id": "357b37e1-b31a-4351-996d-9dfc8091d7ce",
   "metadata": {},
   "outputs": [],
   "source": []
  },
  {
   "cell_type": "code",
   "execution_count": 30,
   "id": "c43b8c9d-3fdf-45fc-b1f0-f20a8f17adcd",
   "metadata": {},
   "outputs": [],
   "source": [
    "programming_keywords = []\n",
    "\n",
    "for text in text_data:\n",
    "    tokens = word_tokenize(text)\n",
    "    filtered_tokens = [ps.stem(word.lower()) for word in tokens if word.isalpha() and word.lower() not in stop_words]\n",
    "    language_keywords = [word for word in filtered_tokens if word in programming_languages]\n",
    "    programming_keywords.append(language_keywords)"
   ]
  },
  {
   "cell_type": "code",
   "execution_count": 32,
   "id": "5c5028fe-9d29-4143-b919-5b5d464f5e93",
   "metadata": {},
   "outputs": [],
   "source": [
    "# programming_language_keywords"
   ]
  },
  {
   "cell_type": "code",
   "execution_count": null,
   "id": "6a75134e-e39d-463e-8d93-fb7dc0b83b4a",
   "metadata": {},
   "outputs": [],
   "source": []
  }
 ],
 "metadata": {
  "kernelspec": {
   "display_name": "Python 3 (ipykernel)",
   "language": "python",
   "name": "python3"
  },
  "language_info": {
   "codemirror_mode": {
    "name": "ipython",
    "version": 3
   },
   "file_extension": ".py",
   "mimetype": "text/x-python",
   "name": "python",
   "nbconvert_exporter": "python",
   "pygments_lexer": "ipython3",
   "version": "3.11.5"
  }
 },
 "nbformat": 4,
 "nbformat_minor": 5
}
