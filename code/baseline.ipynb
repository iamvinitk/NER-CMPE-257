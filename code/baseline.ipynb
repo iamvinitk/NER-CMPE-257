{
 "cells": [
  {
   "cell_type": "code",
   "execution_count": 1,
   "id": "initial_id",
   "metadata": {
    "collapsed": true,
    "ExecuteTime": {
     "end_time": "2023-11-11T06:31:53.628733Z",
     "start_time": "2023-11-11T06:31:51.127105Z"
    }
   },
   "outputs": [],
   "source": [
    "import numpy as np\n",
    "import pandas as pd\n",
    "import tensorflow as tf\n",
    "import os"
   ]
  },
  {
   "cell_type": "code",
   "execution_count": 2,
   "outputs": [],
   "source": [
    "# read all the txt files in data folder\n",
    "path = os.getcwd()\n",
    "files = os.listdir(path + '/../data')\n",
    "files_txt = [i for i in files if i.endswith('.txt')]"
   ],
   "metadata": {
    "collapsed": false,
    "ExecuteTime": {
     "end_time": "2023-11-11T06:31:53.662110Z",
     "start_time": "2023-11-11T06:31:53.629171Z"
    }
   },
   "id": "ab92d912228ce6b2"
  },
  {
   "cell_type": "code",
   "execution_count": 3,
   "outputs": [],
   "source": [
    "# read all content in txt files\n",
    "content = []\n",
    "for file in files_txt:\n",
    "    with open(path + '/../data/' + file, 'r') as f:\n",
    "        content.append(f.read())"
   ],
   "metadata": {
    "collapsed": false,
    "ExecuteTime": {
     "end_time": "2023-11-11T06:31:55.006542Z",
     "start_time": "2023-11-11T06:31:53.662984Z"
    }
   },
   "id": "6691e243a4d6edef"
  },
  {
   "cell_type": "code",
   "execution_count": 4,
   "outputs": [
    {
     "data": {
      "text/plain": "'At Lyft, our mission is to improve peoples lives with the worlds best transportation. To do this, we start with our own community by creating an open, inclusive, and diverse organization.\\nData and Machine Learning are at the heart of Lyfts products and decision-making. As a member of the Machine Learning Platform team, you will work in a dynamic environment, where we embrace moving quickly to build the worlds best transportation network. Machine learning infra engineers build systems that empower machine learning models to make our products predictive, personalized, and adaptive. Were looking for passionate, driven engineers to take on some of the most interesting and impactful problems in ridesharing.\\nAs a machine learning platform engineer, you will be developing our central machine learning platform that powers Lyft machine learning and optimization models. You will be working on a wide array of challenges ranging from building the large language model framework,  large scale distributed model training, sub millisecond real-time predictions at scale,  automating machine learning model lifecycle, implementing model monitoring, enabling reinforcement learning and many more. You will be working in a fast paced environment, tackling a diverse set of problems. They collaborate across transportation, economics, forecasting, mapping, personalization, and adaptive control. We are hiring engineers who can work with modelers across the company and build infrastructure to incorporate the rapid developing needs in each of these fields. Were looking for someone who is passionate about solving problems with data, building reliable ML systems, and is excited about working in a fast-paced, innovative, and collegial environment.\\n \\nResponsibilities\\n\\nPartner with Machine Learning Engineers, Data Scientists, Software Engineers and Product Managers to develop advanced systems for business and user impact\\nEvaluate when to build and when to reuse existing components including open source solutions\\nWrite production quality code that scales with use.\\nHelp establish roadmap and architecture based on technology and our needs\\n\\n \\nQualifications\\n\\nB.S., M.S., or Ph.D. in Computer Science and experience in distributed systems and machine learning\\nPassion for building scalable and extensible solutions for machine learning development and productionisation towards short term and long term business and user impact\\nProficiency in Python, Golang, or other programming language\\nExcellent communication skills and fluency in English\\nStrong understanding of Machine Learning fundamentals, including supervised learning, forecasting, recommendation systems and reinforcement learning\\nExperience with distributed computing frameworks and open source solutions such as kubernetes\\n\\n \\nBonus Qualifications:\\n\\nSolid software engineering skills and experience with popular ML software libraries (scikit-learn, pandas) and data munging tools (SQL, Spark).  Experience with deep learning frameworks (e.g. PyTorch, Tensorflow) is a plus.\\nFamiliarity working with cloud services (AWS, Azure, GCP, etc) and containerization with Kubernetes. You dont have to be an expert, but having a basic idea of the services offered and interest to learn more.\\n\\nBenefits:\\n\\nGreat medical, dental, and vision insurance options\\nMental health benefits\\nFamily building benefits\\nIn addition to 12 observed holidays, salaried team members have unlimited paid time off, hourly team members have 15 days paid time off\\n401(k) plan to help save for your future\\n18 weeks of paid parental leave. Biological, adoptive, and foster parents are all eligible\\nPre-tax commuter benefits\\nLyft Pink - Lyft team members get an exclusive opportunity to test new benefits of our Ridership Program\\n\\nLyft is an equal opportunityaffirmative action employer committed to an inclusive and diverse workplace. All qualified applicants will receive consideration for employment without regards to race, color, religion, sex, sexual orientation, gender identity, national origin, disability status, protected veteran status or any other basis prohibited by law. We also consider qualified applicants with criminal histories consistent with applicable federal, state and local law.  \\nStarting in September 2023, this role will be in-office on a hybrid schedule — Team Members will be expected to work in the office 3 days per week on Mondays, Thursdays and a team-specific third day. Additionally, hybrid roles have the flexibility to work from anywhere for up to 4 weeks per year.\\nThe expected range of pay for this position in the San Francisco Bay Area is 193,500 - 215,000. Salary ranges are dependent on a variety of factors, including qualifications, experience and geographic location. Range is not inclusive of potential equity offering, bonus or benefits. Your recruiter can share more information about the salary range specific to your working location and other factors during the hiring process.'"
     },
     "execution_count": 4,
     "metadata": {},
     "output_type": "execute_result"
    }
   ],
   "source": [
    "content[0]"
   ],
   "metadata": {
    "collapsed": false,
    "ExecuteTime": {
     "end_time": "2023-11-11T06:31:55.008866Z",
     "start_time": "2023-11-11T06:31:55.006681Z"
    }
   },
   "id": "ea5a11b65d5de454"
  },
  {
   "cell_type": "code",
   "execution_count": 5,
   "outputs": [
    {
     "name": "stderr",
     "output_type": "stream",
     "text": [
      "/Users/iamvinitk/miniconda3/envs/NER-CMPE-257/lib/python3.8/site-packages/tqdm/auto.py:21: TqdmWarning: IProgress not found. Please update jupyter and ipywidgets. See https://ipywidgets.readthedocs.io/en/stable/user_install.html\n",
      "  from .autonotebook import tqdm as notebook_tqdm\n"
     ]
    }
   ],
   "source": [
    "from transformers import pipeline"
   ],
   "metadata": {
    "collapsed": false,
    "ExecuteTime": {
     "end_time": "2023-11-11T06:31:56.262330Z",
     "start_time": "2023-11-11T06:31:55.008357Z"
    }
   },
   "id": "e925c45398272b97"
  },
  {
   "cell_type": "code",
   "execution_count": 5,
   "outputs": [],
   "source": [],
   "metadata": {
    "collapsed": false,
    "ExecuteTime": {
     "end_time": "2023-11-11T06:31:56.263641Z",
     "start_time": "2023-11-11T06:31:56.262128Z"
    }
   },
   "id": "91df98e8bd97a2f"
  },
  {
   "cell_type": "code",
   "execution_count": 6,
   "outputs": [
    {
     "name": "stderr",
     "output_type": "stream",
     "text": [
      "Downloading pytorch_model.bin: 100%|██████████| 266M/266M [00:05<00:00, 48.3MB/s] \n"
     ]
    }
   ],
   "source": [
    "classifier = pipeline(\"ner\", model=\"stevhliu/my_awesome_wnut_model\")"
   ],
   "metadata": {
    "collapsed": false,
    "ExecuteTime": {
     "end_time": "2023-11-11T06:32:03.295713Z",
     "start_time": "2023-11-11T06:31:56.264620Z"
    }
   },
   "id": "ea7e3b2efa6eb282"
  },
  {
   "cell_type": "code",
   "execution_count": 7,
   "outputs": [
    {
     "data": {
      "text/plain": "[{'entity': 'B-location',\n  'score': 0.42658633,\n  'index': 2,\n  'word': 'golden',\n  'start': 4,\n  'end': 10},\n {'entity': 'I-location',\n  'score': 0.35856357,\n  'index': 3,\n  'word': 'state',\n  'start': 11,\n  'end': 16},\n {'entity': 'B-group',\n  'score': 0.30640012,\n  'index': 4,\n  'word': 'warriors',\n  'start': 17,\n  'end': 25},\n {'entity': 'B-location',\n  'score': 0.6552353,\n  'index': 13,\n  'word': 'san',\n  'start': 80,\n  'end': 83},\n {'entity': 'B-location',\n  'score': 0.46686688,\n  'index': 14,\n  'word': 'francisco',\n  'start': 84,\n  'end': 93}]"
     },
     "execution_count": 7,
     "metadata": {},
     "output_type": "execute_result"
    }
   ],
   "source": [
    "text = \"The Golden State Warriors are an American professional basketball team based in San Francisco.\"\n",
    "classifier(text)"
   ],
   "metadata": {
    "collapsed": false,
    "ExecuteTime": {
     "end_time": "2023-11-11T06:32:03.534427Z",
     "start_time": "2023-11-11T06:32:03.297237Z"
    }
   },
   "id": "478bb6ffa8d89d9a"
  },
  {
   "cell_type": "code",
   "execution_count": 8,
   "outputs": [
    {
     "data": {
      "text/plain": "[]"
     },
     "execution_count": 8,
     "metadata": {},
     "output_type": "execute_result"
    }
   ],
   "source": [
    "classifier(content[0])"
   ],
   "metadata": {
    "collapsed": false,
    "ExecuteTime": {
     "end_time": "2023-11-11T06:32:03.644463Z",
     "start_time": "2023-11-11T06:32:03.534783Z"
    }
   },
   "id": "cae5a6863e4aaf2a"
  },
  {
   "cell_type": "code",
   "execution_count": 9,
   "outputs": [
    {
     "data": {
      "text/plain": "[]"
     },
     "execution_count": 9,
     "metadata": {},
     "output_type": "execute_result"
    }
   ],
   "source": [
    "classifier(content[1])"
   ],
   "metadata": {
    "collapsed": false,
    "ExecuteTime": {
     "end_time": "2023-11-11T06:32:03.746594Z",
     "start_time": "2023-11-11T06:32:03.645847Z"
    }
   },
   "id": "bea426ac24052783"
  },
  {
   "cell_type": "code",
   "execution_count": 10,
   "outputs": [
    {
     "data": {
      "text/plain": "[]"
     },
     "execution_count": 10,
     "metadata": {},
     "output_type": "execute_result"
    }
   ],
   "source": [
    "classifier(content[2])"
   ],
   "metadata": {
    "collapsed": false,
    "ExecuteTime": {
     "end_time": "2023-11-11T06:32:03.850084Z",
     "start_time": "2023-11-11T06:32:03.748385Z"
    }
   },
   "id": "41fef7da7f678341"
  },
  {
   "cell_type": "code",
   "execution_count": 11,
   "outputs": [
    {
     "data": {
      "text/plain": "[{'entity': 'B-corporation',\n  'score': 0.36986637,\n  'index': 1,\n  'word': 'space',\n  'start': 0,\n  'end': 5},\n {'entity': 'B-corporation',\n  'score': 0.21529023,\n  'index': 2,\n  'word': '##x',\n  'start': 5,\n  'end': 6},\n {'entity': 'B-corporation',\n  'score': 0.3842643,\n  'index': 30,\n  'word': 'space',\n  'start': 156,\n  'end': 161},\n {'entity': 'B-corporation',\n  'score': 0.21579868,\n  'index': 31,\n  'word': '##x',\n  'start': 161,\n  'end': 162},\n {'entity': 'B-location',\n  'score': 0.44997492,\n  'index': 51,\n  'word': 'mars',\n  'start': 275,\n  'end': 279},\n {'entity': 'B-corporation',\n  'score': 0.24868198,\n  'index': 94,\n  'word': 'f',\n  'start': 490,\n  'end': 491},\n {'entity': 'I-product',\n  'score': 0.2517574,\n  'index': 95,\n  'word': '##9',\n  'start': 491,\n  'end': 492},\n {'entity': 'B-corporation',\n  'score': 0.24489294,\n  'index': 98,\n  'word': 'dragon',\n  'start': 504,\n  'end': 510},\n {'entity': 'B-location',\n  'score': 0.625622,\n  'index': 102,\n  'word': 'cape',\n  'start': 536,\n  'end': 540},\n {'entity': 'I-location',\n  'score': 0.396908,\n  'index': 103,\n  'word': 'can',\n  'start': 541,\n  'end': 544},\n {'entity': 'I-location',\n  'score': 0.40230343,\n  'index': 104,\n  'word': '##aver',\n  'start': 544,\n  'end': 548},\n {'entity': 'I-location',\n  'score': 0.50558,\n  'index': 105,\n  'word': '##al',\n  'start': 548,\n  'end': 550},\n {'entity': 'B-corporation',\n  'score': 0.35074502,\n  'index': 257,\n  'word': 'oracle',\n  'start': 1361,\n  'end': 1367},\n {'entity': 'B-corporation',\n  'score': 0.39641356,\n  'index': 266,\n  'word': 'microsoft',\n  'start': 1410,\n  'end': 1419},\n {'entity': 'B-corporation',\n  'score': 0.24355774,\n  'index': 267,\n  'word': 'office',\n  'start': 1420,\n  'end': 1426},\n {'entity': 'B-location',\n  'score': 0.28727365,\n  'index': 330,\n  'word': 'air',\n  'start': 1747,\n  'end': 1750},\n {'entity': 'I-location',\n  'score': 0.32397315,\n  'index': 331,\n  'word': 'force',\n  'start': 1751,\n  'end': 1756},\n {'entity': 'B-location',\n  'score': 0.63396275,\n  'index': 335,\n  'word': 'cape',\n  'start': 1778,\n  'end': 1782},\n {'entity': 'I-location',\n  'score': 0.35205978,\n  'index': 336,\n  'word': 'can',\n  'start': 1783,\n  'end': 1786},\n {'entity': 'I-location',\n  'score': 0.37963212,\n  'index': 337,\n  'word': '##aver',\n  'start': 1786,\n  'end': 1790},\n {'entity': 'B-location',\n  'score': 0.28750443,\n  'index': 489,\n  'word': 'space',\n  'start': 2428,\n  'end': 2433},\n {'entity': 'I-location',\n  'score': 0.26289847,\n  'index': 490,\n  'word': '##x',\n  'start': 2433,\n  'end': 2434}]"
     },
     "execution_count": 11,
     "metadata": {},
     "output_type": "execute_result"
    }
   ],
   "source": [
    "classifier(content[3])"
   ],
   "metadata": {
    "collapsed": false,
    "ExecuteTime": {
     "end_time": "2023-11-11T06:32:03.954883Z",
     "start_time": "2023-11-11T06:32:03.851023Z"
    }
   },
   "id": "cc1c4225afb85944"
  },
  {
   "cell_type": "code",
   "execution_count": 12,
   "outputs": [],
   "source": [
    "import gradio as gr"
   ],
   "metadata": {
    "collapsed": false,
    "ExecuteTime": {
     "end_time": "2023-11-11T06:32:05.123191Z",
     "start_time": "2023-11-11T06:32:03.955858Z"
    }
   },
   "id": "d42d0cc8586b98d7"
  },
  {
   "cell_type": "code",
   "execution_count": 13,
   "outputs": [],
   "source": [
    "def ner(text):\n",
    "    output = classifier(text)\n",
    "    return {\"text\": text, \"entities\": output} "
   ],
   "metadata": {
    "collapsed": false,
    "ExecuteTime": {
     "end_time": "2023-11-11T06:32:05.127481Z",
     "start_time": "2023-11-11T06:32:05.125466Z"
    }
   },
   "id": "bfed39115715cb78"
  },
  {
   "cell_type": "code",
   "execution_count": 14,
   "outputs": [],
   "source": [
    "demo = gr.Interface(ner,\n",
    "             gr.Textbox(placeholder=\"Enter sentence here...\"), \n",
    "             gr.HighlightedText(),\n",
    "             examples=content[:10])\n"
   ],
   "metadata": {
    "collapsed": false,
    "ExecuteTime": {
     "end_time": "2023-11-11T06:32:05.179315Z",
     "start_time": "2023-11-11T06:32:05.128419Z"
    }
   },
   "id": "692d408beceb1b8b"
  },
  {
   "cell_type": "code",
   "execution_count": 15,
   "outputs": [
    {
     "name": "stdout",
     "output_type": "stream",
     "text": [
      "Running on local URL:  http://127.0.0.1:7860\n",
      "\n",
      "To create a public link, set `share=True` in `launch()`.\n"
     ]
    },
    {
     "data": {
      "text/plain": "<IPython.core.display.HTML object>",
      "text/html": "<div><iframe src=\"http://127.0.0.1:7860/\" width=\"100%\" height=\"500\" allow=\"autoplay; camera; microphone; clipboard-read; clipboard-write;\" frameborder=\"0\" allowfullscreen></iframe></div>"
     },
     "metadata": {},
     "output_type": "display_data"
    },
    {
     "data": {
      "text/plain": ""
     },
     "execution_count": 15,
     "metadata": {},
     "output_type": "execute_result"
    }
   ],
   "source": [
    "demo.launch()"
   ],
   "metadata": {
    "collapsed": false,
    "ExecuteTime": {
     "end_time": "2023-11-11T06:32:05.223445Z",
     "start_time": "2023-11-11T06:32:05.180438Z"
    }
   },
   "id": "4ce91dad6f58862c"
  },
  {
   "cell_type": "code",
   "execution_count": 15,
   "outputs": [],
   "source": [],
   "metadata": {
    "collapsed": false,
    "ExecuteTime": {
     "end_time": "2023-11-11T06:32:05.226745Z",
     "start_time": "2023-11-11T06:32:05.223355Z"
    }
   },
   "id": "9daef2d7d3784f6c"
  }
 ],
 "metadata": {
  "kernelspec": {
   "display_name": "Python 3",
   "language": "python",
   "name": "python3"
  },
  "language_info": {
   "codemirror_mode": {
    "name": "ipython",
    "version": 2
   },
   "file_extension": ".py",
   "mimetype": "text/x-python",
   "name": "python",
   "nbconvert_exporter": "python",
   "pygments_lexer": "ipython2",
   "version": "2.7.6"
  }
 },
 "nbformat": 4,
 "nbformat_minor": 5
}
