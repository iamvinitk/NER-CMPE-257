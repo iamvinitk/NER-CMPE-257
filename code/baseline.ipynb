{
 "cells": [
  {
   "cell_type": "code",
<<<<<<< HEAD
   "execution_count": 3,
=======
   "execution_count": 1,
>>>>>>> 6128ec75 (added report)
   "id": "initial_id",
   "metadata": {
    "collapsed": true,
    "ExecuteTime": {
<<<<<<< HEAD
     "end_time": "2023-11-08T00:52:23.354891Z",
     "start_time": "2023-11-08T00:52:23.353496Z"
    }
   },
   "outputs": [],
=======
     "end_time": "2023-11-08T06:42:40.086137Z",
     "start_time": "2023-11-08T06:42:32.812616Z"
    }
   },
   "outputs": [
    {
     "name": "stderr",
     "output_type": "stream",
     "text": [
      "/Users/iamvinitk/Personal/Projects/virtual-envs/CMPE257/lib/python3.9/site-packages/urllib3/__init__.py:34: NotOpenSSLWarning: urllib3 v2.0 only supports OpenSSL 1.1.1+, currently the 'ssl' module is compiled with 'LibreSSL 2.8.3'. See: https://github.com/urllib3/urllib3/issues/3020\n",
      "  warnings.warn(\n"
     ]
    }
   ],
>>>>>>> 6128ec75 (added report)
   "source": [
    "import numpy as np\n",
    "import pandas as pd\n",
    "import tensorflow as tf\n",
    "import os"
   ]
  },
  {
   "cell_type": "code",
<<<<<<< HEAD
   "execution_count": 4,
=======
   "execution_count": 2,
>>>>>>> 6128ec75 (added report)
   "outputs": [],
   "source": [
    "# read all the txt files in data folder\n",
    "path = os.getcwd()\n",
    "files = os.listdir(path + '/../data')\n",
    "files_txt = [i for i in files if i.endswith('.txt')]"
   ],
   "metadata": {
    "collapsed": false,
    "ExecuteTime": {
<<<<<<< HEAD
     "end_time": "2023-11-08T00:53:00.801876Z",
     "start_time": "2023-11-08T00:53:00.790970Z"
=======
     "end_time": "2023-11-08T06:42:43.214260Z",
     "start_time": "2023-11-08T06:42:43.203893Z"
>>>>>>> 6128ec75 (added report)
    }
   },
   "id": "ab92d912228ce6b2"
  },
  {
   "cell_type": "code",
<<<<<<< HEAD
   "execution_count": 5,
=======
   "execution_count": 3,
>>>>>>> 6128ec75 (added report)
   "outputs": [],
   "source": [
    "# read all content in txt files\n",
    "content = []\n",
    "for file in files_txt:\n",
    "    with open(path + '/../data/' + file, 'r') as f:\n",
    "        content.append(f.read())"
   ],
   "metadata": {
    "collapsed": false,
    "ExecuteTime": {
<<<<<<< HEAD
     "end_time": "2023-11-08T00:53:02.292534Z",
     "start_time": "2023-11-08T00:53:01.025557Z"
=======
     "end_time": "2023-11-08T06:42:45.248506Z",
     "start_time": "2023-11-08T06:42:43.713493Z"
>>>>>>> 6128ec75 (added report)
    }
   },
   "id": "6691e243a4d6edef"
  },
  {
   "cell_type": "code",
<<<<<<< HEAD
   "execution_count": 6,
=======
   "execution_count": 4,
>>>>>>> 6128ec75 (added report)
   "outputs": [
    {
     "data": {
      "text/plain": "'At Lyft, our mission is to improve peoples lives with the worlds best transportation. To do this, we start with our own community by creating an open, inclusive, and diverse organization.\\nData and Machine Learning are at the heart of Lyfts products and decision-making. As a member of the Machine Learning Platform team, you will work in a dynamic environment, where we embrace moving quickly to build the worlds best transportation network. Machine learning infra engineers build systems that empower machine learning models to make our products predictive, personalized, and adaptive. Were looking for passionate, driven engineers to take on some of the most interesting and impactful problems in ridesharing.\\nAs a machine learning platform engineer, you will be developing our central machine learning platform that powers Lyft machine learning and optimization models. You will be working on a wide array of challenges ranging from building the large language model framework,  large scale distributed model training, sub millisecond real-time predictions at scale,  automating machine learning model lifecycle, implementing model monitoring, enabling reinforcement learning and many more. You will be working in a fast paced environment, tackling a diverse set of problems. They collaborate across transportation, economics, forecasting, mapping, personalization, and adaptive control. We are hiring engineers who can work with modelers across the company and build infrastructure to incorporate the rapid developing needs in each of these fields. Were looking for someone who is passionate about solving problems with data, building reliable ML systems, and is excited about working in a fast-paced, innovative, and collegial environment.\\n \\nResponsibilities\\n\\nPartner with Machine Learning Engineers, Data Scientists, Software Engineers and Product Managers to develop advanced systems for business and user impact\\nEvaluate when to build and when to reuse existing components including open source solutions\\nWrite production quality code that scales with use.\\nHelp establish roadmap and architecture based on technology and our needs\\n\\n \\nQualifications\\n\\nB.S., M.S., or Ph.D. in Computer Science and experience in distributed systems and machine learning\\nPassion for building scalable and extensible solutions for machine learning development and productionisation towards short term and long term business and user impact\\nProficiency in Python, Golang, or other programming language\\nExcellent communication skills and fluency in English\\nStrong understanding of Machine Learning fundamentals, including supervised learning, forecasting, recommendation systems and reinforcement learning\\nExperience with distributed computing frameworks and open source solutions such as kubernetes\\n\\n \\nBonus Qualifications:\\n\\nSolid software engineering skills and experience with popular ML software libraries (scikit-learn, pandas) and data munging tools (SQL, Spark).  Experience with deep learning frameworks (e.g. PyTorch, Tensorflow) is a plus.\\nFamiliarity working with cloud services (AWS, Azure, GCP, etc) and containerization with Kubernetes. You dont have to be an expert, but having a basic idea of the services offered and interest to learn more.\\n\\nBenefits:\\n\\nGreat medical, dental, and vision insurance options\\nMental health benefits\\nFamily building benefits\\nIn addition to 12 observed holidays, salaried team members have unlimited paid time off, hourly team members have 15 days paid time off\\n401(k) plan to help save for your future\\n18 weeks of paid parental leave. Biological, adoptive, and foster parents are all eligible\\nPre-tax commuter benefits\\nLyft Pink - Lyft team members get an exclusive opportunity to test new benefits of our Ridership Program\\n\\nLyft is an equal opportunityaffirmative action employer committed to an inclusive and diverse workplace. All qualified applicants will receive consideration for employment without regards to race, color, religion, sex, sexual orientation, gender identity, national origin, disability status, protected veteran status or any other basis prohibited by law. We also consider qualified applicants with criminal histories consistent with applicable federal, state and local law.  \\nStarting in September 2023, this role will be in-office on a hybrid schedule — Team Members will be expected to work in the office 3 days per week on Mondays, Thursdays and a team-specific third day. Additionally, hybrid roles have the flexibility to work from anywhere for up to 4 weeks per year.\\nThe expected range of pay for this position in the San Francisco Bay Area is 193,500 - 215,000. Salary ranges are dependent on a variety of factors, including qualifications, experience and geographic location. Range is not inclusive of potential equity offering, bonus or benefits. Your recruiter can share more information about the salary range specific to your working location and other factors during the hiring process.'"
     },
<<<<<<< HEAD
     "execution_count": 6,
=======
     "execution_count": 4,
>>>>>>> 6128ec75 (added report)
     "metadata": {},
     "output_type": "execute_result"
    }
   ],
   "source": [
    "content[0]"
   ],
   "metadata": {
    "collapsed": false,
    "ExecuteTime": {
<<<<<<< HEAD
     "end_time": "2023-11-08T00:53:02.305475Z",
     "start_time": "2023-11-08T00:53:02.298145Z"
=======
     "end_time": "2023-11-08T06:42:45.258798Z",
     "start_time": "2023-11-08T06:42:45.251249Z"
>>>>>>> 6128ec75 (added report)
    }
   },
   "id": "ea5a11b65d5de454"
  },
  {
   "cell_type": "code",
<<<<<<< HEAD
   "execution_count": 7,
=======
   "execution_count": 5,
>>>>>>> 6128ec75 (added report)
   "outputs": [],
   "source": [
    "from transformers import pipeline"
   ],
   "metadata": {
    "collapsed": false,
    "ExecuteTime": {
<<<<<<< HEAD
     "end_time": "2023-11-08T00:53:04.206144Z",
     "start_time": "2023-11-08T00:53:02.301136Z"
=======
     "end_time": "2023-11-08T06:42:46.941935Z",
     "start_time": "2023-11-08T06:42:45.254713Z"
>>>>>>> 6128ec75 (added report)
    }
   },
   "id": "e925c45398272b97"
  },
  {
   "cell_type": "code",
<<<<<<< HEAD
   "execution_count": 8,
=======
   "execution_count": null,
   "outputs": [],
   "source": [],
   "metadata": {
    "collapsed": false
   },
   "id": "91df98e8bd97a2f"
  },
  {
   "cell_type": "code",
   "execution_count": 6,
>>>>>>> 6128ec75 (added report)
   "outputs": [
    {
     "name": "stderr",
     "output_type": "stream",
     "text": [
<<<<<<< HEAD
      "2023-11-07 16:53:04.414084: I metal_plugin/src/device/metal_device.cc:1154] Metal device set to: Apple M1 Pro\n",
      "2023-11-07 16:53:04.414107: I metal_plugin/src/device/metal_device.cc:296] systemMemory: 16.00 GB\n",
      "2023-11-07 16:53:04.414122: I metal_plugin/src/device/metal_device.cc:313] maxCacheSize: 5.33 GB\n",
      "2023-11-07 16:53:04.414170: I tensorflow/core/common_runtime/pluggable_device/pluggable_device_factory.cc:306] Could not identify NUMA node of platform GPU ID 0, defaulting to 0. Your kernel may not have been built with NUMA support.\n",
      "2023-11-07 16:53:04.414206: I tensorflow/core/common_runtime/pluggable_device/pluggable_device_factory.cc:272] Created TensorFlow device (/job:localhost/replica:0/task:0/device:GPU:0 with 0 MB memory) -> physical PluggableDevice (device: 0, name: METAL, pci bus id: <undefined>)\n",
=======
      "2023-11-07 22:42:47.383425: I metal_plugin/src/device/metal_device.cc:1154] Metal device set to: Apple M1 Pro\n",
      "2023-11-07 22:42:47.383449: I metal_plugin/src/device/metal_device.cc:296] systemMemory: 16.00 GB\n",
      "2023-11-07 22:42:47.383460: I metal_plugin/src/device/metal_device.cc:313] maxCacheSize: 5.33 GB\n",
      "2023-11-07 22:42:47.383745: I tensorflow/core/common_runtime/pluggable_device/pluggable_device_factory.cc:306] Could not identify NUMA node of platform GPU ID 0, defaulting to 0. Your kernel may not have been built with NUMA support.\n",
      "2023-11-07 22:42:47.384053: I tensorflow/core/common_runtime/pluggable_device/pluggable_device_factory.cc:272] Created TensorFlow device (/job:localhost/replica:0/task:0/device:GPU:0 with 0 MB memory) -> physical PluggableDevice (device: 0, name: METAL, pci bus id: <undefined>)\n",
>>>>>>> 6128ec75 (added report)
      "All model checkpoint layers were used when initializing TFDistilBertForTokenClassification.\n",
      "\n",
      "All the layers of TFDistilBertForTokenClassification were initialized from the model checkpoint at stevhliu/my_awesome_wnut_model.\n",
      "If your task is similar to the task the model of the checkpoint was trained on, you can already use TFDistilBertForTokenClassification for predictions without further training.\n"
     ]
    }
   ],
   "source": [
    "classifier = pipeline(\"ner\", model=\"stevhliu/my_awesome_wnut_model\")"
   ],
   "metadata": {
    "collapsed": false,
    "ExecuteTime": {
<<<<<<< HEAD
     "end_time": "2023-11-08T00:53:09.148676Z",
     "start_time": "2023-11-08T00:53:04.207497Z"
=======
     "end_time": "2023-11-08T06:42:50.602919Z",
     "start_time": "2023-11-08T06:42:46.937539Z"
>>>>>>> 6128ec75 (added report)
    }
   },
   "id": "ea7e3b2efa6eb282"
  },
  {
   "cell_type": "code",
<<<<<<< HEAD
   "execution_count": 9,
=======
   "execution_count": 7,
>>>>>>> 6128ec75 (added report)
   "outputs": [
    {
     "data": {
      "text/plain": "[{'entity': 'B-location',\n  'score': 0.21302876,\n  'index': 1,\n  'word': 'the',\n  'start': 0,\n  'end': 3},\n {'entity': 'B-location',\n  'score': 0.4676814,\n  'index': 2,\n  'word': 'golden',\n  'start': 4,\n  'end': 10},\n {'entity': 'B-location',\n  'score': 0.31264305,\n  'index': 3,\n  'word': 'state',\n  'start': 11,\n  'end': 16},\n {'entity': 'B-location',\n  'score': 0.2054506,\n  'index': 4,\n  'word': 'warriors',\n  'start': 17,\n  'end': 25},\n {'entity': 'B-location',\n  'score': 0.57780075,\n  'index': 13,\n  'word': 'san',\n  'start': 80,\n  'end': 83},\n {'entity': 'B-location',\n  'score': 0.55975956,\n  'index': 14,\n  'word': 'francisco',\n  'start': 84,\n  'end': 93}]"
     },
<<<<<<< HEAD
     "execution_count": 9,
=======
     "execution_count": 7,
>>>>>>> 6128ec75 (added report)
     "metadata": {},
     "output_type": "execute_result"
    }
   ],
   "source": [
    "text = \"The Golden State Warriors are an American professional basketball team based in San Francisco.\"\n",
    "classifier(text)"
   ],
   "metadata": {
    "collapsed": false,
    "ExecuteTime": {
<<<<<<< HEAD
     "end_time": "2023-11-08T00:53:09.375030Z",
     "start_time": "2023-11-08T00:53:09.149647Z"
=======
     "end_time": "2023-11-08T06:42:50.839631Z",
     "start_time": "2023-11-08T06:42:50.603919Z"
>>>>>>> 6128ec75 (added report)
    }
   },
   "id": "478bb6ffa8d89d9a"
  },
  {
   "cell_type": "code",
<<<<<<< HEAD
   "execution_count": null,
   "outputs": [],
=======
   "execution_count": 8,
   "outputs": [
    {
     "data": {
      "text/plain": "[]"
     },
     "execution_count": 8,
     "metadata": {},
     "output_type": "execute_result"
    }
   ],
>>>>>>> 6128ec75 (added report)
   "source": [
    "classifier(content[0])"
   ],
   "metadata": {
<<<<<<< HEAD
    "collapsed": false
=======
    "collapsed": false,
    "ExecuteTime": {
     "end_time": "2023-11-08T06:42:51.410879Z",
     "start_time": "2023-11-08T06:42:50.836500Z"
    }
>>>>>>> 6128ec75 (added report)
   },
   "id": "cae5a6863e4aaf2a"
  },
  {
   "cell_type": "code",
<<<<<<< HEAD
   "execution_count": null,
   "outputs": [],
=======
   "execution_count": 9,
   "outputs": [
    {
     "data": {
      "text/plain": "[{'entity': 'B-location',\n  'score': 0.46796942,\n  'index': 333,\n  'word': 'la',\n  'start': 1859,\n  'end': 1861}]"
     },
     "execution_count": 9,
     "metadata": {},
     "output_type": "execute_result"
    }
   ],
>>>>>>> 6128ec75 (added report)
   "source": [
    "classifier(content[1])"
   ],
   "metadata": {
<<<<<<< HEAD
    "collapsed": false
=======
    "collapsed": false,
    "ExecuteTime": {
     "end_time": "2023-11-08T06:42:51.802820Z",
     "start_time": "2023-11-08T06:42:51.399653Z"
    }
>>>>>>> 6128ec75 (added report)
   },
   "id": "bea426ac24052783"
  },
  {
   "cell_type": "code",
<<<<<<< HEAD
   "execution_count": null,
   "outputs": [],
=======
   "execution_count": 10,
   "outputs": [
    {
     "data": {
      "text/plain": "[]"
     },
     "execution_count": 10,
     "metadata": {},
     "output_type": "execute_result"
    }
   ],
>>>>>>> 6128ec75 (added report)
   "source": [
    "classifier(content[2])"
   ],
   "metadata": {
<<<<<<< HEAD
    "collapsed": false
=======
    "collapsed": false,
    "ExecuteTime": {
     "end_time": "2023-11-08T06:42:52.158788Z",
     "start_time": "2023-11-08T06:42:51.801305Z"
    }
>>>>>>> 6128ec75 (added report)
   },
   "id": "41fef7da7f678341"
  },
  {
   "cell_type": "code",
<<<<<<< HEAD
   "execution_count": null,
   "outputs": [],
=======
   "execution_count": 11,
   "outputs": [
    {
     "data": {
      "text/plain": "[{'entity': 'B-location',\n  'score': 0.24012488,\n  'index': 1,\n  'word': 'space',\n  'start': 0,\n  'end': 5},\n {'entity': 'B-location',\n  'score': 0.21206664,\n  'index': 2,\n  'word': '##x',\n  'start': 5,\n  'end': 6},\n {'entity': 'B-location',\n  'score': 0.22629896,\n  'index': 30,\n  'word': 'space',\n  'start': 156,\n  'end': 161},\n {'entity': 'B-location',\n  'score': 0.1756535,\n  'index': 31,\n  'word': '##x',\n  'start': 161,\n  'end': 162},\n {'entity': 'B-location',\n  'score': 0.3427952,\n  'index': 51,\n  'word': 'mars',\n  'start': 275,\n  'end': 279},\n {'entity': 'B-location',\n  'score': 0.48182377,\n  'index': 102,\n  'word': 'cape',\n  'start': 536,\n  'end': 540},\n {'entity': 'B-location',\n  'score': 0.39949793,\n  'index': 103,\n  'word': 'can',\n  'start': 541,\n  'end': 544},\n {'entity': 'B-location',\n  'score': 0.41629222,\n  'index': 104,\n  'word': '##aver',\n  'start': 544,\n  'end': 548},\n {'entity': 'B-location',\n  'score': 0.34281892,\n  'index': 105,\n  'word': '##al',\n  'start': 548,\n  'end': 550},\n {'entity': 'B-location',\n  'score': 0.41866252,\n  'index': 335,\n  'word': 'cape',\n  'start': 1778,\n  'end': 1782},\n {'entity': 'B-location',\n  'score': 0.360572,\n  'index': 336,\n  'word': 'can',\n  'start': 1783,\n  'end': 1786},\n {'entity': 'B-location',\n  'score': 0.3739525,\n  'index': 337,\n  'word': '##aver',\n  'start': 1786,\n  'end': 1790},\n {'entity': 'B-location',\n  'score': 0.301473,\n  'index': 489,\n  'word': 'space',\n  'start': 2428,\n  'end': 2433},\n {'entity': 'B-location',\n  'score': 0.25453627,\n  'index': 490,\n  'word': '##x',\n  'start': 2433,\n  'end': 2434}]"
     },
     "execution_count": 11,
     "metadata": {},
     "output_type": "execute_result"
    }
   ],
>>>>>>> 6128ec75 (added report)
   "source": [
    "classifier(content[3])"
   ],
   "metadata": {
<<<<<<< HEAD
    "collapsed": false
=======
    "collapsed": false,
    "ExecuteTime": {
     "end_time": "2023-11-08T06:42:52.541561Z",
     "start_time": "2023-11-08T06:42:52.157547Z"
    }
>>>>>>> 6128ec75 (added report)
   },
   "id": "cc1c4225afb85944"
  },
  {
   "cell_type": "code",
<<<<<<< HEAD
   "execution_count": 10,
=======
   "execution_count": 12,
>>>>>>> 6128ec75 (added report)
   "outputs": [],
   "source": [
    "import gradio as gr"
   ],
   "metadata": {
    "collapsed": false,
    "ExecuteTime": {
<<<<<<< HEAD
     "end_time": "2023-11-08T00:53:38.721392Z",
     "start_time": "2023-11-08T00:53:36.801755Z"
=======
     "end_time": "2023-11-08T06:42:54.196345Z",
     "start_time": "2023-11-08T06:42:52.540240Z"
>>>>>>> 6128ec75 (added report)
    }
   },
   "id": "d42d0cc8586b98d7"
  },
  {
   "cell_type": "code",
<<<<<<< HEAD
   "execution_count": 11,
=======
   "execution_count": 13,
>>>>>>> 6128ec75 (added report)
   "outputs": [],
   "source": [
    "def ner(text):\n",
    "    output = classifier(text)\n",
    "    return {\"text\": text, \"entities\": output} "
   ],
   "metadata": {
    "collapsed": false,
    "ExecuteTime": {
<<<<<<< HEAD
     "end_time": "2023-11-08T00:53:38.726486Z",
     "start_time": "2023-11-08T00:53:38.724938Z"
=======
     "end_time": "2023-11-08T06:42:54.211662Z",
     "start_time": "2023-11-08T06:42:54.200143Z"
>>>>>>> 6128ec75 (added report)
    }
   },
   "id": "bfed39115715cb78"
  },
  {
   "cell_type": "code",
<<<<<<< HEAD
   "execution_count": 12,
=======
   "execution_count": 14,
>>>>>>> 6128ec75 (added report)
   "outputs": [],
   "source": [
    "demo = gr.Interface(ner,\n",
    "             gr.Textbox(placeholder=\"Enter sentence here...\"), \n",
    "             gr.HighlightedText(),\n",
    "             examples=content[:10])\n"
   ],
   "metadata": {
    "collapsed": false,
    "ExecuteTime": {
<<<<<<< HEAD
     "end_time": "2023-11-08T00:53:38.777236Z",
     "start_time": "2023-11-08T00:53:38.727535Z"
=======
     "end_time": "2023-11-08T06:42:54.268989Z",
     "start_time": "2023-11-08T06:42:54.203532Z"
>>>>>>> 6128ec75 (added report)
    }
   },
   "id": "692d408beceb1b8b"
  },
  {
   "cell_type": "code",
<<<<<<< HEAD
   "execution_count": 13,
=======
   "execution_count": 15,
>>>>>>> 6128ec75 (added report)
   "outputs": [
    {
     "name": "stdout",
     "output_type": "stream",
     "text": [
      "Running on local URL:  http://127.0.0.1:7860\n",
      "\n",
      "To create a public link, set `share=True` in `launch()`.\n"
     ]
    },
    {
     "data": {
      "text/plain": "<IPython.core.display.HTML object>",
      "text/html": "<div><iframe src=\"http://127.0.0.1:7860/\" width=\"100%\" height=\"500\" allow=\"autoplay; camera; microphone; clipboard-read; clipboard-write;\" frameborder=\"0\" allowfullscreen></iframe></div>"
     },
     "metadata": {},
     "output_type": "display_data"
    },
    {
     "data": {
      "text/plain": ""
     },
<<<<<<< HEAD
     "execution_count": 13,
=======
     "execution_count": 15,
>>>>>>> 6128ec75 (added report)
     "metadata": {},
     "output_type": "execute_result"
    }
   ],
   "source": [
    "demo.launch()"
   ],
   "metadata": {
    "collapsed": false,
    "ExecuteTime": {
<<<<<<< HEAD
     "end_time": "2023-11-08T00:53:39.580116Z",
     "start_time": "2023-11-08T00:53:39.495387Z"
=======
     "end_time": "2023-11-08T06:42:54.344731Z",
     "start_time": "2023-11-08T06:42:54.271341Z"
>>>>>>> 6128ec75 (added report)
    }
   },
   "id": "4ce91dad6f58862c"
  },
  {
   "cell_type": "code",
   "execution_count": null,
   "outputs": [],
   "source": [],
   "metadata": {
    "collapsed": false
   },
   "id": "9daef2d7d3784f6c"
  }
 ],
 "metadata": {
  "kernelspec": {
   "display_name": "Python 3",
   "language": "python",
   "name": "python3"
  },
  "language_info": {
   "codemirror_mode": {
    "name": "ipython",
    "version": 2
   },
   "file_extension": ".py",
   "mimetype": "text/x-python",
   "name": "python",
   "nbconvert_exporter": "python",
   "pygments_lexer": "ipython2",
   "version": "2.7.6"
  }
 },
 "nbformat": 4,
 "nbformat_minor": 5
}
