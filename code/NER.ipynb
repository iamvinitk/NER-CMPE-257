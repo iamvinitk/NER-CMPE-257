{
 "cells": [
  {
   "cell_type": "code",
   "execution_count": 1,
   "id": "initial_id",
   "metadata": {
    "collapsed": true,
    "ExecuteTime": {
     "end_time": "2023-11-11T06:27:34.521992Z",
     "start_time": "2023-11-11T06:27:34.309894Z"
    }
   },
   "outputs": [
    {
     "name": "stderr",
     "output_type": "stream",
     "text": [
      "/Users/iamvinitk/miniconda3/envs/NER-CMPE-257/lib/python3.8/site-packages/tqdm/auto.py:21: TqdmWarning: IProgress not found. Please update jupyter and ipywidgets. See https://ipywidgets.readthedocs.io/en/stable/user_install.html\n",
      "  from .autonotebook import tqdm as notebook_tqdm\n"
     ]
    }
   ],
   "source": [
    "import pandas as pd\n",
    "import swifter"
   ]
  },
  {
   "cell_type": "code",
   "execution_count": 2,
   "outputs": [],
   "source": [
    "read_me = pd.read_parquet('../dataset/Read Me.parquet')"
   ],
   "metadata": {
    "collapsed": false,
    "ExecuteTime": {
     "end_time": "2023-11-10T20:52:17.109734Z",
     "start_time": "2023-11-10T20:52:17.077297Z"
    }
   },
   "id": "7a1d75a217766fcc"
  },
  {
   "cell_type": "code",
   "execution_count": 3,
   "outputs": [
    {
     "data": {
      "text/plain": "                                 O*NET 27.2 Database\n0                              February 2023 Release\n1                              ---------------------\n2  For information on current and future releases...\n3                                      please visit:\n4           https://www.onetcenter.org/database.html",
      "text/html": "<div>\n<style scoped>\n    .dataframe tbody tr th:only-of-type {\n        vertical-align: middle;\n    }\n\n    .dataframe tbody tr th {\n        vertical-align: top;\n    }\n\n    .dataframe thead th {\n        text-align: right;\n    }\n</style>\n<table border=\"1\" class=\"dataframe\">\n  <thead>\n    <tr style=\"text-align: right;\">\n      <th></th>\n      <th>O*NET 27.2 Database</th>\n    </tr>\n  </thead>\n  <tbody>\n    <tr>\n      <th>0</th>\n      <td>February 2023 Release</td>\n    </tr>\n    <tr>\n      <th>1</th>\n      <td>---------------------</td>\n    </tr>\n    <tr>\n      <th>2</th>\n      <td>For information on current and future releases...</td>\n    </tr>\n    <tr>\n      <th>3</th>\n      <td>please visit:</td>\n    </tr>\n    <tr>\n      <th>4</th>\n      <td>https://www.onetcenter.org/database.html</td>\n    </tr>\n  </tbody>\n</table>\n</div>"
     },
     "execution_count": 3,
     "metadata": {},
     "output_type": "execute_result"
    }
   ],
   "source": [
    "read_me.head()"
   ],
   "metadata": {
    "collapsed": false,
    "ExecuteTime": {
     "end_time": "2023-11-10T20:52:17.341491Z",
     "start_time": "2023-11-10T20:52:17.333450Z"
    }
   },
   "id": "e67a228d04967925"
  },
  {
   "cell_type": "code",
   "execution_count": 4,
   "outputs": [],
   "source": [
    "job_description = pd.read_parquet('../dataset/cleaned_jobs_desc.parquet')"
   ],
   "metadata": {
    "collapsed": false,
    "ExecuteTime": {
     "end_time": "2023-11-10T20:52:19.042452Z",
     "start_time": "2023-11-10T20:52:17.727132Z"
    }
   },
   "id": "6932a5ebd8d8c04b"
  },
  {
   "cell_type": "code",
   "execution_count": 5,
   "outputs": [
    {
     "data": {
      "text/plain": "                                           job_title  \\\n0      HyresadministratÃ¶r till uppdrag i GÃ¶teborg!   \n1                       Registered Nurse - RGN / RMN   \n2                                   Specialist Nurse   \n3               Care Worker - Wells & Shepton Mallet   \n4       Kundansvarig redovisningskonsult, Karlskrona   \n5                             Admiral Nurse - Band 6   \n6                      Consultant in Stroke Medicine   \n7  Apprentice Trainee Assistant Practitioner Surg...   \n8      Highly Specialised Clinical Trials Pharmacist   \n9                  Specialist Dietitian â€“ Diabetes   \n\n                                        company_name  \\\n0                                       TNG Group AB   \n1                         Maria Mallaband Care Group   \n2               Bromley Healthcare Diabetes Services   \n3                                            Networx   \n4                                              Aspia   \n5  Gloucestershire Hospitals Nhs Foundation Trust...   \n6  Blackpool Teaching Hospitals NHS Foundation Trust   \n7  North Cumbria Integrated Care NHS Foundation T...   \n8                     Portsmouth Hospitals NHS Trust   \n9  University Hospitals Birmingham NHS Foundation...   \n\n                                     job_description  \\\n0  Ã„r du extra serviceorienterad och samtidigt Ã...   \n1  Registered Nurse - RGN / RMN   CAPTION: Job de...   \n2  Diabetes Specialist Nurse - Band 7   Band 7   ...   \n3  At Somerset Care, our values and culture is wh...   \n4  Ã„r du en driven och engagerad redovisningskon...   \n5  Admiral Nurse job vacancies   Admiral Nurse, B...   \n6  Blackpool Teaching Hospitals NHS Foundation Tr...   \n7  Cumbria Partnership NHS Foundation Trust (CPFT...   \n8  Portsmouth Hospitals NHS Trust is one of the l...   \n9  UHB is one of the largest teaching hospital tr...   \n\n                                          clean_text  \n0  r du extra serviceorienterad och samtidigt lsk...  \n1  registered nurse - rgn / rmn caption : job det...  \n2  diabetes specialist nurse - band 7 band 7 main...  \n3  somerset care , values culture makes us differ...  \n4  r du en driven och engagerad redovisningskonsu...  \n5  admiral nurse job vacancies admiral nurse , ba...  \n6  blackpool teaching hospitals nhs foundation tr...  \n7  cumbria partnership nhs foundation trust ( cpf...  \n8  portsmouth hospitals nhs trust one largest acu...  \n9  uhb one largest teaching hospital trusts engla...  ",
      "text/html": "<div>\n<style scoped>\n    .dataframe tbody tr th:only-of-type {\n        vertical-align: middle;\n    }\n\n    .dataframe tbody tr th {\n        vertical-align: top;\n    }\n\n    .dataframe thead th {\n        text-align: right;\n    }\n</style>\n<table border=\"1\" class=\"dataframe\">\n  <thead>\n    <tr style=\"text-align: right;\">\n      <th></th>\n      <th>job_title</th>\n      <th>company_name</th>\n      <th>job_description</th>\n      <th>clean_text</th>\n    </tr>\n  </thead>\n  <tbody>\n    <tr>\n      <th>0</th>\n      <td>HyresadministratÃ¶r till uppdrag i GÃ¶teborg!</td>\n      <td>TNG Group AB</td>\n      <td>Ã„r du extra serviceorienterad och samtidigt Ã...</td>\n      <td>r du extra serviceorienterad och samtidigt lsk...</td>\n    </tr>\n    <tr>\n      <th>1</th>\n      <td>Registered Nurse - RGN / RMN</td>\n      <td>Maria Mallaband Care Group</td>\n      <td>Registered Nurse - RGN / RMN   CAPTION: Job de...</td>\n      <td>registered nurse - rgn / rmn caption : job det...</td>\n    </tr>\n    <tr>\n      <th>2</th>\n      <td>Specialist Nurse</td>\n      <td>Bromley Healthcare Diabetes Services</td>\n      <td>Diabetes Specialist Nurse - Band 7   Band 7   ...</td>\n      <td>diabetes specialist nurse - band 7 band 7 main...</td>\n    </tr>\n    <tr>\n      <th>3</th>\n      <td>Care Worker - Wells &amp; Shepton Mallet</td>\n      <td>Networx</td>\n      <td>At Somerset Care, our values and culture is wh...</td>\n      <td>somerset care , values culture makes us differ...</td>\n    </tr>\n    <tr>\n      <th>4</th>\n      <td>Kundansvarig redovisningskonsult, Karlskrona</td>\n      <td>Aspia</td>\n      <td>Ã„r du en driven och engagerad redovisningskon...</td>\n      <td>r du en driven och engagerad redovisningskonsu...</td>\n    </tr>\n    <tr>\n      <th>5</th>\n      <td>Admiral Nurse - Band 6</td>\n      <td>Gloucestershire Hospitals Nhs Foundation Trust...</td>\n      <td>Admiral Nurse job vacancies   Admiral Nurse, B...</td>\n      <td>admiral nurse job vacancies admiral nurse , ba...</td>\n    </tr>\n    <tr>\n      <th>6</th>\n      <td>Consultant in Stroke Medicine</td>\n      <td>Blackpool Teaching Hospitals NHS Foundation Trust</td>\n      <td>Blackpool Teaching Hospitals NHS Foundation Tr...</td>\n      <td>blackpool teaching hospitals nhs foundation tr...</td>\n    </tr>\n    <tr>\n      <th>7</th>\n      <td>Apprentice Trainee Assistant Practitioner Surg...</td>\n      <td>North Cumbria Integrated Care NHS Foundation T...</td>\n      <td>Cumbria Partnership NHS Foundation Trust (CPFT...</td>\n      <td>cumbria partnership nhs foundation trust ( cpf...</td>\n    </tr>\n    <tr>\n      <th>8</th>\n      <td>Highly Specialised Clinical Trials Pharmacist</td>\n      <td>Portsmouth Hospitals NHS Trust</td>\n      <td>Portsmouth Hospitals NHS Trust is one of the l...</td>\n      <td>portsmouth hospitals nhs trust one largest acu...</td>\n    </tr>\n    <tr>\n      <th>9</th>\n      <td>Specialist Dietitian â€“ Diabetes</td>\n      <td>University Hospitals Birmingham NHS Foundation...</td>\n      <td>UHB is one of the largest teaching hospital tr...</td>\n      <td>uhb one largest teaching hospital trusts engla...</td>\n    </tr>\n  </tbody>\n</table>\n</div>"
     },
     "execution_count": 5,
     "metadata": {},
     "output_type": "execute_result"
    }
   ],
   "source": [
    "job_description.head(10)"
   ],
   "metadata": {
    "collapsed": false,
    "ExecuteTime": {
     "end_time": "2023-11-10T20:52:19.436673Z",
     "start_time": "2023-11-10T20:52:19.432399Z"
    }
   },
   "id": "bbedc553427da1f4"
  },
  {
   "cell_type": "code",
   "execution_count": 6,
   "outputs": [
    {
     "data": {
      "text/plain": "(159589, 4)"
     },
     "execution_count": 6,
     "metadata": {},
     "output_type": "execute_result"
    }
   ],
   "source": [
    "job_description.shape"
   ],
   "metadata": {
    "collapsed": false,
    "ExecuteTime": {
     "end_time": "2023-11-10T20:52:20.065146Z",
     "start_time": "2023-11-10T20:52:20.061647Z"
    }
   },
   "id": "25d5c34992225e1e"
  },
  {
   "cell_type": "code",
   "execution_count": 7,
   "outputs": [],
   "source": [
    "job_description.reset_index(inplace=True, drop=True)"
   ],
   "metadata": {
    "collapsed": false,
    "ExecuteTime": {
     "end_time": "2023-11-10T20:52:20.864721Z",
     "start_time": "2023-11-10T20:52:20.858658Z"
    }
   },
   "id": "9135bd9f4175d5b6"
  },
  {
   "cell_type": "code",
   "execution_count": 8,
   "outputs": [],
   "source": [
    "# filter out the jobs that contains job_title or clean_text not in english using langdetect\n",
    "from langdetect import detect"
   ],
   "metadata": {
    "collapsed": false,
    "ExecuteTime": {
     "end_time": "2023-11-10T20:52:21.615549Z",
     "start_time": "2023-11-10T20:52:21.604025Z"
    }
   },
   "id": "ad6ff811b5523b9d"
  },
  {
   "cell_type": "code",
   "execution_count": 9,
   "outputs": [],
   "source": [
    "def detect_lang(text):\n",
    "    try:\n",
    "        return detect(text)\n",
    "    except:\n",
    "        return 'unknown'"
   ],
   "metadata": {
    "collapsed": false,
    "ExecuteTime": {
     "end_time": "2023-11-10T20:52:22.195858Z",
     "start_time": "2023-11-10T20:52:22.191573Z"
    }
   },
   "id": "3c6d416dae354b3"
  },
  {
   "cell_type": "code",
   "execution_count": 10,
   "outputs": [
    {
     "name": "stderr",
     "output_type": "stream",
     "text": [
      "Pandas Apply: 100%|██████████| 159589/159589 [12:25<00:00, 214.19it/s]\n"
     ]
    }
   ],
   "source": [
    "job_description['lang'] = job_description['clean_text'].swifter.apply(detect_lang)"
   ],
   "metadata": {
    "collapsed": false,
    "ExecuteTime": {
     "end_time": "2023-11-10T21:05:07.912566Z",
     "start_time": "2023-11-10T20:52:23.217407Z"
    }
   },
   "id": "c33f8e0f3f50c5f5"
  },
  {
   "cell_type": "code",
   "execution_count": 11,
   "outputs": [],
   "source": [
    "# plot the distribution of the language\n",
    "import seaborn as sns"
   ],
   "metadata": {
    "collapsed": false,
    "ExecuteTime": {
     "end_time": "2023-11-10T21:12:25.247643Z",
     "start_time": "2023-11-10T21:12:25.236995Z"
    }
   },
   "id": "a9bf040334fa47dc"
  },
  {
   "cell_type": "code",
   "execution_count": 12,
   "outputs": [
    {
     "data": {
      "text/plain": "<Axes: xlabel='lang', ylabel='count'>"
     },
     "execution_count": 12,
     "metadata": {},
     "output_type": "execute_result"
    },
    {
     "data": {
      "text/plain": "<Figure size 640x480 with 1 Axes>",
      "image/png": "[encoded data removed]"
     },
     "metadata": {},
     "output_type": "display_data"
    }
   ],
   "source": [
    "sns.countplot(x='lang', data=job_description)"
   ],
   "metadata": {
    "collapsed": false,
    "ExecuteTime": {
     "end_time": "2023-11-10T21:12:29.989978Z",
     "start_time": "2023-11-10T21:12:29.696465Z"
    }
   },
   "id": "1c1be88ff95333d2"
  },
  {
   "cell_type": "code",
   "execution_count": 14,
   "outputs": [],
   "source": [
    "# filter out the jobs that contains job_title or clean_text not in english\n",
    "job_description = job_description[(job_description['lang'] == 'en')]"
   ],
   "metadata": {
    "collapsed": false,
    "ExecuteTime": {
     "end_time": "2023-11-10T21:12:55.264175Z",
     "start_time": "2023-11-10T21:12:55.076743Z"
    }
   },
   "id": "d81af915576693ab"
  },
  {
   "cell_type": "code",
   "execution_count": 15,
   "outputs": [
    {
     "data": {
      "text/plain": "(154526, 5)"
     },
     "execution_count": 15,
     "metadata": {},
     "output_type": "execute_result"
    }
   ],
   "source": [
    "job_description.shape"
   ],
   "metadata": {
    "collapsed": false,
    "ExecuteTime": {
     "end_time": "2023-11-10T21:13:00.109082Z",
     "start_time": "2023-11-10T21:13:00.097969Z"
    }
   },
   "id": "e299db503111eaf8"
  },
  {
   "cell_type": "code",
   "execution_count": 16,
   "outputs": [],
   "source": [
    "skills = pd.read_parquet('../dataset/Skills.parquet')"
   ],
   "metadata": {
    "collapsed": false,
    "ExecuteTime": {
     "end_time": "2023-11-10T21:14:05.069183Z",
     "start_time": "2023-11-10T21:14:05.045660Z"
    }
   },
   "id": "10bc0b48cb1e5fed"
  },
  {
   "cell_type": "code",
   "execution_count": 17,
   "outputs": [
    {
     "data": {
      "text/plain": "  O*NET-SOC Code Element ID           Element Name Scale ID  Data Value    N  \\\n0     11-1011.00    2.A.1.a  Reading Comprehension       IM        4.12  8.0   \n1     11-1011.00    2.A.1.a  Reading Comprehension       LV        4.75  8.0   \n2     11-1011.00    2.A.1.b       Active Listening       IM        4.12  8.0   \n3     11-1011.00    2.A.1.b       Active Listening       LV        4.88  8.0   \n4     11-1011.00    2.A.1.c                Writing       IM        4.00  8.0   \n\n   Standard Error  Lower CI Bound  Upper CI Bound Recommend Suppress  \\\n0            0.13            3.88            4.37                  N   \n1            0.16            4.43            5.07                  N   \n2            0.13            3.88            4.37                  N   \n3            0.23            4.43            5.32                  N   \n4            0.00            4.00            4.00                  N   \n\n  Not Relevant     Date Domain Source  \n0         None  07/2014       Analyst  \n1            N  07/2014       Analyst  \n2         None  07/2014       Analyst  \n3            N  07/2014       Analyst  \n4         None  07/2014       Analyst  ",
      "text/html": "<div>\n<style scoped>\n    .dataframe tbody tr th:only-of-type {\n        vertical-align: middle;\n    }\n\n    .dataframe tbody tr th {\n        vertical-align: top;\n    }\n\n    .dataframe thead th {\n        text-align: right;\n    }\n</style>\n<table border=\"1\" class=\"dataframe\">\n  <thead>\n    <tr style=\"text-align: right;\">\n      <th></th>\n      <th>O*NET-SOC Code</th>\n      <th>Element ID</th>\n      <th>Element Name</th>\n      <th>Scale ID</th>\n      <th>Data Value</th>\n      <th>N</th>\n      <th>Standard Error</th>\n      <th>Lower CI Bound</th>\n      <th>Upper CI Bound</th>\n      <th>Recommend Suppress</th>\n      <th>Not Relevant</th>\n      <th>Date</th>\n      <th>Domain Source</th>\n    </tr>\n  </thead>\n  <tbody>\n    <tr>\n      <th>0</th>\n      <td>11-1011.00</td>\n      <td>2.A.1.a</td>\n      <td>Reading Comprehension</td>\n      <td>IM</td>\n      <td>4.12</td>\n      <td>8.0</td>\n      <td>0.13</td>\n      <td>3.88</td>\n      <td>4.37</td>\n      <td>N</td>\n      <td>None</td>\n      <td>07/2014</td>\n      <td>Analyst</td>\n    </tr>\n    <tr>\n      <th>1</th>\n      <td>11-1011.00</td>\n      <td>2.A.1.a</td>\n      <td>Reading Comprehension</td>\n      <td>LV</td>\n      <td>4.75</td>\n      <td>8.0</td>\n      <td>0.16</td>\n      <td>4.43</td>\n      <td>5.07</td>\n      <td>N</td>\n      <td>N</td>\n      <td>07/2014</td>\n      <td>Analyst</td>\n    </tr>\n    <tr>\n      <th>2</th>\n      <td>11-1011.00</td>\n      <td>2.A.1.b</td>\n      <td>Active Listening</td>\n      <td>IM</td>\n      <td>4.12</td>\n      <td>8.0</td>\n      <td>0.13</td>\n      <td>3.88</td>\n      <td>4.37</td>\n      <td>N</td>\n      <td>None</td>\n      <td>07/2014</td>\n      <td>Analyst</td>\n    </tr>\n    <tr>\n      <th>3</th>\n      <td>11-1011.00</td>\n      <td>2.A.1.b</td>\n      <td>Active Listening</td>\n      <td>LV</td>\n      <td>4.88</td>\n      <td>8.0</td>\n      <td>0.23</td>\n      <td>4.43</td>\n      <td>5.32</td>\n      <td>N</td>\n      <td>N</td>\n      <td>07/2014</td>\n      <td>Analyst</td>\n    </tr>\n    <tr>\n      <th>4</th>\n      <td>11-1011.00</td>\n      <td>2.A.1.c</td>\n      <td>Writing</td>\n      <td>IM</td>\n      <td>4.00</td>\n      <td>8.0</td>\n      <td>0.00</td>\n      <td>4.00</td>\n      <td>4.00</td>\n      <td>N</td>\n      <td>None</td>\n      <td>07/2014</td>\n      <td>Analyst</td>\n    </tr>\n  </tbody>\n</table>\n</div>"
     },
     "execution_count": 17,
     "metadata": {},
     "output_type": "execute_result"
    }
   ],
   "source": [
    "skills.head()"
   ],
   "metadata": {
    "collapsed": false,
    "ExecuteTime": {
     "end_time": "2023-11-10T21:14:06.725448Z",
     "start_time": "2023-11-10T21:14:06.714814Z"
    }
   },
   "id": "7ccde263dd6f4e37"
  },
  {
   "cell_type": "code",
   "execution_count": 18,
   "outputs": [
    {
     "data": {
      "text/plain": "(61110, 13)"
     },
     "execution_count": 18,
     "metadata": {},
     "output_type": "execute_result"
    }
   ],
   "source": [
    "skills.shape"
   ],
   "metadata": {
    "collapsed": false,
    "ExecuteTime": {
     "end_time": "2023-11-10T21:14:26.030737Z",
     "start_time": "2023-11-10T21:14:26.021376Z"
    }
   },
   "id": "9cd9339eba11da23"
  },
  {
   "cell_type": "code",
   "execution_count": 19,
   "outputs": [
    {
     "data": {
      "text/plain": "array(['Reading Comprehension', 'Active Listening', 'Writing', 'Speaking',\n       'Mathematics', 'Science', 'Critical Thinking', 'Active Learning',\n       'Learning Strategies', 'Monitoring', 'Social Perceptiveness',\n       'Coordination', 'Persuasion', 'Negotiation', 'Instructing',\n       'Service Orientation', 'Complex Problem Solving',\n       'Operations Analysis', 'Technology Design', 'Equipment Selection',\n       'Installation', 'Programming', 'Operations Monitoring',\n       'Operation and Control', 'Equipment Maintenance',\n       'Troubleshooting', 'Repairing', 'Quality Control Analysis',\n       'Judgment and Decision Making', 'Systems Analysis',\n       'Systems Evaluation', 'Time Management',\n       'Management of Financial Resources',\n       'Management of Material Resources',\n       'Management of Personnel Resources'], dtype=object)"
     },
     "execution_count": 19,
     "metadata": {},
     "output_type": "execute_result"
    }
   ],
   "source": [
    "# unique Element Name in skills\n",
    "skills['Element Name'].unique()"
   ],
   "metadata": {
    "collapsed": false,
    "ExecuteTime": {
     "end_time": "2023-11-10T21:15:53.694464Z",
     "start_time": "2023-11-10T21:15:53.684887Z"
    }
   },
   "id": "74d4427c74ac41d6"
  },
  {
   "cell_type": "code",
   "execution_count": null,
   "outputs": [],
   "source": [],
   "metadata": {
    "collapsed": false
   },
   "id": "ab632c6b8d8f1433"
  }
 ],
 "metadata": {
  "kernelspec": {
   "display_name": "Python 3",
   "language": "python",
   "name": "python3"
  },
  "language_info": {
   "codemirror_mode": {
    "name": "ipython",
    "version": 2
   },
   "file_extension": ".py",
   "mimetype": "text/x-python",
   "name": "python",
   "nbconvert_exporter": "python",
   "pygments_lexer": "ipython2",
   "version": "2.7.6"
  }
 },
 "nbformat": 4,
 "nbformat_minor": 5
}
